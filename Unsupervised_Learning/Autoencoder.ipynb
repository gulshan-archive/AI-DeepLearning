{
  "nbformat": 4,
  "nbformat_minor": 0,
  "metadata": {
    "colab": {
      "name": "Autoencoder.ipynb",
      "provenance": [],
      "collapsed_sections": []
    },
    "kernelspec": {
      "name": "python3",
      "display_name": "Python 3"
    },
    "accelerator": "GPU"
  },
  "cells": [
    {
      "cell_type": "code",
      "metadata": {
        "id": "DAeKTpF78Q5T",
        "colab_type": "code",
        "colab": {
          "base_uri": "https://localhost:8080/",
          "height": 825
        },
        "outputId": "2c64e5e5-923c-4486-e957-f0ad94516cad"
      },
      "source": [
        "! pip install tf-nightly"
      ],
      "execution_count": 45,
      "outputs": [
        {
          "output_type": "stream",
          "text": [
            "Collecting tf-nightly\n",
            "\u001b[?25l  Downloading https://files.pythonhosted.org/packages/fc/2b/670bae23b57f66cce266a041d8f73738eee0e5cdfabdf7e05a0052310e4f/tf_nightly-2.1.0.dev20191006-cp36-cp36m-manylinux2010_x86_64.whl (396.6MB)\n",
            "\u001b[K     |████████████████████████████████| 396.6MB 81kB/s \n",
            "\u001b[?25hRequirement already satisfied: wrapt>=1.11.1 in /usr/local/lib/python3.6/dist-packages (from tf-nightly) (1.11.2)\n",
            "Requirement already satisfied: keras-applications>=1.0.8 in /usr/local/lib/python3.6/dist-packages (from tf-nightly) (1.0.8)\n",
            "Requirement already satisfied: keras-preprocessing>=1.0.5 in /usr/local/lib/python3.6/dist-packages (from tf-nightly) (1.1.0)\n",
            "Requirement already satisfied: opt-einsum>=2.3.2 in /usr/local/lib/python3.6/dist-packages (from tf-nightly) (3.0.1)\n",
            "Requirement already satisfied: grpcio>=1.8.6 in /usr/local/lib/python3.6/dist-packages (from tf-nightly) (1.15.0)\n",
            "Requirement already satisfied: wheel>=0.26; python_version >= \"3\" in /usr/local/lib/python3.6/dist-packages (from tf-nightly) (0.33.6)\n",
            "Requirement already satisfied: astor>=0.6.0 in /usr/local/lib/python3.6/dist-packages (from tf-nightly) (0.8.0)\n",
            "Requirement already satisfied: six>=1.10.0 in /usr/local/lib/python3.6/dist-packages (from tf-nightly) (1.12.0)\n",
            "Requirement already satisfied: numpy<2.0,>=1.16.0 in /usr/local/lib/python3.6/dist-packages (from tf-nightly) (1.16.5)\n",
            "Collecting gast==0.2.2 (from tf-nightly)\n",
            "  Downloading https://files.pythonhosted.org/packages/4e/35/11749bf99b2d4e3cceb4d55ca22590b0d7c2c62b9de38ac4a4a7f4687421/gast-0.2.2.tar.gz\n",
            "Requirement already satisfied: protobuf>=3.6.1 in /usr/local/lib/python3.6/dist-packages (from tf-nightly) (3.7.1)\n",
            "Requirement already satisfied: absl-py>=0.7.0 in /usr/local/lib/python3.6/dist-packages (from tf-nightly) (0.8.0)\n",
            "Collecting tf-estimator-nightly (from tf-nightly)\n",
            "\u001b[?25l  Downloading https://files.pythonhosted.org/packages/3e/c1/f71fe8399839164b42fd3d5b6358e30249235c00c078cde3ca646473b098/tf_estimator_nightly-2.0.0.dev2019100601-py2.py3-none-any.whl (450kB)\n",
            "\u001b[K     |████████████████████████████████| 450kB 35.4MB/s \n",
            "\u001b[?25hRequirement already satisfied: termcolor>=1.1.0 in /usr/local/lib/python3.6/dist-packages (from tf-nightly) (1.1.0)\n",
            "Collecting tb-nightly<2.2.0a0,>=2.1.0a0 (from tf-nightly)\n",
            "\u001b[?25l  Downloading https://files.pythonhosted.org/packages/98/69/ba529b096dd747bdd5789fd248fccf816e19c132c0f72a2492698020f2b0/tb_nightly-2.1.0a20191006-py3-none-any.whl (3.8MB)\n",
            "\u001b[K     |████████████████████████████████| 3.8MB 45.2MB/s \n",
            "\u001b[?25hRequirement already satisfied: google-pasta>=0.1.6 in /usr/local/lib/python3.6/dist-packages (from tf-nightly) (0.1.7)\n",
            "Requirement already satisfied: h5py in /usr/local/lib/python3.6/dist-packages (from keras-applications>=1.0.8->tf-nightly) (2.8.0)\n",
            "Requirement already satisfied: setuptools in /usr/local/lib/python3.6/dist-packages (from protobuf>=3.6.1->tf-nightly) (41.2.0)\n",
            "Requirement already satisfied: werkzeug>=0.11.15 in /usr/local/lib/python3.6/dist-packages (from tb-nightly<2.2.0a0,>=2.1.0a0->tf-nightly) (0.16.0)\n",
            "Requirement already satisfied: markdown>=2.6.8 in /usr/local/lib/python3.6/dist-packages (from tb-nightly<2.2.0a0,>=2.1.0a0->tf-nightly) (3.1.1)\n",
            "Building wheels for collected packages: gast\n",
            "  Building wheel for gast (setup.py) ... \u001b[?25l\u001b[?25hdone\n",
            "  Created wheel for gast: filename=gast-0.2.2-cp36-none-any.whl size=7540 sha256=9fdf85942d00d35a2c6ce5eb1c736f3b62de21a1ba2f6b75894de37d963dfb46\n",
            "  Stored in directory: /root/.cache/pip/wheels/5c/2e/7e/a1d4d4fcebe6c381f378ce7743a3ced3699feb89bcfbdadadd\n",
            "Successfully built gast\n",
            "Installing collected packages: gast, tf-estimator-nightly, tb-nightly, tf-nightly\n",
            "  Found existing installation: gast 0.3.2\n",
            "    Uninstalling gast-0.3.2:\n",
            "      Successfully uninstalled gast-0.3.2\n",
            "Successfully installed gast-0.2.2 tb-nightly-2.1.0a20191006 tf-estimator-nightly-2.0.0.dev2019100601 tf-nightly-2.1.0.dev20191006\n"
          ],
          "name": "stdout"
        },
        {
          "output_type": "display_data",
          "data": {
            "application/vnd.colab-display-data+json": {
              "pip_warning": {
                "packages": [
                  "gast",
                  "tensorboard",
                  "tensorflow",
                  "tensorflow_estimator"
                ]
              }
            }
          },
          "metadata": {
            "tags": []
          }
        }
      ]
    },
    {
      "cell_type": "markdown",
      "metadata": {
        "id": "EvDcydpa53TQ",
        "colab_type": "text"
      },
      "source": [
        "## Import Modules"
      ]
    },
    {
      "cell_type": "code",
      "metadata": {
        "id": "hMXkg9VJmhoo",
        "colab_type": "code",
        "outputId": "22faf872-2fe4-4c43-a037-f44570d0cb41",
        "colab": {
          "base_uri": "https://localhost:8080/",
          "height": 35
        }
      },
      "source": [
        "import tensorflow as tf\n",
        "print(tf.__version__)\n",
        "import numpy as np\n",
        "from tensorflow.keras.datasets import mnist\n",
        "from tensorflow.keras.models import Sequential\n",
        "from tensorflow.keras.layers import Dense\n",
        "from tensorflow.keras.layers import Dropout\n",
        "from tensorflow.keras.layers import Flatten\n",
        "from tensorflow.keras.layers import Conv2D\n",
        "from tensorflow.keras.layers import MaxPooling2D\n",
        "# from tensorflow.keras.utils import np_utils\n",
        "from tensorflow.keras.layers import Reshape\n",
        "from tensorflow.keras.layers import Conv2DTranspose"
      ],
      "execution_count": 1,
      "outputs": [
        {
          "output_type": "stream",
          "text": [
            "1.14.0\n"
          ],
          "name": "stdout"
        }
      ]
    },
    {
      "cell_type": "markdown",
      "metadata": {
        "id": "UyXE53-t65_Z",
        "colab_type": "text"
      },
      "source": [
        "## Import MNIST Dataset"
      ]
    },
    {
      "cell_type": "code",
      "metadata": {
        "id": "JOdSCu0QmpzB",
        "colab_type": "code",
        "colab": {
          "base_uri": "https://localhost:8080/",
          "height": 54
        },
        "outputId": "01326a99-d5d8-4d6f-ab18-0fb4a3e39567"
      },
      "source": [
        "(X_train, y_train), (X_test, y_test) = tf.keras.datasets.mnist.load_data()\n",
        "print(X_train.shape)\n",
        "print(y_train.shape)"
      ],
      "execution_count": 9,
      "outputs": [
        {
          "output_type": "stream",
          "text": [
            "(60000, 28, 28)\n",
            "(60000,)\n"
          ],
          "name": "stdout"
        }
      ]
    },
    {
      "cell_type": "markdown",
      "metadata": {
        "id": "B0Bou9Wb75g7",
        "colab_type": "text"
      },
      "source": [
        "## Rescale & Train Dataset"
      ]
    },
    {
      "cell_type": "code",
      "metadata": {
        "id": "7z9U8sxgmtSE",
        "colab_type": "code",
        "colab": {
          "base_uri": "https://localhost:8080/",
          "height": 54
        },
        "outputId": "cbb0a16b-4b5a-4698-f867-e8860c8d18df"
      },
      "source": [
        "X_train = X_train.reshape(X_train.shape[0],X_train.shape[1]*X_train.shape[2])\n",
        "X_test = X_test.reshape(X_test.shape[0],X_test.shape[1]*X_test.shape[2])\n",
        "\n",
        "X_train = X_train/255   # scale dataset\n",
        "X_test = X_test/255     # scale dataset\n",
        "\n",
        "print(X_train.shape)\n",
        "print(X_test.shape)"
      ],
      "execution_count": 10,
      "outputs": [
        {
          "output_type": "stream",
          "text": [
            "(60000, 784)\n",
            "(10000, 784)\n"
          ],
          "name": "stdout"
        }
      ]
    },
    {
      "cell_type": "markdown",
      "metadata": {
        "id": "_OG0a30b-i9e",
        "colab_type": "text"
      },
      "source": [
        "## Define the Model"
      ]
    },
    {
      "cell_type": "code",
      "metadata": {
        "id": "T0C7g8aEznu3",
        "colab_type": "code",
        "outputId": "fea9ae0f-89d2-4c0f-e49c-3c5a9f16db4e",
        "colab": {
          "base_uri": "https://localhost:8080/",
          "height": 237
        }
      },
      "source": [
        "model = Sequential()\n",
        "# represent a 784-dimensional input in a 32-dimensional encoded version\n",
        "model.add(Dense(32, input_dim=784, activation='relu')) \n",
        "model.add(Dense(784, activation='relu'))\n",
        "model.summary()"
      ],
      "execution_count": 11,
      "outputs": [
        {
          "output_type": "stream",
          "text": [
            "Model: \"sequential\"\n",
            "_________________________________________________________________\n",
            "Layer (type)                 Output Shape              Param #   \n",
            "=================================================================\n",
            "dense (Dense)                (None, 32)                25120     \n",
            "_________________________________________________________________\n",
            "dense_1 (Dense)              (None, 784)               25872     \n",
            "=================================================================\n",
            "Total params: 50,992\n",
            "Trainable params: 50,992\n",
            "Non-trainable params: 0\n",
            "_________________________________________________________________\n"
          ],
          "name": "stdout"
        }
      ]
    },
    {
      "cell_type": "markdown",
      "metadata": {
        "id": "T_zLZ9km-lpb",
        "colab_type": "text"
      },
      "source": [
        "## Compile the Model"
      ]
    },
    {
      "cell_type": "code",
      "metadata": {
        "id": "Mv31ZYWIznxh",
        "colab_type": "code",
        "outputId": "4f16cbc7-ac89-44bf-bb01-c7a165a23b71",
        "colab": {
          "base_uri": "https://localhost:8080/",
          "height": 421
        }
      },
      "source": [
        "# Use the mean squared error loss function, as the pixel values are continuous\n",
        "model.compile(loss='mean_squared_error', optimizer='adam',metrics=['accuracy'])\n",
        "\n",
        "# The input and output arrays are just the same—X_train\n",
        "model.fit(X_train, X_train, validation_data=(X_test, X_test),epochs=10, batch_size=1024, verbose=1)"
      ],
      "execution_count": 12,
      "outputs": [
        {
          "output_type": "stream",
          "text": [
            "Train on 60000 samples, validate on 10000 samples\n",
            "Epoch 1/10\n",
            "60000/60000 [==============================] - 1s 19us/sample - loss: 0.0691 - accuracy: 0.0057 - val_loss: 0.0493 - val_accuracy: 0.0080\n",
            "Epoch 2/10\n",
            "60000/60000 [==============================] - 1s 10us/sample - loss: 0.0401 - accuracy: 0.0098 - val_loss: 0.0325 - val_accuracy: 0.0107\n",
            "Epoch 3/10\n",
            "60000/60000 [==============================] - 1s 11us/sample - loss: 0.0295 - accuracy: 0.0097 - val_loss: 0.0259 - val_accuracy: 0.0104\n",
            "Epoch 4/10\n",
            "60000/60000 [==============================] - 1s 10us/sample - loss: 0.0241 - accuracy: 0.0094 - val_loss: 0.0218 - val_accuracy: 0.0090\n",
            "Epoch 5/10\n",
            "60000/60000 [==============================] - 1s 10us/sample - loss: 0.0211 - accuracy: 0.0098 - val_loss: 0.0197 - val_accuracy: 0.0106\n",
            "Epoch 6/10\n",
            "60000/60000 [==============================] - 1s 11us/sample - loss: 0.0195 - accuracy: 0.0101 - val_loss: 0.0185 - val_accuracy: 0.0095\n",
            "Epoch 7/10\n",
            "60000/60000 [==============================] - 1s 11us/sample - loss: 0.0183 - accuracy: 0.0104 - val_loss: 0.0171 - val_accuracy: 0.0099\n",
            "Epoch 8/10\n",
            "60000/60000 [==============================] - 1s 10us/sample - loss: 0.0171 - accuracy: 0.0109 - val_loss: 0.0163 - val_accuracy: 0.0107\n",
            "Epoch 9/10\n",
            "60000/60000 [==============================] - 1s 11us/sample - loss: 0.0163 - accuracy: 0.0114 - val_loss: 0.0157 - val_accuracy: 0.0103\n",
            "Epoch 10/10\n",
            "60000/60000 [==============================] - 1s 11us/sample - loss: 0.0159 - accuracy: 0.0110 - val_loss: 0.0154 - val_accuracy: 0.0122\n"
          ],
          "name": "stdout"
        },
        {
          "output_type": "execute_result",
          "data": {
            "text/plain": [
              "<tensorflow.python.keras.callbacks.History at 0x7fedc18c6128>"
            ]
          },
          "metadata": {
            "tags": []
          },
          "execution_count": 12
        }
      ]
    },
    {
      "cell_type": "markdown",
      "metadata": {
        "id": "qem3maPeGRjU",
        "colab_type": "text"
      },
      "source": [
        "## Display first 4 reconstructed images\n",
        "From here, we can see that the reconstructed images are blurred"
      ]
    },
    {
      "cell_type": "code",
      "metadata": {
        "id": "LRxla69y0DXV",
        "colab_type": "code",
        "outputId": "0efcfd8a-01c9-41fb-d3a9-40e2b854e324",
        "colab": {
          "base_uri": "https://localhost:8080/",
          "height": 268
        }
      },
      "source": [
        "import matplotlib.pyplot as plt\n",
        "%matplotlib inline\n",
        "\n",
        "plt.subplot(2,2,1)\n",
        "plt.imshow(model.predict(X_test[0,:].reshape(1,784)).reshape(28,28), cmap=plt.get_cmap('gray'))\n",
        "plt.axis('off')\n",
        "plt.subplot(2,2,2)\n",
        "plt.imshow(model.predict(X_test[1,:].reshape(1,784)).reshape(28,28), cmap=plt.get_cmap('gray'))\n",
        "plt.axis('off')\n",
        "plt.subplot(2,2,3)\n",
        "plt.imshow(model.predict(X_test[2,:].reshape(1,784)).reshape(28,28), cmap=plt.get_cmap('gray'))\n",
        "plt.axis('off')\n",
        "plt.subplot(2,2,4)\n",
        "plt.imshow(model.predict(X_test[3,:].reshape(1,784)).reshape(28,28), cmap=plt.get_cmap('gray'))\n",
        "plt.axis('off')\n",
        "plt.show()"
      ],
      "execution_count": 6,
      "outputs": [
        {
          "output_type": "display_data",
          "data": {
            "image/png": "[encoded data removed]",
            "text/plain": [
              "<Figure size 432x288 with 4 Axes>"
            ]
          },
          "metadata": {
            "tags": []
          }
        }
      ]
    },
    {
      "cell_type": "markdown",
      "metadata": {
        "id": "NAO2WH1wHr5j",
        "colab_type": "text"
      },
      "source": [
        "## First 4 test Actual Images"
      ]
    },
    {
      "cell_type": "code",
      "metadata": {
        "id": "7GMWbCeSHdI7",
        "colab_type": "code",
        "colab": {
          "base_uri": "https://localhost:8080/",
          "height": 268
        },
        "outputId": "669bfd6b-3180-4221-d04b-02085f787fb5"
      },
      "source": [
        "import matplotlib.pyplot as plt\n",
        "%matplotlib inline\n",
        "\n",
        "plt.subplot(2,2,1)\n",
        "plt.imshow((X_test[0,:].reshape(1,784)).reshape(28,28), cmap=plt.get_cmap('gray'))\n",
        "plt.axis('off')\n",
        "plt.subplot(2,2,2)\n",
        "plt.imshow((X_test[1,:].reshape(1,784)).reshape(28,28), cmap=plt.get_cmap('gray'))\n",
        "plt.axis('off')\n",
        "plt.subplot(2,2,3)\n",
        "plt.imshow((X_test[2,:].reshape(1,784)).reshape(28,28), cmap=plt.get_cmap('gray'))\n",
        "plt.axis('off')\n",
        "plt.subplot(2,2,4)\n",
        "plt.imshow((X_test[3,:].reshape(1,784)).reshape(28,28), cmap=plt.get_cmap('gray'))\n",
        "plt.axis('off')\n",
        "plt.show()"
      ],
      "execution_count": 13,
      "outputs": [
        {
          "output_type": "display_data",
          "data": {
            "image/png": "[encoded data removed]",
            "text/plain": [
              "<Figure size 432x288 with 4 Axes>"
            ]
          },
          "metadata": {
            "tags": []
          }
        }
      ]
    },
    {
      "cell_type": "code",
      "metadata": {
        "id": "sGNUbmNZ0DaP",
        "colab_type": "code",
        "colab": {}
      },
      "source": [
        ""
      ],
      "execution_count": 0,
      "outputs": []
    },
    {
      "cell_type": "code",
      "metadata": {
        "id": "AxYvx1DE0G-m",
        "colab_type": "code",
        "colab": {}
      },
      "source": [
        ""
      ],
      "execution_count": 0,
      "outputs": []
    },
    {
      "cell_type": "markdown",
      "metadata": {
        "id": "WM0IgrgW0HK7",
        "colab_type": "text"
      },
      "source": [
        "# Multi-layer auto encoder"
      ]
    },
    {
      "cell_type": "markdown",
      "metadata": {
        "id": "9VzHBJ5WKF3D",
        "colab_type": "text"
      },
      "source": [
        "## Define the Model\n",
        "our first hidden layer has 100 neurons, the second hidden layer (which is the embedded version of the image) is 32-dimensional, and the third hidden layer is 100-dimensional in shape."
      ]
    },
    {
      "cell_type": "code",
      "metadata": {
        "id": "h-ayrU3A0JkJ",
        "colab_type": "code",
        "outputId": "0bee0c42-a0ff-439d-b489-907b37dc855e",
        "colab": {
          "base_uri": "https://localhost:8080/",
          "height": 311
        }
      },
      "source": [
        "model = Sequential()\n",
        "model.add(Dense(100, input_dim=784, activation='relu'))\n",
        "model.add(Dense(32,activation='relu'))\n",
        "model.add(Dense(100,activation='relu'))\n",
        "model.add(Dense(784, activation='relu'))\n",
        "model.summary()"
      ],
      "execution_count": 15,
      "outputs": [
        {
          "output_type": "stream",
          "text": [
            "Model: \"sequential_2\"\n",
            "_________________________________________________________________\n",
            "Layer (type)                 Output Shape              Param #   \n",
            "=================================================================\n",
            "dense_6 (Dense)              (None, 100)               78500     \n",
            "_________________________________________________________________\n",
            "dense_7 (Dense)              (None, 32)                3232      \n",
            "_________________________________________________________________\n",
            "dense_8 (Dense)              (None, 100)               3300      \n",
            "_________________________________________________________________\n",
            "dense_9 (Dense)              (None, 784)               79184     \n",
            "=================================================================\n",
            "Total params: 164,216\n",
            "Trainable params: 164,216\n",
            "Non-trainable params: 0\n",
            "_________________________________________________________________\n"
          ],
          "name": "stdout"
        }
      ]
    },
    {
      "cell_type": "markdown",
      "metadata": {
        "id": "aroYoYU-KLQB",
        "colab_type": "text"
      },
      "source": [
        "## Compile the Model"
      ]
    },
    {
      "cell_type": "code",
      "metadata": {
        "id": "gFcEzhAq0JoT",
        "colab_type": "code",
        "outputId": "2a9d0be6-1638-4dd5-ddc4-9f0cb3dd848d",
        "colab": {
          "base_uri": "https://localhost:8080/",
          "height": 972
        }
      },
      "source": [
        "# Use the mean squared error loss function, as the pixel values are continuous\n",
        "model.compile(loss='mean_squared_error', optimizer='adam', metrics=['accuracy'])\n",
        "\n",
        "# The input and output arrays are just the same—X_train\n",
        "model.fit(X_train, X_train, validation_data=(X_test, X_test),epochs=25, batch_size=1024, verbose=1)"
      ],
      "execution_count": 17,
      "outputs": [
        {
          "output_type": "stream",
          "text": [
            "Train on 60000 samples, validate on 10000 samples\n",
            "Epoch 1/25\n",
            "60000/60000 [==============================] - 1s 19us/sample - loss: 0.0154 - accuracy: 0.0124 - val_loss: 0.0135 - val_accuracy: 0.0127\n",
            "Epoch 2/25\n",
            "60000/60000 [==============================] - 1s 12us/sample - loss: 0.0137 - accuracy: 0.0121 - val_loss: 0.0134 - val_accuracy: 0.0127\n",
            "Epoch 3/25\n",
            "60000/60000 [==============================] - 1s 12us/sample - loss: 0.0137 - accuracy: 0.0123 - val_loss: 0.0134 - val_accuracy: 0.0131\n",
            "Epoch 4/25\n",
            "60000/60000 [==============================] - 1s 12us/sample - loss: 0.0136 - accuracy: 0.0123 - val_loss: 0.0134 - val_accuracy: 0.0121\n",
            "Epoch 5/25\n",
            "60000/60000 [==============================] - 1s 12us/sample - loss: 0.0136 - accuracy: 0.0124 - val_loss: 0.0133 - val_accuracy: 0.0132\n",
            "Epoch 6/25\n",
            "60000/60000 [==============================] - 1s 12us/sample - loss: 0.0136 - accuracy: 0.0122 - val_loss: 0.0133 - val_accuracy: 0.0133\n",
            "Epoch 7/25\n",
            "60000/60000 [==============================] - 1s 12us/sample - loss: 0.0135 - accuracy: 0.0121 - val_loss: 0.0133 - val_accuracy: 0.0142\n",
            "Epoch 8/25\n",
            "60000/60000 [==============================] - 1s 12us/sample - loss: 0.0135 - accuracy: 0.0125 - val_loss: 0.0132 - val_accuracy: 0.0128\n",
            "Epoch 9/25\n",
            "60000/60000 [==============================] - 1s 12us/sample - loss: 0.0134 - accuracy: 0.0121 - val_loss: 0.0132 - val_accuracy: 0.0129\n",
            "Epoch 10/25\n",
            "60000/60000 [==============================] - 1s 12us/sample - loss: 0.0134 - accuracy: 0.0121 - val_loss: 0.0132 - val_accuracy: 0.0120\n",
            "Epoch 11/25\n",
            "60000/60000 [==============================] - 1s 12us/sample - loss: 0.0134 - accuracy: 0.0126 - val_loss: 0.0131 - val_accuracy: 0.0136\n",
            "Epoch 12/25\n",
            "60000/60000 [==============================] - 1s 12us/sample - loss: 0.0133 - accuracy: 0.0126 - val_loss: 0.0131 - val_accuracy: 0.0134\n",
            "Epoch 13/25\n",
            "60000/60000 [==============================] - 1s 12us/sample - loss: 0.0133 - accuracy: 0.0130 - val_loss: 0.0131 - val_accuracy: 0.0132\n",
            "Epoch 14/25\n",
            "60000/60000 [==============================] - 1s 12us/sample - loss: 0.0132 - accuracy: 0.0123 - val_loss: 0.0130 - val_accuracy: 0.0123\n",
            "Epoch 15/25\n",
            "60000/60000 [==============================] - 1s 12us/sample - loss: 0.0132 - accuracy: 0.0122 - val_loss: 0.0130 - val_accuracy: 0.0128\n",
            "Epoch 16/25\n",
            "60000/60000 [==============================] - 1s 11us/sample - loss: 0.0132 - accuracy: 0.0122 - val_loss: 0.0130 - val_accuracy: 0.0127\n",
            "Epoch 17/25\n",
            "60000/60000 [==============================] - 1s 12us/sample - loss: 0.0132 - accuracy: 0.0129 - val_loss: 0.0129 - val_accuracy: 0.0137\n",
            "Epoch 18/25\n",
            "60000/60000 [==============================] - 1s 12us/sample - loss: 0.0131 - accuracy: 0.0133 - val_loss: 0.0129 - val_accuracy: 0.0127\n",
            "Epoch 19/25\n",
            "60000/60000 [==============================] - 1s 12us/sample - loss: 0.0131 - accuracy: 0.0127 - val_loss: 0.0129 - val_accuracy: 0.0112\n",
            "Epoch 20/25\n",
            "60000/60000 [==============================] - 1s 12us/sample - loss: 0.0130 - accuracy: 0.0123 - val_loss: 0.0128 - val_accuracy: 0.0114\n",
            "Epoch 21/25\n",
            "60000/60000 [==============================] - 1s 12us/sample - loss: 0.0130 - accuracy: 0.0124 - val_loss: 0.0128 - val_accuracy: 0.0124\n",
            "Epoch 22/25\n",
            "60000/60000 [==============================] - 1s 12us/sample - loss: 0.0130 - accuracy: 0.0127 - val_loss: 0.0128 - val_accuracy: 0.0119\n",
            "Epoch 23/25\n",
            "60000/60000 [==============================] - 1s 12us/sample - loss: 0.0129 - accuracy: 0.0133 - val_loss: 0.0127 - val_accuracy: 0.0118\n",
            "Epoch 24/25\n",
            "60000/60000 [==============================] - 1s 12us/sample - loss: 0.0129 - accuracy: 0.0130 - val_loss: 0.0127 - val_accuracy: 0.0117\n",
            "Epoch 25/25\n",
            "60000/60000 [==============================] - 1s 12us/sample - loss: 0.0129 - accuracy: 0.0124 - val_loss: 0.0127 - val_accuracy: 0.0141\n"
          ],
          "name": "stdout"
        },
        {
          "output_type": "execute_result",
          "data": {
            "text/plain": [
              "<tensorflow.python.keras.callbacks.History at 0x7fedc050e1d0>"
            ]
          },
          "metadata": {
            "tags": []
          },
          "execution_count": 17
        }
      ]
    },
    {
      "cell_type": "markdown",
      "metadata": {
        "id": "uJaZ-PUNMcGR",
        "colab_type": "text"
      },
      "source": [
        "## Show first 4 processed Image"
      ]
    },
    {
      "cell_type": "code",
      "metadata": {
        "id": "JHD8L9gg0Np-",
        "colab_type": "code",
        "outputId": "7bb05ab9-b227-4d1e-ca2c-ca5aa1aa4cb6",
        "colab": {
          "base_uri": "https://localhost:8080/",
          "height": 268
        }
      },
      "source": [
        "import matplotlib.pyplot as plt\n",
        "%matplotlib inline\n",
        "\n",
        "plt.subplot(2,2,1)\n",
        "plt.imshow(model.predict(X_test[0,:].reshape(1,784)).reshape(28,28), cmap=plt.get_cmap('gray'))\n",
        "plt.axis('off')\n",
        "plt.subplot(2,2,2)\n",
        "plt.imshow(model.predict(X_test[1,:].reshape(1,784)).reshape(28,28), cmap=plt.get_cmap('gray'))\n",
        "plt.axis('off')\n",
        "plt.subplot(2,2,3)\n",
        "plt.imshow(model.predict(X_test[2,:].reshape(1,784)).reshape(28,28), cmap=plt.get_cmap('gray'))\n",
        "plt.axis('off')\n",
        "plt.subplot(2,2,4)\n",
        "plt.imshow(model.predict(X_test[3,:].reshape(1,784)).reshape(28,28), cmap=plt.get_cmap('gray'))\n",
        "plt.axis('off')\n",
        "plt.show()"
      ],
      "execution_count": 18,
      "outputs": [
        {
          "output_type": "display_data",
          "data": {
            "image/png": "[encoded data removed]",
            "text/plain": [
              "<Figure size 432x288 with 4 Axes>"
            ]
          },
          "metadata": {
            "tags": []
          }
        }
      ]
    },
    {
      "cell_type": "code",
      "metadata": {
        "id": "ehQrEeqHK5PB",
        "colab_type": "code",
        "colab": {}
      },
      "source": [
        ""
      ],
      "execution_count": 0,
      "outputs": []
    },
    {
      "cell_type": "markdown",
      "metadata": {
        "id": "ex0sa8eD0OAb",
        "colab_type": "text"
      },
      "source": [
        "# Convolutional auto-encoder"
      ]
    },
    {
      "cell_type": "markdown",
      "metadata": {
        "id": "UBSAdWmrN9ba",
        "colab_type": "text"
      },
      "source": [
        "## Load MNIST Dataset"
      ]
    },
    {
      "cell_type": "code",
      "metadata": {
        "id": "wQOPYk0D0YWF",
        "colab_type": "code",
        "colab": {
          "base_uri": "https://localhost:8080/",
          "height": 54
        },
        "outputId": "03eaceb4-92d4-4b6f-8e15-ab933ff82c1f"
      },
      "source": [
        "(X_train, y_train), (X_test, y_test) = tf.keras.datasets.mnist.load_data()\n",
        "print(X_train.shape)\n",
        "print(y_train.shape)"
      ],
      "execution_count": 22,
      "outputs": [
        {
          "output_type": "stream",
          "text": [
            "(60000, 28, 28)\n",
            "(60000,)\n"
          ],
          "name": "stdout"
        }
      ]
    },
    {
      "cell_type": "markdown",
      "metadata": {
        "id": "gAj0bG9rODJo",
        "colab_type": "text"
      },
      "source": [
        "## Reshape and scale the dataset\n",
        "Notice the shape is different from Vanilla and Multi layer auto-encoder"
      ]
    },
    {
      "cell_type": "code",
      "metadata": {
        "id": "HyStBiQt0bwN",
        "colab_type": "code",
        "colab": {
          "base_uri": "https://localhost:8080/",
          "height": 35
        },
        "outputId": "e5d85005-647c-42ba-cccd-950758d93079"
      },
      "source": [
        "X_train = X_train.reshape(X_train.shape[0],X_train.shape[1],X_train.shape[2],1)\n",
        "X_test = X_test.reshape(X_test.shape[0],X_test.shape[1],X_test.shape[2],1)\n",
        "\n",
        "X_train = X_train/255  # scaling\n",
        "X_test = X_test/255    # scaling\n",
        "\n",
        "print(X_train.shape)"
      ],
      "execution_count": 23,
      "outputs": [
        {
          "output_type": "stream",
          "text": [
            "(60000, 28, 28, 1)\n"
          ],
          "name": "stdout"
        }
      ]
    },
    {
      "cell_type": "markdown",
      "metadata": {
        "id": "VYIZ8P6KQygd",
        "colab_type": "text"
      },
      "source": [
        "## Define the Model\n",
        "Reshape the input image so that it has a 32-dimensional embedded version in the middle of its architecture and finally upsample it so that we can reconstruct the image"
      ]
    },
    {
      "cell_type": "code",
      "metadata": {
        "id": "9-8RSr6im1pf",
        "colab_type": "code",
        "outputId": "94697246-36c0-42c1-c79f-80026dc50bfd",
        "colab": {
          "base_uri": "https://localhost:8080/",
          "height": 715
        }
      },
      "source": [
        "from tensorflow.keras.layers import UpSampling2D\n",
        "from tensorflow.keras.layers import Reshape\n",
        "from tensorflow.keras.layers import Conv2DTranspose\n",
        "\n",
        "model = Sequential()\n",
        "model.add(Conv2D(filters=32, kernel_size=(3,3), input_shape=(28, 28,1), activation='relu',padding='same',name='conv1'))\n",
        "model.add(MaxPooling2D(pool_size=(2, 2), name='pool1'))\n",
        "model.add(Conv2D(filters=16, kernel_size=(3,3), activation='relu',padding='same', name='conv2'))\n",
        "model.add(MaxPooling2D(pool_size=(2, 2),name='pool2'))\n",
        "model.add(Conv2D(filters=8, kernel_size=(3,3), activation='relu',padding='same', name='conv3'))\n",
        "model.add(MaxPooling2D(pool_size=(2, 2),name='pool3'))\n",
        "model.add(Conv2D(filters=32, kernel_size=(3,3), activation='relu',padding='same', name='conv4'))\n",
        "model.add(MaxPooling2D(pool_size=(2, 2), name='pool4'))\n",
        "model.add(Flatten(name='flatten'))\n",
        "model.add(Reshape((1,1,32)))    # 32 dimensional image. Reshape: Reshapes an output to a certain shape\n",
        "\n",
        "# Transposed convolution layer (sometimes called Deconvolution)\n",
        "# kernel_size: An integer or tuple/list of 2 integers, specifying the height and width of the 2D convolution window.\n",
        "model.add(Conv2DTranspose(filters=8,  kernel_size=(3,3), activation='relu')) \n",
        "model.add(Conv2DTranspose(filters=16, kernel_size=(5,5), activation='relu'))\n",
        "model.add(Conv2DTranspose(filters=32, kernel_size=(8,8), activation='relu'))\n",
        "model.add(Conv2DTranspose(filters=32, kernel_size=(15,15), activation='relu'))\n",
        "model.add(Conv2D(1, (3, 3), activation='relu',padding='same'))\n",
        "model.summary()"
      ],
      "execution_count": 29,
      "outputs": [
        {
          "output_type": "stream",
          "text": [
            "Model: \"sequential_4\"\n",
            "_________________________________________________________________\n",
            "Layer (type)                 Output Shape              Param #   \n",
            "=================================================================\n",
            "conv1 (Conv2D)               (None, 28, 28, 32)        320       \n",
            "_________________________________________________________________\n",
            "pool1 (MaxPooling2D)         (None, 14, 14, 32)        0         \n",
            "_________________________________________________________________\n",
            "conv2 (Conv2D)               (None, 14, 14, 16)        4624      \n",
            "_________________________________________________________________\n",
            "pool2 (MaxPooling2D)         (None, 7, 7, 16)          0         \n",
            "_________________________________________________________________\n",
            "conv3 (Conv2D)               (None, 7, 7, 8)           1160      \n",
            "_________________________________________________________________\n",
            "pool3 (MaxPooling2D)         (None, 3, 3, 8)           0         \n",
            "_________________________________________________________________\n",
            "conv4 (Conv2D)               (None, 3, 3, 32)          2336      \n",
            "_________________________________________________________________\n",
            "pool4 (MaxPooling2D)         (None, 1, 1, 32)          0         \n",
            "_________________________________________________________________\n",
            "flatten (Flatten)            (None, 32)                0         \n",
            "_________________________________________________________________\n",
            "reshape_1 (Reshape)          (None, 1, 1, 32)          0         \n",
            "_________________________________________________________________\n",
            "conv2d_transpose_4 (Conv2DTr (None, 3, 3, 8)           2312      \n",
            "_________________________________________________________________\n",
            "conv2d_transpose_5 (Conv2DTr (None, 7, 7, 16)          3216      \n",
            "_________________________________________________________________\n",
            "conv2d_transpose_6 (Conv2DTr (None, 14, 14, 32)        32800     \n",
            "_________________________________________________________________\n",
            "conv2d_transpose_7 (Conv2DTr (None, 28, 28, 32)        230432    \n",
            "_________________________________________________________________\n",
            "conv2d_1 (Conv2D)            (None, 28, 28, 1)         289       \n",
            "=================================================================\n",
            "Total params: 277,489\n",
            "Trainable params: 277,489\n",
            "Non-trainable params: 0\n",
            "_________________________________________________________________\n"
          ],
          "name": "stdout"
        }
      ]
    },
    {
      "cell_type": "markdown",
      "metadata": {
        "id": "SPqaKJomT_Ji",
        "colab_type": "text"
      },
      "source": [
        "## Compile and Fit the Model"
      ]
    },
    {
      "cell_type": "code",
      "metadata": {
        "id": "vzpNkjlCm4Ki",
        "colab_type": "code",
        "outputId": "e7ed5a3e-8e4c-41d2-8b3d-03181a0b9207",
        "colab": {
          "base_uri": "https://localhost:8080/",
          "height": 421
        }
      },
      "source": [
        "from tensorflow.keras.optimizers import Adam\n",
        "\n",
        "adam = Adam(lr=0.001)\n",
        "model.compile(loss='mean_squared_error', optimizer='adam')\n",
        "model.fit(X_train, X_train, validation_data=(X_test, X_test),epochs=10, batch_size=1024, verbose=1)"
      ],
      "execution_count": 30,
      "outputs": [
        {
          "output_type": "stream",
          "text": [
            "Train on 60000 samples, validate on 10000 samples\n",
            "Epoch 1/10\n",
            "60000/60000 [==============================] - 8s 139us/sample - loss: 0.0686 - val_loss: 0.0635\n",
            "Epoch 2/10\n",
            "60000/60000 [==============================] - 7s 123us/sample - loss: 0.0620 - val_loss: 0.0564\n",
            "Epoch 3/10\n",
            "60000/60000 [==============================] - 7s 122us/sample - loss: 0.0481 - val_loss: 0.0399\n",
            "Epoch 4/10\n",
            "60000/60000 [==============================] - 7s 121us/sample - loss: 0.0370 - val_loss: 0.0326\n",
            "Epoch 5/10\n",
            "60000/60000 [==============================] - 7s 122us/sample - loss: 0.0311 - val_loss: 0.0289\n",
            "Epoch 6/10\n",
            "60000/60000 [==============================] - 7s 122us/sample - loss: 0.0281 - val_loss: 0.0273\n",
            "Epoch 7/10\n",
            "60000/60000 [==============================] - 7s 122us/sample - loss: 0.0259 - val_loss: 0.0243\n",
            "Epoch 8/10\n",
            "60000/60000 [==============================] - 7s 122us/sample - loss: 0.0240 - val_loss: 0.0228\n",
            "Epoch 9/10\n",
            "60000/60000 [==============================] - 7s 122us/sample - loss: 0.0228 - val_loss: 0.0224\n",
            "Epoch 10/10\n",
            "60000/60000 [==============================] - 7s 122us/sample - loss: 0.0217 - val_loss: 0.0207\n"
          ],
          "name": "stdout"
        },
        {
          "output_type": "execute_result",
          "data": {
            "text/plain": [
              "<tensorflow.python.keras.callbacks.History at 0x7fedc0278c18>"
            ]
          },
          "metadata": {
            "tags": []
          },
          "execution_count": 30
        }
      ]
    },
    {
      "cell_type": "markdown",
      "metadata": {
        "id": "idyw5Et3UNF5",
        "colab_type": "text"
      },
      "source": [
        "# Display first 4 encoded Images"
      ]
    },
    {
      "cell_type": "code",
      "metadata": {
        "id": "ykmkAQA9xPDh",
        "colab_type": "code",
        "outputId": "b33f2793-6cb1-413a-d8b4-2d68b68ffe09",
        "colab": {
          "base_uri": "https://localhost:8080/",
          "height": 268
        }
      },
      "source": [
        "import matplotlib.pyplot as plt\n",
        "%matplotlib inline\n",
        "\n",
        "plt.subplot(2,2,1)\n",
        "plt.axis('off')\n",
        "plt.imshow(model.predict(X_test[0,:,:,:].reshape(1,28,28,1)).reshape(28,28), cmap=plt.get_cmap('gray'))\n",
        "plt.subplot(2,2,2)\n",
        "plt.axis('off')\n",
        "plt.imshow(model.predict(X_test[1,:,:,:].reshape(1,28,28,1)).reshape(28,28), cmap=plt.get_cmap('gray'))\n",
        "plt.subplot(2,2,3)\n",
        "plt.axis('off')\n",
        "plt.imshow(model.predict(X_test[2,:,:,:].reshape(1,28,28,1)).reshape(28,28), cmap=plt.get_cmap('gray'))\n",
        "plt.subplot(2,2,4)\n",
        "plt.axis('off')\n",
        "plt.imshow(model.predict(X_test[3,:,:,:].reshape(1,28,28,1)).reshape(28,28), cmap=plt.get_cmap('gray'))\n",
        "plt.show()"
      ],
      "execution_count": 31,
      "outputs": [
        {
          "output_type": "display_data",
          "data": {
            "image/png": "[encoded data removed]",
            "text/plain": [
              "<Figure size 432x288 with 4 Axes>"
            ]
          },
          "metadata": {
            "tags": []
          }
        }
      ]
    },
    {
      "cell_type": "code",
      "metadata": {
        "id": "8cZEFRN3WQNQ",
        "colab_type": "code",
        "colab": {}
      },
      "source": [
        ""
      ],
      "execution_count": 0,
      "outputs": []
    },
    {
      "cell_type": "code",
      "metadata": {
        "id": "tjuz_yedWQC6",
        "colab_type": "code",
        "colab": {}
      },
      "source": [
        ""
      ],
      "execution_count": 0,
      "outputs": []
    },
    {
      "cell_type": "markdown",
      "metadata": {
        "id": "VxaWRzUe1bAp",
        "colab_type": "text"
      },
      "source": [
        "# Grouping similar images"
      ]
    },
    {
      "cell_type": "code",
      "metadata": {
        "id": "5e_GWzEctunk",
        "colab_type": "code",
        "colab": {
          "base_uri": "https://localhost:8080/",
          "height": 109
        },
        "outputId": "478810ee-95bd-4d49-edf1-c5f3e2404ef9"
      },
      "source": [
        "(X_train, y_train), (X_test, y_test) = tf.keras.datasets.mnist.load_data()\n",
        "print(X_train.shape)\n",
        "print(y_train.shape)\n",
        "\n",
        "X_train = X_train.reshape(X_train.shape[0],X_train.shape[1]*X_train.shape[2])\n",
        "X_test = X_test.reshape(X_test.shape[0],X_test.shape[1]*X_test.shape[2])\n",
        "X_train = X_train/255\n",
        "X_test = X_test/255\n",
        "\n",
        "print(X_train.shape)"
      ],
      "execution_count": 2,
      "outputs": [
        {
          "output_type": "stream",
          "text": [
            "Downloading data from https://storage.googleapis.com/tensorflow/tf-keras-datasets/mnist.npz\n",
            "11493376/11490434 [==============================] - 0s 0us/step\n",
            "(60000, 28, 28)\n",
            "(60000,)\n",
            "(60000, 784)\n"
          ],
          "name": "stdout"
        }
      ]
    },
    {
      "cell_type": "code",
      "metadata": {
        "id": "I-UrbWaMuxfh",
        "colab_type": "code",
        "outputId": "833bf7bb-d856-44f4-8972-6a37f3bf716c",
        "colab": {
          "base_uri": "https://localhost:8080/",
          "height": 313
        }
      },
      "source": [
        "model = Sequential()\n",
        "model.add(Dense(32, input_dim=784, activation='relu'))\n",
        "#model.add(Dense(32,activation='relu'))\n",
        "model.add(Dense(784, activation='relu'))\n",
        "model.summary()"
      ],
      "execution_count": 3,
      "outputs": [
        {
          "output_type": "stream",
          "text": [
            "WARNING:tensorflow:From /usr/local/lib/python3.6/dist-packages/tensorflow/python/ops/init_ops.py:1251: calling VarianceScaling.__init__ (from tensorflow.python.ops.init_ops) with dtype is deprecated and will be removed in a future version.\n",
            "Instructions for updating:\n",
            "Call initializer instance with the dtype argument instead of passing it to the constructor\n",
            "Model: \"sequential\"\n",
            "_________________________________________________________________\n",
            "Layer (type)                 Output Shape              Param #   \n",
            "=================================================================\n",
            "dense (Dense)                (None, 32)                25120     \n",
            "_________________________________________________________________\n",
            "dense_1 (Dense)              (None, 784)               25872     \n",
            "=================================================================\n",
            "Total params: 50,992\n",
            "Trainable params: 50,992\n",
            "Non-trainable params: 0\n",
            "_________________________________________________________________\n"
          ],
          "name": "stdout"
        }
      ]
    },
    {
      "cell_type": "code",
      "metadata": {
        "id": "5jCnroR7up1_",
        "colab_type": "code",
        "outputId": "0333a001-490d-48ff-fde8-1887ce9e743f",
        "colab": {
          "base_uri": "https://localhost:8080/",
          "height": 421
        }
      },
      "source": [
        "model.compile(loss='mean_squared_error', optimizer='adam',metrics=['accuracy'])\n",
        "model.fit(X_train, X_train, validation_data=(X_test, X_test),epochs=10, batch_size=1024, verbose=1)"
      ],
      "execution_count": 4,
      "outputs": [
        {
          "output_type": "stream",
          "text": [
            "Train on 60000 samples, validate on 10000 samples\n",
            "Epoch 1/10\n",
            "60000/60000 [==============================] - 2s 29us/sample - loss: 0.0681 - acc: 0.0105 - val_loss: 0.0479 - val_acc: 0.0096\n",
            "Epoch 2/10\n",
            "60000/60000 [==============================] - 1s 15us/sample - loss: 0.0384 - acc: 0.0113 - val_loss: 0.0309 - val_acc: 0.0131\n",
            "Epoch 3/10\n",
            "60000/60000 [==============================] - 1s 17us/sample - loss: 0.0277 - acc: 0.0116 - val_loss: 0.0242 - val_acc: 0.0114\n",
            "Epoch 4/10\n",
            "60000/60000 [==============================] - 1s 16us/sample - loss: 0.0225 - acc: 0.0105 - val_loss: 0.0204 - val_acc: 0.0112\n",
            "Epoch 5/10\n",
            "60000/60000 [==============================] - 1s 15us/sample - loss: 0.0193 - acc: 0.0108 - val_loss: 0.0178 - val_acc: 0.0106\n",
            "Epoch 6/10\n",
            "60000/60000 [==============================] - 1s 16us/sample - loss: 0.0174 - acc: 0.0118 - val_loss: 0.0164 - val_acc: 0.0114\n",
            "Epoch 7/10\n",
            "60000/60000 [==============================] - 1s 16us/sample - loss: 0.0163 - acc: 0.0123 - val_loss: 0.0155 - val_acc: 0.0107\n",
            "Epoch 8/10\n",
            "60000/60000 [==============================] - 1s 16us/sample - loss: 0.0155 - acc: 0.0124 - val_loss: 0.0149 - val_acc: 0.0107\n",
            "Epoch 9/10\n",
            "60000/60000 [==============================] - 1s 16us/sample - loss: 0.0150 - acc: 0.0126 - val_loss: 0.0144 - val_acc: 0.0102\n",
            "Epoch 10/10\n",
            "60000/60000 [==============================] - 1s 16us/sample - loss: 0.0146 - acc: 0.0128 - val_loss: 0.0142 - val_acc: 0.0124\n"
          ],
          "name": "stdout"
        },
        {
          "output_type": "execute_result",
          "data": {
            "text/plain": [
              "<tensorflow.python.keras.callbacks.History at 0x7f8cd5373cc0>"
            ]
          },
          "metadata": {
            "tags": []
          },
          "execution_count": 4
        }
      ]
    },
    {
      "cell_type": "code",
      "metadata": {
        "id": "qlQXwdopvBO5",
        "colab_type": "code",
        "outputId": "595b4820-be90-43cc-82e3-3a48c0314d0d",
        "colab": {
          "base_uri": "https://localhost:8080/",
          "height": 268
        }
      },
      "source": [
        "import matplotlib.pyplot as plt\n",
        "%matplotlib inline\n",
        "\n",
        "plt.subplot(2,2,1)\n",
        "plt.imshow(model.predict(X_test[0,:].reshape(1,784)).reshape(28,28), cmap=plt.get_cmap('gray'))\n",
        "plt.axis('off')\n",
        "plt.subplot(2,2,2)\n",
        "plt.imshow(model.predict(X_test[1,:].reshape(1,784)).reshape(28,28), cmap=plt.get_cmap('gray'))\n",
        "plt.axis('off')\n",
        "plt.subplot(2,2,3)\n",
        "plt.imshow(model.predict(X_test[2,:].reshape(1,784)).reshape(28,28), cmap=plt.get_cmap('gray'))\n",
        "plt.axis('off')\n",
        "plt.subplot(2,2,4)\n",
        "plt.imshow(model.predict(X_test[3,:].reshape(1,784)).reshape(28,28), cmap=plt.get_cmap('gray'))\n",
        "plt.axis('off')\n",
        "plt.show()"
      ],
      "execution_count": 37,
      "outputs": [
        {
          "output_type": "display_data",
          "data": {
            "image/png": "[encoded data removed]",
            "text/plain": [
              "<Figure size 432x288 with 4 Axes>"
            ]
          },
          "metadata": {
            "tags": []
          }
        }
      ]
    },
    {
      "cell_type": "code",
      "metadata": {
        "id": "b-Bolmdo3q1b",
        "colab_type": "code",
        "outputId": "551c97ff-3747-4f8f-dd24-6997bbce0470",
        "colab": {
          "base_uri": "https://localhost:8080/",
          "height": 268
        }
      },
      "source": [
        "import matplotlib.pyplot as plt\n",
        "%matplotlib inline\n",
        "\n",
        "plt.subplot(221)\n",
        "plt.imshow((X_test[0,:].reshape(1,784)).reshape(28,28), cmap=plt.get_cmap('gray'))\n",
        "plt.axis('off')\n",
        "plt.subplot(222)\n",
        "plt.imshow((X_test[1,:].reshape(1,784)).reshape(28,28), cmap=plt.get_cmap('gray'))\n",
        "plt.axis('off')\n",
        "plt.subplot(223)\n",
        "plt.imshow((X_test[2,:].reshape(1,784)).reshape(28,28), cmap=plt.get_cmap('gray'))\n",
        "plt.axis('off')\n",
        "plt.subplot(224)\n",
        "plt.imshow((X_test[3,:].reshape(1,784)).reshape(28,28), cmap=plt.get_cmap('gray'))\n",
        "plt.axis('off')\n",
        "plt.show()"
      ],
      "execution_count": 21,
      "outputs": [
        {
          "output_type": "display_data",
          "data": {
            "image/png": "[encoded data removed]",
            "text/plain": [
              "<Figure size 432x288 with 4 Axes>"
            ]
          },
          "metadata": {
            "tags": []
          }
        }
      ]
    },
    {
      "cell_type": "code",
      "metadata": {
        "id": "yMgMIU2Qu1IW",
        "colab_type": "code",
        "outputId": "7912cfea-4256-4b7f-e79f-da9dff02fe09",
        "colab": {
          "base_uri": "https://localhost:8080/",
          "height": 287
        }
      },
      "source": [
        "img = model.predict(X_test[1,:].reshape(1,784)).reshape(28,28)\n",
        "import matplotlib.pyplot as plt\n",
        "%matplotlib inline\n",
        "plt.imshow(img)"
      ],
      "execution_count": 16,
      "outputs": [
        {
          "output_type": "execute_result",
          "data": {
            "text/plain": [
              "<matplotlib.image.AxesImage at 0x7fb073d0df28>"
            ]
          },
          "metadata": {
            "tags": []
          },
          "execution_count": 16
        },
        {
          "output_type": "display_data",
          "data": {
            "image/png": "[encoded data removed]",
            "text/plain": [
              "<Figure size 432x288 with 1 Axes>"
            ]
          },
          "metadata": {
            "tags": []
          }
        }
      ]
    },
    {
      "cell_type": "code",
      "metadata": {
        "id": "Wjmzz6-rELCY",
        "colab_type": "code",
        "outputId": "00ec19a0-e76d-40f1-d805-500a18777005",
        "colab": {
          "base_uri": "https://localhost:8080/",
          "height": 237
        }
      },
      "source": [
        "!pip install bokeh"
      ],
      "execution_count": 5,
      "outputs": [
        {
          "output_type": "stream",
          "text": [
            "Requirement already satisfied: bokeh in /usr/local/lib/python3.6/dist-packages (1.0.4)\n",
            "Requirement already satisfied: six>=1.5.2 in /usr/local/lib/python3.6/dist-packages (from bokeh) (1.12.0)\n",
            "Requirement already satisfied: numpy>=1.7.1 in /usr/local/lib/python3.6/dist-packages (from bokeh) (1.16.5)\n",
            "Requirement already satisfied: python-dateutil>=2.1 in /usr/local/lib/python3.6/dist-packages (from bokeh) (2.5.3)\n",
            "Requirement already satisfied: packaging>=16.8 in /usr/local/lib/python3.6/dist-packages (from bokeh) (19.2)\n",
            "Requirement already satisfied: Jinja2>=2.7 in /usr/local/lib/python3.6/dist-packages (from bokeh) (2.10.1)\n",
            "Requirement already satisfied: tornado>=4.3 in /usr/local/lib/python3.6/dist-packages (from bokeh) (4.5.3)\n",
            "Requirement already satisfied: PyYAML>=3.10 in /usr/local/lib/python3.6/dist-packages (from bokeh) (3.13)\n",
            "Requirement already satisfied: pillow>=4.0 in /usr/local/lib/python3.6/dist-packages (from bokeh) (4.3.0)\n",
            "Requirement already satisfied: pyparsing>=2.0.2 in /usr/local/lib/python3.6/dist-packages (from packaging>=16.8->bokeh) (2.4.2)\n",
            "Requirement already satisfied: MarkupSafe>=0.23 in /usr/local/lib/python3.6/dist-packages (from Jinja2>=2.7->bokeh) (1.1.1)\n",
            "Requirement already satisfied: olefile in /usr/local/lib/python3.6/dist-packages (from pillow>=4.0->bokeh) (0.46)\n"
          ],
          "name": "stdout"
        }
      ]
    },
    {
      "cell_type": "code",
      "metadata": {
        "id": "V2XWZma5Gagt",
        "colab_type": "code",
        "colab": {}
      },
      "source": [
        "from tensorflow.keras import Model\n",
        "layer_name = 'dense_1'\n",
        "intermediate_layer_model = Model(inputs=model.input,outputs=model.get_layer(layer_name).output)"
      ],
      "execution_count": 0,
      "outputs": []
    },
    {
      "cell_type": "code",
      "metadata": {
        "id": "AJC5HYmsGgOJ",
        "colab_type": "code",
        "colab": {}
      },
      "source": [
        "intermediate_output = intermediate_layer_model.predict(X_test)"
      ],
      "execution_count": 0,
      "outputs": []
    },
    {
      "cell_type": "code",
      "metadata": {
        "id": "fitYrMsJGj8I",
        "colab_type": "code",
        "outputId": "141ed216-9d32-4a68-a5d8-3b3c4eba48dc",
        "colab": {
          "base_uri": "https://localhost:8080/",
          "height": 35
        }
      },
      "source": [
        "intermediate_output.shape"
      ],
      "execution_count": 9,
      "outputs": [
        {
          "output_type": "execute_result",
          "data": {
            "text/plain": [
              "(10000, 784)"
            ]
          },
          "metadata": {
            "tags": []
          },
          "execution_count": 9
        }
      ]
    },
    {
      "cell_type": "code",
      "metadata": {
        "id": "tSnKG5oMu8kS",
        "colab_type": "code",
        "colab": {}
      },
      "source": [
        "import bokeh.plotting as bp\n",
        "from bokeh.models import HoverTool, BoxSelectTool\n",
        "from bokeh.plotting import figure, show, output_notebook"
      ],
      "execution_count": 0,
      "outputs": []
    },
    {
      "cell_type": "code",
      "metadata": {
        "id": "SbIPwCsBEGjf",
        "colab_type": "code",
        "colab": {}
      },
      "source": [
        "output_notebook()\n",
        "plot_tfidf = bp.figure(plot_width=700, plot_height=600, title=\"A map of 10000 word vectors\",\n",
        "    tools=\"pan,wheel_zoom,box_zoom,reset,hover,previewsave\",\n",
        "    x_axis_type=None, y_axis_type=None, min_border=1)"
      ],
      "execution_count": 0,
      "outputs": []
    },
    {
      "cell_type": "code",
      "metadata": {
        "id": "Tr5Q15g2FEno",
        "colab_type": "code",
        "outputId": "de9b9608-5361-4cc0-a453-a9e89d5a5320",
        "colab": {
          "base_uri": "https://localhost:8080/",
          "height": 311
        }
      },
      "source": [
        "from sklearn.manifold import TSNE\n",
        "\n",
        "tsne_model = TSNE(n_components=2, verbose=1, random_state=0)\n",
        "tsne_img_label = tsne_model.fit_transform(intermediate_output)"
      ],
      "execution_count": 12,
      "outputs": [
        {
          "output_type": "stream",
          "text": [
            "[t-SNE] Computing 91 nearest neighbors...\n",
            "[t-SNE] Indexed 10000 samples in 0.396s...\n",
            "[t-SNE] Computed neighbors for 10000 samples in 174.595s...\n",
            "[t-SNE] Computed conditional probabilities for sample 1000 / 10000\n",
            "[t-SNE] Computed conditional probabilities for sample 2000 / 10000\n",
            "[t-SNE] Computed conditional probabilities for sample 3000 / 10000\n",
            "[t-SNE] Computed conditional probabilities for sample 4000 / 10000\n",
            "[t-SNE] Computed conditional probabilities for sample 5000 / 10000\n",
            "[t-SNE] Computed conditional probabilities for sample 6000 / 10000\n",
            "[t-SNE] Computed conditional probabilities for sample 7000 / 10000\n",
            "[t-SNE] Computed conditional probabilities for sample 8000 / 10000\n",
            "[t-SNE] Computed conditional probabilities for sample 9000 / 10000\n",
            "[t-SNE] Computed conditional probabilities for sample 10000 / 10000\n",
            "[t-SNE] Mean sigma: 1.613188\n",
            "[t-SNE] KL divergence after 250 iterations with early exaggeration: 86.288925\n",
            "[t-SNE] KL divergence after 1000 iterations: 1.760646\n"
          ],
          "name": "stdout"
        }
      ]
    },
    {
      "cell_type": "code",
      "metadata": {
        "id": "TAEO-Q7YaGP3",
        "colab_type": "code",
        "colab": {
          "base_uri": "https://localhost:8080/",
          "height": 943
        },
        "outputId": "86ea08f4-3ca7-4deb-cbcd-fca7ab187a66"
      },
      "source": [
        "#Import numpy\n",
        "import numpy as np\n",
        "\n",
        "#Import scikitlearn for machine learning functionalities\n",
        "import sklearn\n",
        "from sklearn.manifold import TSNE \n",
        "from sklearn.datasets import load_digits # For the UCI ML handwritten digits dataset\n",
        "\n",
        "# Import matplotlib for plotting graphs ans seaborn for attractive graphics.\n",
        "import matplotlib\n",
        "import matplotlib.pyplot as plt\n",
        "import matplotlib.patheffects as pe\n",
        "%matplotlib inline\n",
        "\n",
        "import seaborn as sb\n",
        "\n",
        "def plot(x, colors):\n",
        "  \n",
        "    palette = np.array(sb.color_palette(\"hls\", 10))  #Choosing color palette \n",
        "\n",
        "    # Create a scatter plot.\n",
        "    f = plt.figure(figsize=(8, 8))\n",
        "    ax = plt.subplot(aspect='equal')\n",
        "    sc = ax.scatter(x[:,0], x[:,1], lw=0, s=40, c=palette[colors.astype(np.int)])\n",
        "    # Add the labels for each digit.\n",
        "    txts = []\n",
        "    for i in range(10):\n",
        "        # Position of each label.\n",
        "        xtext, ytext = np.median(x[colors == i, :], axis=0)\n",
        "        txt = ax.text(xtext, ytext, str(i), fontsize=24)\n",
        "        txt.set_path_effects([pe.Stroke(linewidth=5, foreground=\"w\"), pe.Normal()])\n",
        "        txts.append(txt)\n",
        "    return f, ax, txts\n",
        "  \n",
        "\n",
        "plot(tsne_img_label,Y)"
      ],
      "execution_count": 36,
      "outputs": [
        {
          "output_type": "error",
          "ename": "ValueError",
          "evalue": "ignored",
          "traceback": [
            "\u001b[0;31m---------------------------------------------------------------------------\u001b[0m",
            "\u001b[0;31mValueError\u001b[0m                                Traceback (most recent call last)",
            "\u001b[0;32m/usr/local/lib/python3.6/dist-packages/matplotlib/axes/_axes.py\u001b[0m in \u001b[0;36mscatter\u001b[0;34m(self, x, y, s, c, marker, cmap, norm, vmin, vmax, alpha, linewidths, verts, edgecolors, **kwargs)\u001b[0m\n\u001b[1;32m   4237\u001b[0m                     \u001b[0mvalid_shape\u001b[0m \u001b[0;34m=\u001b[0m \u001b[0;32mFalse\u001b[0m\u001b[0;34m\u001b[0m\u001b[0;34m\u001b[0m\u001b[0m\n\u001b[0;32m-> 4238\u001b[0;31m                     \u001b[0;32mraise\u001b[0m \u001b[0mValueError\u001b[0m\u001b[0;34m\u001b[0m\u001b[0;34m\u001b[0m\u001b[0m\n\u001b[0m\u001b[1;32m   4239\u001b[0m             \u001b[0;32mexcept\u001b[0m \u001b[0mValueError\u001b[0m\u001b[0;34m:\u001b[0m\u001b[0;34m\u001b[0m\u001b[0;34m\u001b[0m\u001b[0m\n",
            "\u001b[0;31mValueError\u001b[0m: ",
            "\nDuring handling of the above exception, another exception occurred:\n",
            "\u001b[0;31mValueError\u001b[0m                                Traceback (most recent call last)",
            "\u001b[0;32m<ipython-input-36-c6a5f581de95>\u001b[0m in \u001b[0;36m<module>\u001b[0;34m()\u001b[0m\n\u001b[1;32m     33\u001b[0m \u001b[0;34m\u001b[0m\u001b[0m\n\u001b[1;32m     34\u001b[0m \u001b[0mY\u001b[0m \u001b[0;34m=\u001b[0m \u001b[0mnp\u001b[0m\u001b[0;34m.\u001b[0m\u001b[0marray\u001b[0m\u001b[0;34m(\u001b[0m\u001b[0mlist\u001b[0m\u001b[0;34m(\u001b[0m\u001b[0mrange\u001b[0m\u001b[0;34m(\u001b[0m\u001b[0;36m0\u001b[0m\u001b[0;34m,\u001b[0m\u001b[0;36m10\u001b[0m\u001b[0;34m,\u001b[0m\u001b[0;36m1\u001b[0m\u001b[0;34m)\u001b[0m\u001b[0;34m)\u001b[0m\u001b[0;34m)\u001b[0m\u001b[0;34m\u001b[0m\u001b[0;34m\u001b[0m\u001b[0m\n\u001b[0;32m---> 35\u001b[0;31m \u001b[0mplot\u001b[0m\u001b[0;34m(\u001b[0m\u001b[0mtsne_img_label\u001b[0m\u001b[0;34m,\u001b[0m\u001b[0mY\u001b[0m\u001b[0;34m)\u001b[0m\u001b[0;34m\u001b[0m\u001b[0;34m\u001b[0m\u001b[0m\n\u001b[0m",
            "\u001b[0;32m<ipython-input-36-c6a5f581de95>\u001b[0m in \u001b[0;36mplot\u001b[0;34m(x, colors)\u001b[0m\n\u001b[1;32m     21\u001b[0m     \u001b[0mf\u001b[0m \u001b[0;34m=\u001b[0m \u001b[0mplt\u001b[0m\u001b[0;34m.\u001b[0m\u001b[0mfigure\u001b[0m\u001b[0;34m(\u001b[0m\u001b[0mfigsize\u001b[0m\u001b[0;34m=\u001b[0m\u001b[0;34m(\u001b[0m\u001b[0;36m8\u001b[0m\u001b[0;34m,\u001b[0m \u001b[0;36m8\u001b[0m\u001b[0;34m)\u001b[0m\u001b[0;34m)\u001b[0m\u001b[0;34m\u001b[0m\u001b[0;34m\u001b[0m\u001b[0m\n\u001b[1;32m     22\u001b[0m     \u001b[0max\u001b[0m \u001b[0;34m=\u001b[0m \u001b[0mplt\u001b[0m\u001b[0;34m.\u001b[0m\u001b[0msubplot\u001b[0m\u001b[0;34m(\u001b[0m\u001b[0maspect\u001b[0m\u001b[0;34m=\u001b[0m\u001b[0;34m'equal'\u001b[0m\u001b[0;34m)\u001b[0m\u001b[0;34m\u001b[0m\u001b[0;34m\u001b[0m\u001b[0m\n\u001b[0;32m---> 23\u001b[0;31m     \u001b[0msc\u001b[0m \u001b[0;34m=\u001b[0m \u001b[0max\u001b[0m\u001b[0;34m.\u001b[0m\u001b[0mscatter\u001b[0m\u001b[0;34m(\u001b[0m\u001b[0mx\u001b[0m\u001b[0;34m[\u001b[0m\u001b[0;34m:\u001b[0m\u001b[0;34m,\u001b[0m\u001b[0;36m0\u001b[0m\u001b[0;34m]\u001b[0m\u001b[0;34m,\u001b[0m \u001b[0mx\u001b[0m\u001b[0;34m[\u001b[0m\u001b[0;34m:\u001b[0m\u001b[0;34m,\u001b[0m\u001b[0;36m1\u001b[0m\u001b[0;34m]\u001b[0m\u001b[0;34m,\u001b[0m \u001b[0mlw\u001b[0m\u001b[0;34m=\u001b[0m\u001b[0;36m0\u001b[0m\u001b[0;34m,\u001b[0m \u001b[0ms\u001b[0m\u001b[0;34m=\u001b[0m\u001b[0;36m40\u001b[0m\u001b[0;34m,\u001b[0m \u001b[0mc\u001b[0m\u001b[0;34m=\u001b[0m\u001b[0mpalette\u001b[0m\u001b[0;34m[\u001b[0m\u001b[0mcolors\u001b[0m\u001b[0;34m.\u001b[0m\u001b[0mastype\u001b[0m\u001b[0;34m(\u001b[0m\u001b[0mnp\u001b[0m\u001b[0;34m.\u001b[0m\u001b[0mint\u001b[0m\u001b[0;34m)\u001b[0m\u001b[0;34m]\u001b[0m\u001b[0;34m)\u001b[0m\u001b[0;34m\u001b[0m\u001b[0;34m\u001b[0m\u001b[0m\n\u001b[0m\u001b[1;32m     24\u001b[0m     \u001b[0;31m# Add the labels for each digit.\u001b[0m\u001b[0;34m\u001b[0m\u001b[0;34m\u001b[0m\u001b[0;34m\u001b[0m\u001b[0m\n\u001b[1;32m     25\u001b[0m     \u001b[0mtxts\u001b[0m \u001b[0;34m=\u001b[0m \u001b[0;34m[\u001b[0m\u001b[0;34m]\u001b[0m\u001b[0;34m\u001b[0m\u001b[0;34m\u001b[0m\u001b[0m\n",
            "\u001b[0;32m/usr/local/lib/python3.6/dist-packages/matplotlib/__init__.py\u001b[0m in \u001b[0;36minner\u001b[0;34m(ax, data, *args, **kwargs)\u001b[0m\n\u001b[1;32m   1808\u001b[0m                         \u001b[0;34m\"the Matplotlib list!)\"\u001b[0m \u001b[0;34m%\u001b[0m \u001b[0;34m(\u001b[0m\u001b[0mlabel_namer\u001b[0m\u001b[0;34m,\u001b[0m \u001b[0mfunc\u001b[0m\u001b[0;34m.\u001b[0m\u001b[0m__name__\u001b[0m\u001b[0;34m)\u001b[0m\u001b[0;34m,\u001b[0m\u001b[0;34m\u001b[0m\u001b[0;34m\u001b[0m\u001b[0m\n\u001b[1;32m   1809\u001b[0m                         RuntimeWarning, stacklevel=2)\n\u001b[0;32m-> 1810\u001b[0;31m             \u001b[0;32mreturn\u001b[0m \u001b[0mfunc\u001b[0m\u001b[0;34m(\u001b[0m\u001b[0max\u001b[0m\u001b[0;34m,\u001b[0m \u001b[0;34m*\u001b[0m\u001b[0margs\u001b[0m\u001b[0;34m,\u001b[0m \u001b[0;34m**\u001b[0m\u001b[0mkwargs\u001b[0m\u001b[0;34m)\u001b[0m\u001b[0;34m\u001b[0m\u001b[0;34m\u001b[0m\u001b[0m\n\u001b[0m\u001b[1;32m   1811\u001b[0m \u001b[0;34m\u001b[0m\u001b[0m\n\u001b[1;32m   1812\u001b[0m         inner.__doc__ = _add_data_doc(inner.__doc__,\n",
            "\u001b[0;32m/usr/local/lib/python3.6/dist-packages/matplotlib/axes/_axes.py\u001b[0m in \u001b[0;36mscatter\u001b[0;34m(self, x, y, s, c, marker, cmap, norm, vmin, vmax, alpha, linewidths, verts, edgecolors, **kwargs)\u001b[0m\n\u001b[1;32m   4243\u001b[0m                         \u001b[0;34m\"acceptable for use with 'x' with size {xs}, \"\u001b[0m\u001b[0;34m\u001b[0m\u001b[0;34m\u001b[0m\u001b[0m\n\u001b[1;32m   4244\u001b[0m                         \u001b[0;34m\"'y' with size {ys}.\"\u001b[0m\u001b[0;34m\u001b[0m\u001b[0;34m\u001b[0m\u001b[0m\n\u001b[0;32m-> 4245\u001b[0;31m                         \u001b[0;34m.\u001b[0m\u001b[0mformat\u001b[0m\u001b[0;34m(\u001b[0m\u001b[0mnc\u001b[0m\u001b[0;34m=\u001b[0m\u001b[0mn_elem\u001b[0m\u001b[0;34m,\u001b[0m \u001b[0mxs\u001b[0m\u001b[0;34m=\u001b[0m\u001b[0mx\u001b[0m\u001b[0;34m.\u001b[0m\u001b[0msize\u001b[0m\u001b[0;34m,\u001b[0m \u001b[0mys\u001b[0m\u001b[0;34m=\u001b[0m\u001b[0my\u001b[0m\u001b[0;34m.\u001b[0m\u001b[0msize\u001b[0m\u001b[0;34m)\u001b[0m\u001b[0;34m\u001b[0m\u001b[0;34m\u001b[0m\u001b[0m\n\u001b[0m\u001b[1;32m   4246\u001b[0m                     )\n\u001b[1;32m   4247\u001b[0m                 \u001b[0;31m# Both the mapping *and* the RGBA conversion failed: pretty\u001b[0m\u001b[0;34m\u001b[0m\u001b[0;34m\u001b[0m\u001b[0;34m\u001b[0m\u001b[0m\n",
            "\u001b[0;31mValueError\u001b[0m: 'c' argument has 10 elements, which is not acceptable for use with 'x' with size 10000, 'y' with size 10000."
          ]
        },
        {
          "output_type": "display_data",
          "data": {
            "image/png": "[encoded data removed]",
            "text/plain": [
              "<Figure size 576x576 with 1 Axes>"
            ]
          },
          "metadata": {
            "tags": []
          }
        }
      ]
    },
    {
      "cell_type": "code",
      "metadata": {
        "id": "o0o7_76eFMhz",
        "colab_type": "code",
        "colab": {}
      },
      "source": [
        "import pandas as pd\n",
        "import numpy as np\n",
        "tsne_df = pd.DataFrame(tsne_img_label, columns=['x', 'y'])\n",
        "tsne_df['image_label'] = y_test"
      ],
      "execution_count": 0,
      "outputs": []
    }
  ]
}