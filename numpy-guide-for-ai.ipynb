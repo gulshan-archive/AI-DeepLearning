{
 "cells": [
  {
   "cell_type": "markdown",
   "metadata": {},
   "source": [
    "## Numpy Guide for AI, Machine & Deep Learning\n",
    "**This Notebook will cover the widely used Numpy operations on Vectors and Martices In Artificial Intelligence & Machine Learning.**\n",
    "\n",
    "This notebook can be used as a reference and handly guide for both newcomers & Experienced in Machine Learning & AI."
   ]
  },
  {
   "cell_type": "markdown",
   "metadata": {},
   "source": [
    "## Load Modules"
   ]
  },
  {
   "cell_type": "code",
   "execution_count": 1,
   "metadata": {
    "_cell_guid": "b1076dfc-b9ad-4769-8c92-a6c4dae69d19",
    "_uuid": "8f2839f25d086af736a60e9eeb907d3b93b6e0e5"
   },
   "outputs": [],
   "source": [
    "import numpy as np # linear algebra"
   ]
  },
  {
   "cell_type": "markdown",
   "metadata": {},
   "source": [
    "## np.shape & np.reshape\n",
    "**np.shape : Gives the shape of matrix/vector**\n",
    "**np.reshape: Matrix/vector can be reshaoe to any size based on the no. of elements**"
   ]
  },
  {
   "cell_type": "code",
   "execution_count": 2,
   "metadata": {},
   "outputs": [
    {
     "name": "stdout",
     "output_type": "stream",
     "text": [
      "(9,)\n",
      "[[1]\n",
      " [2]\n",
      " [3]\n",
      " [4]\n",
      " [5]\n",
      " [6]\n",
      " [7]\n",
      " [8]\n",
      " [9]]\n",
      "(9, 1)\n",
      "[[1 2 3 4 5 6 7 8 9]]\n",
      "(1, 9)\n",
      "[[1 2 3]\n",
      " [4 5 6]\n",
      " [7 8 9]]\n",
      "(3, 3)\n",
      "3\n",
      "3\n"
     ]
    }
   ],
   "source": [
    "x = np.array([1,2,3,4,5,6,7,8,9])  # convert the passed list to form array\n",
    "print(x.shape)\n",
    "x = x.reshape(9,1)    # reshape the array into a row vector\n",
    "print(x)\n",
    "print(x.shape)\n",
    "x = x.reshape(1,9)    # reshape the array into a column vector\n",
    "print(x)\n",
    "print(x.shape)\n",
    "x = x.reshape(3,3)    # reshape into a 3x3 matrix\n",
    "print(x)\n",
    "print(x.shape)\n",
    "\n",
    "# rows and columns in the shape can be individually accessed as\n",
    "print(x.shape[0])\n",
    "print(x.shape[1])"
   ]
  },
  {
   "cell_type": "markdown",
   "metadata": {},
   "source": [
    "## Copy 1 numpy array into Another"
   ]
  },
  {
   "cell_type": "code",
   "execution_count": 2,
   "metadata": {},
   "outputs": [
    {
     "name": "stdout",
     "output_type": "stream",
     "text": [
      "[1 2 3 4 5 6] [1 2 3 4 5 6]\n"
     ]
    }
   ],
   "source": [
    "x = np.array([1,2,3,4,5,6])\n",
    "y = np.copy(x)\n",
    "print(x,y)\n",
    "\n",
    "y = "
   ]
  },
  {
   "cell_type": "markdown",
   "metadata": {},
   "source": [
    "## Reshaping of Images\n",
    "A coloured image is represented by a 3D array of shape (length,height,depth=3) where depth of 3 correponds to R,G, B color. However, when you read an image as the input of an algorithm you need to convert it to a vector of shape **(length∗height∗depth, 1)**. ie. you need to reshape the 3D array into a 1D vector"
   ]
  },
  {
   "cell_type": "code",
   "execution_count": 3,
   "metadata": {},
   "outputs": [
    {
     "name": "stdout",
     "output_type": "stream",
     "text": [
      "(3, 3, 3)\n",
      "[[0.67826139]\n",
      " [0.29380381]\n",
      " [0.67826139]\n",
      " [0.90714982]\n",
      " [0.52835647]\n",
      " [0.90714982]\n",
      " [0.4215251 ]\n",
      " [0.45017551]\n",
      " [0.4215251 ]\n",
      " [0.92814219]\n",
      " [0.96677647]\n",
      " [0.92814219]\n",
      " [0.85304703]\n",
      " [0.52351845]\n",
      " [0.85304703]\n",
      " [0.19981397]\n",
      " [0.27417313]\n",
      " [0.19981397]\n",
      " [0.60659855]\n",
      " [0.00533165]\n",
      " [0.60659855]\n",
      " [0.10820313]\n",
      " [0.49978937]\n",
      " [0.10820313]\n",
      " [0.34144279]\n",
      " [0.94630077]\n",
      " [0.34144279]]\n",
      "(27, 1)\n"
     ]
    }
   ],
   "source": [
    "# Consider the below image of shape (3,3,3)\n",
    "image = np.array([[[ 0.67826139,  0.29380381, 0.67826139],\n",
    "        [ 0.90714982,  0.52835647, 0.90714982],\n",
    "        [ 0.4215251 ,  0.45017551, 0.4215251]],\n",
    "\n",
    "       [[ 0.92814219,  0.96677647, 0.92814219],\n",
    "        [ 0.85304703,  0.52351845, 0.85304703],\n",
    "        [ 0.19981397,  0.27417313, 0.19981397]],\n",
    "\n",
    "       [[ 0.60659855,  0.00533165, 0.60659855],\n",
    "        [ 0.10820313,  0.49978937, 0.10820313],\n",
    "        [ 0.34144279,  0.94630077, 0.34144279]]])\n",
    "\n",
    "print(image.shape)\n",
    "new_shape = image.reshape(image.shape[0]*image.shape[1]*image.shape[2], 1)\n",
    "print(new_shape)\n",
    "print(new_shape.shape)"
   ]
  },
  {
   "cell_type": "markdown",
   "metadata": {},
   "source": [
    "## Adding a matrix with m rows and 1 column to another with 1 row and 1 column\n",
    "**A Matrix is defined as a 2D array with Rows & Columns**\n",
    "So,lets denote number of rows with m and\n",
    "number of columns with n\n",
    "\n",
    "**Below are the generalized formula for doing mathematical operation (add, subtract, multiply, divide) on 2 matrices**\n",
    "\n",
    "Adding a matrix with m row and 1 column to another with 1 row and 1 column will result in adding each row of matrix m with 2nd matrix row\n",
    "* **(m,1) + (1,1) = (m+1, 1)**\n",
    "* **(m,1) * (1,1) = (mx1, 1)**\n",
    "* **(m,1) / (1,1) = (m/1, 1)**\n",
    "* **(m,1) - (1,1) = (m-1, 1)**"
   ]
  },
  {
   "cell_type": "code",
   "execution_count": 4,
   "metadata": {
    "_cell_guid": "79c7e3d0-c299-4dcb-8224-4455121ee9b0",
    "_uuid": "d629ff2d2480ee46fbb7e2d37f6b5fab8052498a"
   },
   "outputs": [
    {
     "name": "stdout",
     "output_type": "stream",
     "text": [
      "Matrix1 of size m,1 = \n",
      "[[1]\n",
      " [2]\n",
      " [3]\n",
      " [4]\n",
      " [5]\n",
      " [6]]\n",
      "Matrix2 of size 1,1 = \n",
      "[[10]]\n",
      "Result m+1,1 = \n",
      "[[11]\n",
      " [12]\n",
      " [13]\n",
      " [14]\n",
      " [15]\n",
      " [16]]\n",
      "Result mx1,1 = \n",
      "[[10]\n",
      " [20]\n",
      " [30]\n",
      " [40]\n",
      " [50]\n",
      " [60]]\n",
      "Result m/1,1 = \n",
      "[[0.1]\n",
      " [0.2]\n",
      " [0.3]\n",
      " [0.4]\n",
      " [0.5]\n",
      " [0.6]]\n",
      "Result m-1,1 = \n",
      "[[-9]\n",
      " [-8]\n",
      " [-7]\n",
      " [-6]\n",
      " [-5]\n",
      " [-4]]\n"
     ]
    }
   ],
   "source": [
    "list1 = [1,2,3,4,5,6]\n",
    "list2 = [10,20,30]\n",
    "\n",
    "matrix1 = np.array(list1).reshape(6,1)      # 6 rows and 1 column\n",
    "print(f\"Matrix1 of size m,1 = \\n{matrix1}\")\n",
    "\n",
    "matrix2 = np.array(list2[0]).reshape(1,1)\n",
    "print(f\"Matrix2 of size 1,1 = \\n{matrix2}\")\n",
    "\n",
    "add_result = np.add(matrix1, matrix2)\n",
    "print(f\"Result m+1,1 = \\n{add_result}\")\n",
    "\n",
    "mult_result = np.matmul(matrix1, matrix2)\n",
    "print(f\"Result mx1,1 = \\n{mult_result}\")\n",
    "\n",
    "div_result = np.divide(matrix1, matrix2)\n",
    "print(f\"Result m/1,1 = \\n{div_result}\")\n",
    "\n",
    "sub_result = np.subtract(matrix1, matrix2)\n",
    "print(f\"Result m-1,1 = \\n{sub_result}\")"
   ]
  },
  {
   "cell_type": "markdown",
   "metadata": {},
   "source": [
    "## Adding a matrix with 1 row and n columns to another with 1 row and 1 column\n",
    "**(1, n) + (1, 1) = (1, n+1)**"
   ]
  },
  {
   "cell_type": "code",
   "execution_count": 5,
   "metadata": {},
   "outputs": [
    {
     "name": "stdout",
     "output_type": "stream",
     "text": [
      "Matrix1 of size 1,m = \n",
      "[[1 2 3 4 5 6]]\n",
      "Matrix2 of size 1,1 = \n",
      "[[10]]\n",
      "Result 1,n+1 = \n",
      "[[11 12 13 14 15 16]]\n"
     ]
    }
   ],
   "source": [
    "list1 = [1,2,3,4,5,6]\n",
    "list2 = [10,20,30]\n",
    "\n",
    "matrix1 = np.array(list1).reshape(1,6)     # 1 row and 6 columns\n",
    "print(f\"Matrix1 of size 1,m = \\n{matrix1}\")\n",
    "\n",
    "matrix2 = np.array(list2[0]).reshape(1,1)\n",
    "print(f\"Matrix2 of size 1,1 = \\n{matrix2}\")\n",
    "\n",
    "add_result = np.add(matrix1, matrix2)\n",
    "print(f\"Result 1,n+1 = \\n{add_result}\")"
   ]
  },
  {
   "cell_type": "markdown",
   "metadata": {},
   "source": [
    "## Adding a matrix with m rows and n columns to another with 1 row and n columns\n",
    "**(m, n) + (1, n) = (m, n+n)**"
   ]
  },
  {
   "cell_type": "code",
   "execution_count": 6,
   "metadata": {},
   "outputs": [
    {
     "name": "stdout",
     "output_type": "stream",
     "text": [
      "Matrix1 of size m,n = \n",
      "[[1 2 3]\n",
      " [4 5 6]]\n",
      "Matrix2 of size 1,n = \n",
      "[[10 20 30]]\n",
      "Result m,n+n = \n",
      "[[11 22 33]\n",
      " [14 25 36]]\n"
     ]
    }
   ],
   "source": [
    "list1 = [1,2,3,4,5,6]\n",
    "list2 = [10,20,30]\n",
    "\n",
    "matrix1 = np.array(list1).reshape(2,3)     # 2rows and 3 columns\n",
    "print(f\"Matrix1 of size m,n = \\n{matrix1}\")\n",
    "\n",
    "matrix2 = np.array(list2).reshape(1,3)\n",
    "print(f\"Matrix2 of size 1,n = \\n{matrix2}\")\n",
    "\n",
    "add_result = np.add(matrix1, matrix2)\n",
    "print(f\"Result m,n+n = \\n{add_result}\")"
   ]
  },
  {
   "cell_type": "markdown",
   "metadata": {},
   "source": [
    "## Adding a matrix with m rows and n columns to another with m rows and 1 column\n",
    "**(m, n) + (m, 1) = (m+m, n)**"
   ]
  },
  {
   "cell_type": "code",
   "execution_count": 7,
   "metadata": {},
   "outputs": [
    {
     "name": "stdout",
     "output_type": "stream",
     "text": [
      "Matrix1 of size m,n = \n",
      "[[1 2]\n",
      " [3 4]\n",
      " [5 6]]\n",
      "Matrix2 of size 3,1 = \n",
      "[[10]\n",
      " [20]\n",
      " [30]]\n",
      "Result m+m,n = \n",
      "[[11 12]\n",
      " [23 24]\n",
      " [35 36]]\n"
     ]
    }
   ],
   "source": [
    "list1 = [1,2,3,4,5,6]\n",
    "list2 = [10,20,30]\n",
    "\n",
    "matrix1 = np.array(list1).reshape(3,2)     # 3 rows and 2 columns\n",
    "print(f\"Matrix1 of size m,n = \\n{matrix1}\")\n",
    "\n",
    "matrix2 = np.array(list2).reshape(3,1)     # 3 rows and 1 column\n",
    "print(f\"Matrix2 of size 3,1 = \\n{matrix2}\")\n",
    "\n",
    "add_result = np.add(matrix1, matrix2)\n",
    "print(f\"Result m+m,n = \\n{add_result}\")"
   ]
  },
  {
   "cell_type": "markdown",
   "metadata": {},
   "source": [
    "## Adding a matrix with m rows and n columns to another with m rows and n columns\n",
    "Then it will be any of 1 below\n",
    "* **(m, n) + (m, n) = (m+m, n)**\n",
    "* **(m, n) + (m, n) = (m, n+n)**\n",
    "1. Both will have same results"
   ]
  },
  {
   "cell_type": "code",
   "execution_count": 8,
   "metadata": {},
   "outputs": [
    {
     "name": "stdout",
     "output_type": "stream",
     "text": [
      "Matrix1 of size m,n = \n",
      "[[1 2]\n",
      " [3 4]\n",
      " [5 6]]\n",
      "Matrix2 of size 3,2 = \n",
      "[[10 20]\n",
      " [30 40]\n",
      " [50 60]]\n",
      "Result m+m,n+n = \n",
      "[[11 22]\n",
      " [33 44]\n",
      " [55 66]]\n"
     ]
    }
   ],
   "source": [
    "list1 = [1,2,3,4,5,6]\n",
    "list2 = [10,20,30,40,50,60]\n",
    "\n",
    "matrix1 = np.array(list1).reshape(3,2)     # 3 rows and 2 columns\n",
    "print(f\"Matrix1 of size m,n = \\n{matrix1}\")\n",
    "\n",
    "matrix2 = np.array(list2).reshape(3,2)     # 3 rows and 2 column\n",
    "print(f\"Matrix2 of size 3,2 = \\n{matrix2}\")\n",
    "\n",
    "add_result = np.add(matrix1, matrix2)\n",
    "print(f\"Result m+m,n+n = \\n{add_result}\")"
   ]
  },
  {
   "cell_type": "markdown",
   "metadata": {},
   "source": [
    "## Dot multiplication of 2 Vectors & Matrices"
   ]
  },
  {
   "cell_type": "code",
   "execution_count": 9,
   "metadata": {},
   "outputs": [
    {
     "name": "stdout",
     "output_type": "stream",
     "text": [
      "70\n",
      "x = \n",
      "[[1 2]\n",
      " [3 4]]\n",
      "y = \n",
      "[[5 6]\n",
      " [7 8]]\n",
      "result = \n",
      "[[19 22]\n",
      " [43 50]]\n"
     ]
    }
   ],
   "source": [
    "# Dot operation on 2 vectors\n",
    "x = np.array([1,2,3,4])\n",
    "y = np.array([5,6,7,8])\n",
    "result = np.dot(x,y)\n",
    "print(result)   # 1x5 + 2x6 + 3x7 + 4x8 = 70\n",
    "\n",
    "# Dot operation on 2 matrices\n",
    "x = np.array([1,2,3,4]).reshape(2,2)\n",
    "print(f\"x = \\n{x}\")\n",
    "y = np.array([5,6,7,8]).reshape(2,2)\n",
    "print(f\"y = \\n{y}\")\n",
    "result = np.dot(x,y)\n",
    "\n",
    "# Output calculation:\n",
    "# 1x5 + 2x7 = 19  ie. row 1 to column 1\n",
    "# 3x5 + 4x7 = 43  ie. row 2 to column 1\n",
    "# 1x6 + 2x8 = 22  ie. row 1 to column 2\n",
    "# 3x6 + 4x8 = 50  ie. row 2 to column 2\n",
    "print(f\"result = \\n{result}\")   "
   ]
  },
  {
   "cell_type": "markdown",
   "metadata": {},
   "source": [
    "## Euler's Number (e) \n",
    "= 2.7182818284590452353602874713527 (and more ...) \n",
    "The number e is a famous irrational number, and is one of the most important numbers in mathematics.\n",
    "\n",
    "For example, the value of (1 + 1/n)n approaches e as n gets bigger and bigger:\n",
    "n \t(1 + 1/n)n <br>\n",
    "1 \t2.00000 <br>\n",
    "2 \t2.25000 <br>\n",
    "5 \t2.48832 <br>\n",
    "10 \t2.59374 <br>\n",
    "100 \t2.70481 <br>\n",
    "1,000 \t2.71692 <br>\n",
    "10,000 \t2.71815 <br>\n",
    "100,000 \t2.71827 <br>"
   ]
  },
  {
   "cell_type": "code",
   "execution_count": 10,
   "metadata": {},
   "outputs": [
    {
     "name": "stdout",
     "output_type": "stream",
     "text": [
      "2.718281828459045\n",
      "7.38905609893065\n",
      "20.085536923187668\n"
     ]
    }
   ],
   "source": [
    "print(np.exp(1))  # ie. 2.718^2 (2.718 power to 1)\n",
    "print(np.exp(2))  # ie. 2.718^2\n",
    "print(np.exp(3))  # ie. 2.718^3"
   ]
  },
  {
   "cell_type": "markdown",
   "metadata": {},
   "source": [
    "## Implement Sigmoid Function\n",
    "$sigmoid(x) = \\frac{1}{1+e^{-x}}$ is sometimes also known as the logistic function. It is a non-linear function used in Machine Learning (Logistic Regression)and in Deep Learning."
   ]
  },
  {
   "cell_type": "code",
   "execution_count": 11,
   "metadata": {},
   "outputs": [
    {
     "name": "stdout",
     "output_type": "stream",
     "text": [
      "[0.73105858 0.88079708 0.95257413]\n"
     ]
    }
   ],
   "source": [
    "x = np.array([1, 2, 3])\n",
    "s = 1/(1+np.exp(x*-1))\n",
    "print(s)"
   ]
  },
  {
   "cell_type": "markdown",
   "metadata": {},
   "source": [
    "## Implement L1 Loss\n",
    "L1 loss is defined as:\n",
    "$$\\begin{align*} & L_1(\\hat{y}, y) = \\sum_{i=0}^m|y^{(i)} - \\hat{y}^{(i)}| \\end{align*}\\tag{6}$$\n",
    "Here, ($ \\hat{y} $) = Actual output <br>\n",
    "y = Expected Output"
   ]
  },
  {
   "cell_type": "code",
   "execution_count": 12,
   "metadata": {},
   "outputs": [
    {
     "name": "stdout",
     "output_type": "stream",
     "text": [
      "1.1\n"
     ]
    }
   ],
   "source": [
    "yhat = np.array([.9, 0.2, 0.1, .4, .9])\n",
    "y = np.array([1, 0, 0, 1, 1])\n",
    "L1_loss = np.sum(np.abs(np.subtract(y,yhat)))\n",
    "print(L1_loss)"
   ]
  },
  {
   "cell_type": "markdown",
   "metadata": {},
   "source": [
    "## Implement L2 Loss\n",
    "L2 loss is defined as $$\\begin{align*} & L_2(\\hat{y},y) = \\sum_{i=0}^m(y^{(i)} - \\hat{y}^{(i)})^2 \\end{align*}\\tag{7}$$"
   ]
  },
  {
   "cell_type": "code",
   "execution_count": 13,
   "metadata": {},
   "outputs": [
    {
     "name": "stdout",
     "output_type": "stream",
     "text": [
      "0.43\n"
     ]
    }
   ],
   "source": [
    "yhat = np.array([.9, 0.2, 0.1, .4, .9])\n",
    "y = np.array([1, 0, 0, 1, 1])\n",
    "L2_loss = np.sum(np.square(np.subtract(yhat, y)))\n",
    "print(L2_loss)"
   ]
  }
 ],
 "metadata": {
  "kernelspec": {
   "display_name": "Python 3",
   "language": "python",
   "name": "python3"
  },
  "language_info": {
   "codemirror_mode": {
    "name": "ipython",
    "version": 3
   },
   "file_extension": ".py",
   "mimetype": "text/x-python",
   "name": "python",
   "nbconvert_exporter": "python",
   "pygments_lexer": "ipython3",
   "version": "3.7.4"
  }
 },
 "nbformat": 4,
 "nbformat_minor": 4
}
