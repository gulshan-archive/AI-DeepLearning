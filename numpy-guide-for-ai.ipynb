{
  "nbformat": 4,
  "nbformat_minor": 0,
  "metadata": {
    "kernelspec": {
      "display_name": "Python 3",
      "language": "python",
      "name": "python3"
    },
    "language_info": {
      "codemirror_mode": {
        "name": "ipython",
        "version": 3
      },
      "file_extension": ".py",
      "mimetype": "text/x-python",
      "name": "python",
      "nbconvert_exporter": "python",
      "pygments_lexer": "ipython3",
      "version": "3.7.4"
    },
    "colab": {
      "name": "numpy-guide-for-ai.ipynb",
      "provenance": []
    }
  },
  "cells": [
    {
      "cell_type": "markdown",
      "metadata": {
        "id": "-Ar63tFfFsJ2"
      },
      "source": [
        "## Numpy (Numerical Python) Guide for AI, Machine & Deep Learning\n",
        "Numpy array can only hold elements of same datatype. An array can be 1d, 2d, 3d or nd <br>\n",
        "**This Notebook will cover the widely used Numpy operations on Vectors and Martices In Artificial Intelligence & Machine Learning.**\n",
        "\n",
        "This notebook can be used as a reference and handly guide for both newcomers & Experienced in Machine Learning & AI.\n",
        "\n",
        "**NumPy  Type  C Type  Description** <br> \n",
        "np.int8       int8_t    Byte (-128 to 127) <br> \n",
        "np.int16  int16_t  Integer (-32768 to 32767) <br>\n",
        "np.int32  int32_t Integer (-2147483648 to 2147483647) <br> \n",
        "np.int64  int64_t Integer (-9223372036854775808 to 9223372036854775807) <br> \n",
        "np.uint8  uint8_t  Unsigned integer (0 to 255) <br>\n",
        "np.uint16  uint16_t  Unsigned integer (0 to 65535) <br>\n",
        "np.uint32  uint32_t  Unsigned integer (0 to 4294967295) <br> \n",
        "np.uint64  uint64_t <br>\n",
        "Unsigned integer (0 to 18446744073709551615) <br> \n",
        "np.intp  intptr_t <br>\n",
        "Integer used for indexing, typically the same as ssize_t <br>\n",
        "np.uintp  uintptr_t Integer large enough to hold a pointer <br>\n",
        "np.float32  float <br>\n",
        " \n",
        "np.float64 / np.float_  double Note that this matches the precision of the builtin python float. <br>\n",
        "np.complex64  float complex Complex number, represented by two 32-bit floats (real and imaginary components) <br> \n",
        "np.complex128 / np.complex_  double complex Note that this matches the precision of the builtin python complex. <br>"
      ]
    },
    {
      "cell_type": "markdown",
      "metadata": {
        "id": "tRqGKLtQFsJ9"
      },
      "source": [
        "## Load Modules"
      ]
    },
    {
      "cell_type": "code",
      "metadata": {
        "_cell_guid": "b1076dfc-b9ad-4769-8c92-a6c4dae69d19",
        "_uuid": "8f2839f25d086af736a60e9eeb907d3b93b6e0e5",
        "colab": {
          "base_uri": "https://localhost:8080/"
        },
        "id": "DtfNCuqxFsJ9",
        "outputId": "c6b7fd92-05e6-459a-d96c-350be881adc6"
      },
      "source": [
        "import numpy as np \n",
        "print(np.__version__)"
      ],
      "execution_count": 1,
      "outputs": [
        {
          "output_type": "stream",
          "text": [
            "1.19.5\n"
          ],
          "name": "stdout"
        }
      ]
    },
    {
      "cell_type": "markdown",
      "metadata": {
        "id": "1FJuukJXEF-z"
      },
      "source": [
        "# Limitations of List over Numpy Array\n",
        "You cant apply a mathematicsl operation over complete list but you can apply it on numpy array"
      ]
    },
    {
      "cell_type": "code",
      "metadata": {
        "colab": {
          "base_uri": "https://localhost:8080/"
        },
        "id": "QMSzFXwXDWxB",
        "outputId": "de55488a-f7a7-4008-a55e-fcca4ad481b0"
      },
      "source": [
        "distance = [10, 20, 30, 40]\n",
        "time = [.30, .40, .45, .52]\n",
        "\n",
        "# speed = distance/time   # gives error\n",
        "# using numpy array\n",
        "speed = np.array(distance)/np.array(time)\n",
        "print(speed)"
      ],
      "execution_count": 8,
      "outputs": [
        {
          "output_type": "stream",
          "text": [
            "[33.33333333 50.         66.66666667 76.92307692]\n"
          ],
          "name": "stdout"
        }
      ]
    },
    {
      "cell_type": "markdown",
      "metadata": {
        "id": "EvmwtuXAGQoj"
      },
      "source": [
        "# Appending new element in Array"
      ]
    },
    {
      "cell_type": "code",
      "metadata": {
        "colab": {
          "base_uri": "https://localhost:8080/"
        },
        "id": "vaJ3G8yvFF6B",
        "outputId": "8306b98a-0f9d-4188-cce7-03dc313ca006"
      },
      "source": [
        "distance = [10, 20, 30, 40]\n",
        "distance = distance[0]/2\n",
        "np.append(distance, 10)"
      ],
      "execution_count": 13,
      "outputs": [
        {
          "output_type": "execute_result",
          "data": {
            "text/plain": [
              "array([ 5., 10.])"
            ]
          },
          "metadata": {
            "tags": []
          },
          "execution_count": 13
        }
      ]
    },
    {
      "cell_type": "markdown",
      "metadata": {
        "id": "8gC3HHC_FsKB"
      },
      "source": [
        "## Numpy array Initialization, Access Elements & Slicing\n",
        "**Note: Array indexing starts from 0 and last element will be n-1**"
      ]
    },
    {
      "cell_type": "code",
      "metadata": {
        "id": "VEcMUBhMFsKB",
        "colab": {
          "base_uri": "https://localhost:8080/"
        },
        "outputId": "f9599cac-4d42-4f5f-8cfe-5e0dba353132"
      },
      "source": [
        "x = np.array([1,2,3,4,5,6,7,8])\n",
        "\n",
        "# Numpy array attrinutes\n",
        "print(f'shape = {x.shape}')\n",
        "print(f'type = {x.dtype}')    # display datatype\n",
        "print(f'size = {x.size}')\n",
        "print(f'dimension = {x.ndim}')   # 1d/2d/3d/nd\n",
        "# Notice the default elements size is int64\n",
        "\n",
        "# Set the datatype for stored array elements\n",
        "x = np.array([1,2,3,4,5,6,7,8], np.int8)\n",
        "print(x.shape, x.dtype, x.size, x.ndim)  # numpy array attributes\n",
        "\n",
        "# To access array elements\n",
        "print(x[0], x[1])\n",
        "# print(x[10])  # Give out of bound error when try to access element outside of array dimension\n",
        "print(x[-1]) # Access last element, since array counting starts from 0\n",
        "\n",
        "# Access Elements based on Range\n",
        "print(x[0:3])  # prints elements at location from 0 to 2 with a total of 3 elements \n",
        "print(x[:4])   # prints elements starts from index 0 till index 4-1 ie. 3\n",
        "print(x[3:5])  # prints elements from index 3 to index 4\n",
        "print(x[:])    # prints all elements\n",
        "print(x[0:6:2]) # prints elements from index 0 till index 5 with a gap of 2.. ie 0th, 2th, 4th\n",
        "\n",
        "# Creating nD array\n",
        "y = np.array([[1,2,3],[4,5,6]])     # create 2D array. Notie the 2 starting square brackets\n",
        "print(y)       \n",
        "print(f'Datatype={y.dtype}')\n",
        "print(f'Dimension = {y.ndim}')         # prints the dimension of numpy array\n",
        "# prints number of bytes in an array. Total 6 elements of size int64. So, 8x6=48 bytes\n",
        "print(f'Number of bytes={y.nbytes}')   \n",
        "\n",
        "# Accessing 2D array element\n",
        "print(y[0,0], y[1,2])\n",
        "print(y[:,0])     # Access first column\n",
        "print(y[1,:])     # Access 2nd row "
      ],
      "execution_count": 16,
      "outputs": [
        {
          "output_type": "stream",
          "text": [
            "shape = (8,)\n",
            "type = int64\n",
            "size = 8\n",
            "dimension = 1\n",
            "(8,) int8 8 1\n",
            "1 2\n",
            "8\n",
            "[1 2 3]\n",
            "[1 2 3 4]\n",
            "[4 5]\n",
            "[1 2 3 4 5 6 7 8]\n",
            "[1 3 5]\n",
            "[[1 2 3]\n",
            " [4 5 6]]\n",
            "Datatype=int64\n",
            "Dimension = 2\n",
            "Number of bytes=48\n",
            "1 6\n",
            "[1 4]\n",
            "[4 5 6]\n"
          ],
          "name": "stdout"
        }
      ]
    },
    {
      "cell_type": "markdown",
      "metadata": {
        "id": "omqFFOMBFsKC"
      },
      "source": [
        "## np.shape & np.reshape\n",
        "**np.shape : Gives the shape of matrix/vector**\n",
        "**np.reshape: Matrix/vector can be reshaoe to any size based on the no. of elements**"
      ]
    },
    {
      "cell_type": "code",
      "metadata": {
        "id": "fsqKh0dwFsKC",
        "outputId": "d6b54e8e-615d-4ec4-ff5a-06d2139de5dd"
      },
      "source": [
        "x = np.array([1,2,3,4,5,6,7,8,9])  # convert the passed list to form array\n",
        "print(x.shape)        # prints shape/dimension of array/vector/matrix\n",
        "print(f'Dimension = {x.ndim}')         # prints the dimension of numpy array\n",
        "\n",
        "#Creating n-dimentional Array\n",
        "x = x.reshape(9,1)    # reshape the array into a row vector\n",
        "print(x)\n",
        "print(x.shape)\n",
        "x = x.reshape(1,9)    # reshape the array into a column vector\n",
        "print(x)\n",
        "print(x.shape)\n",
        "x = x.reshape(3,3)    # reshape into a 3x3 matrix\n",
        "print(x)\n",
        "print(x.shape)\n",
        "print(f'Dimension = {x.ndim}')         # prints the dimension of numpy array\n",
        "\n",
        "# rows and columns in the shape can be individually accessed as\n",
        "print(x.shape[0])\n",
        "print(x.shape[1])"
      ],
      "execution_count": null,
      "outputs": [
        {
          "output_type": "stream",
          "text": [
            "(9,)\n",
            "Dimension = 1\n",
            "[[1]\n",
            " [2]\n",
            " [3]\n",
            " [4]\n",
            " [5]\n",
            " [6]\n",
            " [7]\n",
            " [8]\n",
            " [9]]\n",
            "(9, 1)\n",
            "[[1 2 3 4 5 6 7 8 9]]\n",
            "(1, 9)\n",
            "[[1 2 3]\n",
            " [4 5 6]\n",
            " [7 8 9]]\n",
            "(3, 3)\n",
            "Dimension = 2\n",
            "3\n",
            "3\n"
          ],
          "name": "stdout"
        }
      ]
    },
    {
      "cell_type": "markdown",
      "metadata": {
        "id": "pjoPvtPeFsKD"
      },
      "source": [
        "## Copy 1 numpy array into Another"
      ]
    },
    {
      "cell_type": "code",
      "metadata": {
        "id": "AKQaoI_UFsKE",
        "outputId": "d7d81bcb-52b1-4da2-be41-65df0e28dd36"
      },
      "source": [
        "x = np.array([1,2,3,4,5,6])\n",
        "y = np.copy(x)\n",
        "print(x,y)"
      ],
      "execution_count": null,
      "outputs": [
        {
          "output_type": "stream",
          "text": [
            "[1 2 3 4 5 6] [1 2 3 4 5 6]\n"
          ],
          "name": "stdout"
        }
      ]
    },
    {
      "cell_type": "markdown",
      "metadata": {
        "id": "wcg8tmvtFsKE"
      },
      "source": [
        "## Transpose\n",
        "Flipping a matrix over its diagonal. ie. swapping of rows and colums"
      ]
    },
    {
      "cell_type": "code",
      "metadata": {
        "id": "1DUgq4zGFsKF",
        "outputId": "a4913d3b-77cc-47e4-d947-4a6f843027c8"
      },
      "source": [
        "x = np.array([1,2,3,4,5,6])\n",
        "print(x.T)   # No change since its a 1D array\n",
        "\n",
        "x=x.reshape(2,3)\n",
        "print(x)\n",
        "print(x.T)   # Rows and columns gets swapped"
      ],
      "execution_count": null,
      "outputs": [
        {
          "output_type": "stream",
          "text": [
            "[1 2 3 4 5 6]\n",
            "[[1 2 3]\n",
            " [4 5 6]]\n",
            "[[1 4]\n",
            " [2 5]\n",
            " [3 6]]\n"
          ],
          "name": "stdout"
        }
      ]
    },
    {
      "cell_type": "markdown",
      "metadata": {
        "id": "-3JB_mr7FsKH"
      },
      "source": [
        "## Numpy Constants (np.inf, np.NAN, np.e, np.pi...)\n"
      ]
    },
    {
      "cell_type": "code",
      "metadata": {
        "colab": {
          "base_uri": "https://localhost:8080/"
        },
        "id": "wpAudXvAFsKH",
        "outputId": "fb46bcd8-0dca-4c28-e923-ee841d4d683e"
      },
      "source": [
        "print(np.inf)      # infinity / Positive infinity\n",
        "print(np.NAN)      # Not A Number\n",
        "print(np.NINF)     # Negative Infinity \n",
        "print(np.PZERO)    # Positive zero\n",
        "print(np.NZERO)    # Negative zero\n",
        "print(np.e)        # Euler Number (2.718.....)\n",
        "print(np.pi)       # 3.14......."
      ],
      "execution_count": null,
      "outputs": [
        {
          "output_type": "stream",
          "text": [
            "inf\n",
            "nan\n",
            "-inf\n",
            "0.0\n",
            "-0.0\n",
            "2.718281828459045\n",
            "3.141592653589793\n"
          ],
          "name": "stdout"
        }
      ]
    },
    {
      "cell_type": "markdown",
      "metadata": {
        "id": "skbPsSpFFsKH"
      },
      "source": [
        "## Ones and Zeros Matrix"
      ]
    },
    {
      "cell_type": "code",
      "metadata": {
        "id": "Sjgjab5aFsKH",
        "outputId": "da0c44e2-db2f-489d-b92a-7dab3245e8df"
      },
      "source": [
        "#Creating an nD array with Random Values\n",
        "print(np.empty([3,3])) # Random 3x3 size 2D array/matrix\n",
        "\n",
        "print(np.zeros([3,3]))  # 3x3 size 2D array/matrix with all zeros\n",
        "\n",
        "print(np.zeros([2,3,3])) #2x3x3 size 3D array/matrix \n",
        "\n",
        "print(np.ones([3,3]))   # 3x3 size 2D array with all ones\n",
        "\n",
        "print(np.eye(5))        # identical 2d array with 5 one's diagnoally"
      ],
      "execution_count": null,
      "outputs": [
        {
          "output_type": "stream",
          "text": [
            "[[1. 1. 1.]\n",
            " [1. 1. 1.]\n",
            " [1. 1. 1.]]\n",
            "[[0. 0. 0.]\n",
            " [0. 0. 0.]\n",
            " [0. 0. 0.]]\n",
            "[[[0. 0. 0.]\n",
            "  [0. 0. 0.]\n",
            "  [0. 0. 0.]]\n",
            "\n",
            " [[0. 0. 0.]\n",
            "  [0. 0. 0.]\n",
            "  [0. 0. 0.]]]\n",
            "[[1. 1. 1.]\n",
            " [1. 1. 1.]\n",
            " [1. 1. 1.]]\n",
            "[[1. 0. 0. 0. 0.]\n",
            " [0. 1. 0. 0. 0.]\n",
            " [0. 0. 1. 0. 0.]\n",
            " [0. 0. 0. 1. 0.]\n",
            " [0. 0. 0. 0. 1.]]\n"
          ],
          "name": "stdout"
        }
      ]
    },
    {
      "cell_type": "markdown",
      "metadata": {
        "id": "zmlWnaBpFsKH"
      },
      "source": [
        "## np.arange (similar to python range) & np.linspace"
      ]
    },
    {
      "cell_type": "code",
      "metadata": {
        "id": "E7WFpmJ6FsKI",
        "outputId": "af5f1750-d46d-4774-c136-bddeb621ce2a"
      },
      "source": [
        "print(np.arange(10))         # create an array of 10 elements from 0 to 9\n",
        "print(np.arange(2,10))       # crate an array of elements that starts from 2 and ends before 10\n",
        "print(np.arange(2,10,3))     # creates an array of elements thats starts from 2 upto 9 with a gap of 3\n",
        "\n",
        "# Linspace is use to linearly spaced array elements by passing a start number, stop number and total\n",
        "# numbers to be printed\n",
        "print(np.linspace(start=0, stop=10, num=10))\n",
        "print(np.linspace(start=0, stop=20, num=10, dtype=np.int8))\n",
        "\n",
        "print(np.logspace(0, 10, 10)) # Returns evenly spaced number in log scale\n"
      ],
      "execution_count": null,
      "outputs": [
        {
          "output_type": "stream",
          "text": [
            "[0 1 2 3 4 5 6 7 8 9]\n",
            "[2 3 4 5 6 7 8 9]\n",
            "[2 5 8]\n",
            "[ 0.          1.11111111  2.22222222  3.33333333  4.44444444  5.55555556\n",
            "  6.66666667  7.77777778  8.88888889 10.        ]\n",
            "[ 0  2  4  6  8 11 13 15 17 20]\n",
            "[1.00000000e+00 1.29154967e+01 1.66810054e+02 2.15443469e+03\n",
            " 2.78255940e+04 3.59381366e+05 4.64158883e+06 5.99484250e+07\n",
            " 7.74263683e+08 1.00000000e+10]\n"
          ],
          "name": "stdout"
        }
      ]
    },
    {
      "cell_type": "markdown",
      "metadata": {
        "id": "SwllCLrsMgXQ"
      },
      "source": [
        ""
      ]
    },
    {
      "cell_type": "markdown",
      "metadata": {
        "id": "xPgN1ZB7FsKI"
      },
      "source": [
        "## Random Number Generation using rand, randint, randn"
      ]
    },
    {
      "cell_type": "code",
      "metadata": {
        "id": "EJOvt8NRFsKJ",
        "outputId": "5c9fdd07-3303-4aa8-f4eb-5a8d8c56a2b4"
      },
      "source": [
        "print(np.random.randint(10))           # Generate a random number less less than the passed value\n",
        "print(np.random.randint(low=0,high=5)) # Generate a random number between passed low and high value\n",
        "print(np.random.randint(0, 5))         # same as above\n",
        "print(np.random.randint(low=0, high=5, size=10)) # Generates 10 random numbers\n",
        "print(np.random.randint(low=0, high=5, size=10, dtype=np.int8))\n",
        "\n",
        "print(np.random.rand(10))   # generates 10 floating point positive random numbers\n",
        "print('\\n')\n",
        "print(np.random.rand(3,3)) # generates 3x3 2D array/matrix of random numbers\n",
        "print('\\n')\n",
        "# Notice the 3 starrting square brackets in the output. It indicates that it is a 3D matrix\n",
        "print(np.random.rand(2,3,3)) # generates 2x3x3 3D array/matrix of random numbers\n",
        "print('\\n')\n",
        "print(np.random.randn(10))  # generates floating point positive and negative random numbers equals to passed parameter\n"
      ],
      "execution_count": null,
      "outputs": [
        {
          "output_type": "stream",
          "text": [
            "1\n",
            "0\n",
            "2\n",
            "[4 1 1 2 3 0 3 0 4 1]\n",
            "[4 4 3 2 2 2 4 2 3 2]\n",
            "[0.47223536 0.85002056 0.86532661 0.60863124 0.88912949 0.16797771\n",
            " 0.96311123 0.76344502 0.50829524 0.17551505]\n",
            "\n",
            "\n",
            "[[7.72171859e-01 1.76789591e-01 9.58845594e-02]\n",
            " [2.61651373e-04 4.79423096e-01 8.86335600e-01]\n",
            " [2.71421188e-01 2.12698209e-01 3.97428393e-01]]\n",
            "\n",
            "\n",
            "[[[0.25645478 0.45106654 0.45696007]\n",
            "  [0.95485818 0.94163533 0.62801552]\n",
            "  [0.74782456 0.06668444 0.63818906]]\n",
            "\n",
            " [[0.99700411 0.74621644 0.57611883]\n",
            "  [0.17869202 0.5362909  0.23102813]\n",
            "  [0.5765678  0.04853011 0.33412543]]]\n",
            "\n",
            "\n",
            "[ 0.62698609  0.52990168 -1.7222719   1.03848644  0.71333812 -1.22543441\n",
            "  0.14547441 -0.84353477 -0.12121542 -2.13987236]\n"
          ],
          "name": "stdout"
        }
      ]
    },
    {
      "cell_type": "markdown",
      "metadata": {
        "id": "fV8GBeJ-FsKJ"
      },
      "source": [
        "# Flatten any matrix to 1-D Array\n",
        "\n",
        "### Differences between Flatten() and Ravel()\n",
        "\n",
        "a.ravel(): <br>\n",
        "(i) Return only reference/view of original array <br>\n",
        "(ii) If you modify the array you would notice that the value of original array also changes. <br>\n",
        "(iii) Ravel is faster than flatten() as it does not occupy any memory. <br>\n",
        "(iv) Ravel is a library-level function. <br>\n",
        "\n",
        "a.flatten(): <br>\n",
        "(i) Return copy of original array <br>\n",
        "(ii) If you modify any value of this array value of original array is not affected. <br>\n",
        "(iii) Flatten() is comparatively slower than ravel() as it occupies memory. <br>\n",
        "(iv) Flatten is a method of an ndarray object. <br>\n",
        "\n"
      ]
    },
    {
      "cell_type": "code",
      "metadata": {
        "id": "OuZ8a0QYFsKJ",
        "colab": {
          "base_uri": "https://localhost:8080/"
        },
        "outputId": "0810d845-d7e3-4099-ce6e-4b593095a750"
      },
      "source": [
        "np.random.seed\n",
        "x = np.random.randint(0,10,20).reshape(5,4)\n",
        "print(x)\n",
        "\n",
        "# Flatten passes copy of original array to 'y' \n",
        "y = x.flatten()    # Flatten the matrix to 1D array\n",
        "print(y)\n",
        "y[0] = 100\n",
        "print(x)\n",
        "\n",
        "# Ravel only passes a view of original array to array 'z'\n",
        "z = x.ravel()\n",
        "print(z)\n",
        "z[0] = 50\n",
        "print(x)"
      ],
      "execution_count": 37,
      "outputs": [
        {
          "output_type": "stream",
          "text": [
            "[[1 6 6 2]\n",
            " [2 6 2 8]\n",
            " [3 4 5 0]\n",
            " [5 9 6 6]\n",
            " [9 8 8 5]]\n",
            "[1 6 6 2 2 6 2 8 3 4 5 0 5 9 6 6 9 8 8 5]\n",
            "[[1 6 6 2]\n",
            " [2 6 2 8]\n",
            " [3 4 5 0]\n",
            " [5 9 6 6]\n",
            " [9 8 8 5]]\n",
            "[1 6 6 2 2 6 2 8 3 4 5 0 5 9 6 6 9 8 8 5]\n",
            "[[50  6  6  2]\n",
            " [ 2  6  2  8]\n",
            " [ 3  4  5  0]\n",
            " [ 5  9  6  6]\n",
            " [ 9  8  8  5]]\n"
          ],
          "name": "stdout"
        }
      ]
    },
    {
      "cell_type": "markdown",
      "metadata": {
        "id": "O16cSIBLFsKJ"
      },
      "source": [
        "# np.stack to stack 2 arrays 1 over another \n",
        "Both arrays should have the same dimension"
      ]
    },
    {
      "cell_type": "code",
      "metadata": {
        "colab": {
          "base_uri": "https://localhost:8080/"
        },
        "id": "63mwAo1rFsKK",
        "outputId": "22c6c11c-b638-4e52-d578-b046be9f153f"
      },
      "source": [
        "x = np.array([1,2,3,4])\n",
        "y = np.array([5,6,7,8])\n",
        "z = np.stack((x,y))      # stacking horizontally when axis=0 (default)\n",
        "print(z)\n",
        "z = np.stack((x,y), axis=1)  # stacking vertically when axis=1\n",
        "print(z)\n",
        "\n",
        "z = np.hstack((x,y))  # stacking horizontally similar to appending\n",
        "print(z)\n",
        "\n",
        "x = np.array([1,2,3,4]).reshape(2,2)\n",
        "y = np.array([5,6,7,8]).reshape(2,2)\n",
        "z = np.stack((x,y))\n",
        "print(f'z = {z}')"
      ],
      "execution_count": null,
      "outputs": [
        {
          "output_type": "stream",
          "text": [
            "[[1 2 3 4]\n",
            " [5 6 7 8]]\n",
            "[[1 5]\n",
            " [2 6]\n",
            " [3 7]\n",
            " [4 8]]\n",
            "[1 2 3 4 5 6 7 8]\n",
            "z = [[[1 2]\n",
            "  [3 4]]\n",
            "\n",
            " [[5 6]\n",
            "  [7 8]]]\n"
          ],
          "name": "stdout"
        }
      ]
    },
    {
      "cell_type": "markdown",
      "metadata": {
        "id": "CKhnjmISFsKK"
      },
      "source": [
        "## np.split : Splitting numpy Array into multiple sub-arrays"
      ]
    },
    {
      "cell_type": "code",
      "metadata": {
        "id": "7DRE6B0AFsKK",
        "outputId": "f1c19ea0-ff89-4a46-b896-99a9f7a3ab94"
      },
      "source": [
        "x = np.array([1,2,3,4,5,6,7,8,9])\n",
        "print(np.split(x, 3))  # split into equal sub arrays\n",
        "# Split array can be captured as\n",
        "a,b,c = np.split(x, 3)\n",
        "print(a,b,c)"
      ],
      "execution_count": null,
      "outputs": [
        {
          "output_type": "stream",
          "text": [
            "[array([1, 2, 3]), array([4, 5, 6]), array([7, 8, 9])]\n",
            "[1 2 3] [4 5 6] [7 8 9]\n",
            "[9 8 7 6 5 4 3 2 1]\n"
          ],
          "name": "stdout"
        }
      ]
    },
    {
      "cell_type": "markdown",
      "metadata": {
        "id": "5mgSRKbzFsKL"
      },
      "source": [
        "## np.flip : Flipping the array"
      ]
    },
    {
      "cell_type": "code",
      "metadata": {
        "colab": {
          "base_uri": "https://localhost:8080/"
        },
        "id": "q_wBc0bEFsKL",
        "outputId": "4fd60279-c4b8-4f47-a97a-2c5cc8155143"
      },
      "source": [
        "x = np.array([1,2,3,4,5,6,7,8,9])\n",
        "print(np.flip(x))\n",
        "\n",
        "x = np.array([1,2,3,4,5,6,7,8,9]).reshape(3,3)\n",
        "print(x)\n",
        "print('\\n')\n",
        "print(f'horizontal flip = \\n {np.flip(x)}')        #  flip horizontally\n",
        "print('\\n')\n",
        "print(f'vertical flip = \\n {np.flip(x, axis=1)}')  # flip vertically\n",
        "print('\\n')"
      ],
      "execution_count": null,
      "outputs": [
        {
          "output_type": "stream",
          "text": [
            "[9 8 7 6 5 4 3 2 1]\n",
            "[[1 2 3]\n",
            " [4 5 6]\n",
            " [7 8 9]]\n",
            "\n",
            "\n",
            "horizontal flip = \n",
            " [[9 8 7]\n",
            " [6 5 4]\n",
            " [3 2 1]]\n",
            "\n",
            "\n",
            "vertical flip = \n",
            " [[3 2 1]\n",
            " [6 5 4]\n",
            " [9 8 7]]\n",
            "\n",
            "\n"
          ],
          "name": "stdout"
        }
      ]
    },
    {
      "cell_type": "markdown",
      "metadata": {
        "id": "X-vBj9bUFsKM"
      },
      "source": [
        "## Bitwise Operations"
      ]
    },
    {
      "cell_type": "code",
      "metadata": {
        "id": "Hv7KL7woFsKM",
        "outputId": "bc453147-45e6-4dc5-a8e8-49a3e43deeb9"
      },
      "source": [
        "x = np.array([1,2,3,4])\n",
        "y = np.array([2,3,1,0])\n",
        "print(np.bitwise_or(x,y))\n",
        "print(np.bitwise_and(x,y))\n",
        "print(np.bitwise_xor(x,y))\n",
        "\n",
        "x = np.array([1,0,1], np.uint8)\n",
        "print(np.bitwise_not(x))"
      ],
      "execution_count": null,
      "outputs": [
        {
          "output_type": "stream",
          "text": [
            "[3 3 3 4]\n",
            "[0 2 1 0]\n",
            "[3 1 2 4]\n",
            "[254 255 254]\n"
          ],
          "name": "stdout"
        }
      ]
    },
    {
      "cell_type": "markdown",
      "metadata": {
        "id": "1_tBMtWuL5fM"
      },
      "source": [
        "# Mathematical Operations (+, -, *, /, **) <br> \n",
        "# Comparison Operators(>, >=, <, <=, ==, !=) <br> \n",
        "# Boolean operations <br>\n",
        "# Logical operators <br>"
      ]
    },
    {
      "cell_type": "code",
      "metadata": {
        "colab": {
          "base_uri": "https://localhost:8080/"
        },
        "id": "_z-bc2l_L9mg",
        "outputId": "d6f8b684-2adc-463a-9fe3-5f5b99c7e028"
      },
      "source": [
        "arr = np.array([1,2,3,4,5,6,7,8,9])\n",
        "print(arr[arr > 5])\n",
        "print(arr[arr != 5])\n",
        "\n",
        "# Boolean operation\n",
        "arr1 = arr>5  \n",
        "print(arr1)\n",
        "\n",
        "print(np.logical_and(arr>3, arr<7))\n",
        "print(arr[np.logical_and(arr>3, arr<7)])"
      ],
      "execution_count": 29,
      "outputs": [
        {
          "output_type": "stream",
          "text": [
            "[6 7 8 9]\n",
            "[1 2 3 4 6 7 8 9]\n",
            "[False False False False False  True  True  True  True]\n",
            "[False False False  True  True  True False False False]\n",
            "[4 5 6]\n"
          ],
          "name": "stdout"
        }
      ]
    },
    {
      "cell_type": "markdown",
      "metadata": {
        "id": "FwsaVHeoFsKM"
      },
      "source": [
        "## Reshaping of Images\n",
        "A coloured image is represented by a 3D array of shape (length,height,depth=3) where depth of 3 correponds to R,G, B color. However, when you read an image as the input of an algorithm you need to convert it to a vector of shape **(length∗height∗depth, 1)**. ie. you need to reshape the 3D array into a 1D vector"
      ]
    },
    {
      "cell_type": "code",
      "metadata": {
        "id": "lpIJ8bfzFsKM",
        "outputId": "50e100a7-98ed-47a0-d739-5c0275656e83"
      },
      "source": [
        "# Consider the below image of shape (3,3,3)\n",
        "image = np.array([[[ 0.67826139,  0.29380381, 0.67826139],\n",
        "        [ 0.90714982,  0.52835647, 0.90714982],\n",
        "        [ 0.4215251 ,  0.45017551, 0.4215251]],\n",
        "\n",
        "       [[ 0.92814219,  0.96677647, 0.92814219],\n",
        "        [ 0.85304703,  0.52351845, 0.85304703],\n",
        "        [ 0.19981397,  0.27417313, 0.19981397]],\n",
        "\n",
        "       [[ 0.60659855,  0.00533165, 0.60659855],\n",
        "        [ 0.10820313,  0.49978937, 0.10820313],\n",
        "        [ 0.34144279,  0.94630077, 0.34144279]]])\n",
        "\n",
        "print(image.shape)\n",
        "new_shape = image.reshape(image.shape[0]*image.shape[1]*image.shape[2], 1)\n",
        "print(new_shape)\n",
        "print(new_shape.shape)"
      ],
      "execution_count": null,
      "outputs": [
        {
          "output_type": "stream",
          "text": [
            "(3, 3, 3)\n",
            "[[0.67826139]\n",
            " [0.29380381]\n",
            " [0.67826139]\n",
            " [0.90714982]\n",
            " [0.52835647]\n",
            " [0.90714982]\n",
            " [0.4215251 ]\n",
            " [0.45017551]\n",
            " [0.4215251 ]\n",
            " [0.92814219]\n",
            " [0.96677647]\n",
            " [0.92814219]\n",
            " [0.85304703]\n",
            " [0.52351845]\n",
            " [0.85304703]\n",
            " [0.19981397]\n",
            " [0.27417313]\n",
            " [0.19981397]\n",
            " [0.60659855]\n",
            " [0.00533165]\n",
            " [0.60659855]\n",
            " [0.10820313]\n",
            " [0.49978937]\n",
            " [0.10820313]\n",
            " [0.34144279]\n",
            " [0.94630077]\n",
            " [0.34144279]]\n",
            "(27, 1)\n"
          ],
          "name": "stdout"
        }
      ]
    },
    {
      "cell_type": "markdown",
      "metadata": {
        "id": "gxgxI5GhFsKN"
      },
      "source": [
        "## Adding a matrix with m rows and 1 column to another with 1 row and 1 column\n",
        "**A Matrix is defined as a 2D array with Rows & Columns**\n",
        "So,lets denote number of rows with m and\n",
        "number of columns with n\n",
        "\n",
        "**Below are the generalized formula for doing mathematical operation (add, subtract, multiply, divide) on 2 matrices**\n",
        "\n",
        "Adding a matrix with m row and 1 column to another with 1 row and 1 column will result in adding each row of matrix m with 2nd matrix row\n",
        "* **(m,1) + (1,1) = (m+1, 1)**\n",
        "* **(m,1) * (1,1) = (mx1, 1)**\n",
        "* **(m,1) / (1,1) = (m/1, 1)**\n",
        "* **(m,1) - (1,1) = (m-1, 1)**"
      ]
    },
    {
      "cell_type": "code",
      "metadata": {
        "_cell_guid": "79c7e3d0-c299-4dcb-8224-4455121ee9b0",
        "_uuid": "d629ff2d2480ee46fbb7e2d37f6b5fab8052498a",
        "id": "f1ZIO3eWFsKN",
        "outputId": "aefcaf6f-8c6d-4606-edef-053baaa48307"
      },
      "source": [
        "list1 = [1,2,3,4,5,6]\n",
        "list2 = [10,20,30]\n",
        "\n",
        "matrix1 = np.array(list1).reshape(6,1)      # 6 rows and 1 column\n",
        "print(f\"Matrix1 of size m,1 = \\n{matrix1}\")\n",
        "\n",
        "matrix2 = np.array(list2[0]).reshape(1,1)\n",
        "print(f\"Matrix2 of size 1,1 = \\n{matrix2}\")\n",
        "\n",
        "add_result = np.add(matrix1, matrix2)\n",
        "print(f\"Result m+1,1 = \\n{add_result}\")\n",
        "\n",
        "mult_result = np.matmul(matrix1, matrix2)\n",
        "print(f\"Result mx1,1 = \\n{mult_result}\")\n",
        "\n",
        "div_result = np.divide(matrix1, matrix2)\n",
        "print(f\"Result m/1,1 = \\n{div_result}\")\n",
        "\n",
        "sub_result = np.subtract(matrix1, matrix2)\n",
        "print(f\"Result m-1,1 = \\n{sub_result}\")"
      ],
      "execution_count": null,
      "outputs": [
        {
          "output_type": "stream",
          "text": [
            "Matrix1 of size m,1 = \n",
            "[[1]\n",
            " [2]\n",
            " [3]\n",
            " [4]\n",
            " [5]\n",
            " [6]]\n",
            "Matrix2 of size 1,1 = \n",
            "[[10]]\n",
            "Result m+1,1 = \n",
            "[[11]\n",
            " [12]\n",
            " [13]\n",
            " [14]\n",
            " [15]\n",
            " [16]]\n",
            "Result mx1,1 = \n",
            "[[10]\n",
            " [20]\n",
            " [30]\n",
            " [40]\n",
            " [50]\n",
            " [60]]\n",
            "Result m/1,1 = \n",
            "[[0.1]\n",
            " [0.2]\n",
            " [0.3]\n",
            " [0.4]\n",
            " [0.5]\n",
            " [0.6]]\n",
            "Result m-1,1 = \n",
            "[[-9]\n",
            " [-8]\n",
            " [-7]\n",
            " [-6]\n",
            " [-5]\n",
            " [-4]]\n"
          ],
          "name": "stdout"
        }
      ]
    },
    {
      "cell_type": "markdown",
      "metadata": {
        "id": "DeNiMIDyFsKN"
      },
      "source": [
        "## Adding a matrix with 1 row and n columns to another with 1 row and 1 column\n",
        "**(1, n) + (1, 1) = (1, n+1)**"
      ]
    },
    {
      "cell_type": "code",
      "metadata": {
        "id": "8Q8RT2nPFsKO",
        "outputId": "eee6fce8-9601-4419-8741-bf28604438ed"
      },
      "source": [
        "list1 = [1,2,3,4,5,6]\n",
        "list2 = [10,20,30]\n",
        "\n",
        "matrix1 = np.array(list1).reshape(1,6)     # 1 row and 6 columns\n",
        "print(f\"Matrix1 of size 1,m = \\n{matrix1}\")\n",
        "\n",
        "matrix2 = np.array(list2[0]).reshape(1,1)\n",
        "print(f\"Matrix2 of size 1,1 = \\n{matrix2}\")\n",
        "\n",
        "add_result = np.add(matrix1, matrix2)\n",
        "print(f\"Result 1,n+1 = \\n{add_result}\")"
      ],
      "execution_count": null,
      "outputs": [
        {
          "output_type": "stream",
          "text": [
            "Matrix1 of size 1,m = \n",
            "[[1 2 3 4 5 6]]\n",
            "Matrix2 of size 1,1 = \n",
            "[[10]]\n",
            "Result 1,n+1 = \n",
            "[[11 12 13 14 15 16]]\n"
          ],
          "name": "stdout"
        }
      ]
    },
    {
      "cell_type": "markdown",
      "metadata": {
        "id": "VEGd-GFxFsKO"
      },
      "source": [
        "## Adding a matrix with m rows and n columns to another with 1 row and n columns\n",
        "**(m, n) + (1, n) = (m, n+n)**"
      ]
    },
    {
      "cell_type": "code",
      "metadata": {
        "id": "tDStPeIMFsKO",
        "outputId": "19f3843e-488a-4dd5-8d5a-891d6f04e8b0"
      },
      "source": [
        "list1 = [1,2,3,4,5,6]\n",
        "list2 = [10,20,30]\n",
        "\n",
        "matrix1 = np.array(list1).reshape(2,3)     # 2rows and 3 columns\n",
        "print(f\"Matrix1 of size m,n = \\n{matrix1}\")\n",
        "\n",
        "matrix2 = np.array(list2).reshape(1,3)\n",
        "print(f\"Matrix2 of size 1,n = \\n{matrix2}\")\n",
        "\n",
        "add_result = np.add(matrix1, matrix2)\n",
        "print(f\"Result m,n+n = \\n{add_result}\")"
      ],
      "execution_count": null,
      "outputs": [
        {
          "output_type": "stream",
          "text": [
            "Matrix1 of size m,n = \n",
            "[[1 2 3]\n",
            " [4 5 6]]\n",
            "Matrix2 of size 1,n = \n",
            "[[10 20 30]]\n",
            "Result m,n+n = \n",
            "[[11 22 33]\n",
            " [14 25 36]]\n"
          ],
          "name": "stdout"
        }
      ]
    },
    {
      "cell_type": "markdown",
      "metadata": {
        "id": "CNEBGMt4FsKO"
      },
      "source": [
        "## Adding a matrix with m rows and n columns to another with m rows and 1 column\n",
        "**(m, n) + (m, 1) = (m+m, n)**"
      ]
    },
    {
      "cell_type": "code",
      "metadata": {
        "id": "328ZvjGJFsKO",
        "outputId": "24bcd548-611a-41d0-ed5f-56401035e857"
      },
      "source": [
        "list1 = [1,2,3,4,5,6]\n",
        "list2 = [10,20,30]\n",
        "\n",
        "matrix1 = np.array(list1).reshape(3,2)     # 3 rows and 2 columns\n",
        "print(f\"Matrix1 of size m,n = \\n{matrix1}\")\n",
        "\n",
        "matrix2 = np.array(list2).reshape(3,1)     # 3 rows and 1 column\n",
        "print(f\"Matrix2 of size 3,1 = \\n{matrix2}\")\n",
        "\n",
        "add_result = np.add(matrix1, matrix2)\n",
        "print(f\"Result m+m,n = \\n{add_result}\")"
      ],
      "execution_count": null,
      "outputs": [
        {
          "output_type": "stream",
          "text": [
            "Matrix1 of size m,n = \n",
            "[[1 2]\n",
            " [3 4]\n",
            " [5 6]]\n",
            "Matrix2 of size 3,1 = \n",
            "[[10]\n",
            " [20]\n",
            " [30]]\n",
            "Result m+m,n = \n",
            "[[11 12]\n",
            " [23 24]\n",
            " [35 36]]\n"
          ],
          "name": "stdout"
        }
      ]
    },
    {
      "cell_type": "markdown",
      "metadata": {
        "id": "fzMq2WbRFsKO"
      },
      "source": [
        "## Adding a matrix with m rows and n columns to another with m rows and n columns\n",
        "Then it will be any of 1 below\n",
        "* **(m, n) + (m, n) = (m+m, n)**\n",
        "* **(m, n) + (m, n) = (m, n+n)**\n",
        "1. Both will have same results"
      ]
    },
    {
      "cell_type": "code",
      "metadata": {
        "id": "jSW-LTXtFsKP",
        "outputId": "5c49acca-5d6d-4c39-d97d-e213e56f4535"
      },
      "source": [
        "list1 = [1,2,3,4,5,6]\n",
        "list2 = [10,20,30,40,50,60]\n",
        "\n",
        "matrix1 = np.array(list1).reshape(3,2)     # 3 rows and 2 columns\n",
        "print(f\"Matrix1 of size m,n = \\n{matrix1}\")\n",
        "\n",
        "matrix2 = np.array(list2).reshape(3,2)     # 3 rows and 2 column\n",
        "print(f\"Matrix2 of size 3,2 = \\n{matrix2}\")\n",
        "\n",
        "add_result = np.add(matrix1, matrix2)\n",
        "print(f\"Result m+m,n+n = \\n{add_result}\")"
      ],
      "execution_count": null,
      "outputs": [
        {
          "output_type": "stream",
          "text": [
            "Matrix1 of size m,n = \n",
            "[[1 2]\n",
            " [3 4]\n",
            " [5 6]]\n",
            "Matrix2 of size 3,2 = \n",
            "[[10 20]\n",
            " [30 40]\n",
            " [50 60]]\n",
            "Result m+m,n+n = \n",
            "[[11 22]\n",
            " [33 44]\n",
            " [55 66]]\n"
          ],
          "name": "stdout"
        }
      ]
    },
    {
      "cell_type": "markdown",
      "metadata": {
        "id": "OHUuHacpFsKP"
      },
      "source": [
        "## Dot (np.dot) multiplication of 2 Vectors & Matrices"
      ]
    },
    {
      "cell_type": "code",
      "metadata": {
        "id": "v_IAMudpFsKQ",
        "outputId": "1b2a4b47-aba9-4788-f7d2-a42639fe55d8"
      },
      "source": [
        "# Dot operation on 2 vectors\n",
        "x = np.array([1,2,3,4])\n",
        "y = np.array([5,6,7,8])\n",
        "result = np.dot(x,y)\n",
        "print(result)   # 1x5 + 2x6 + 3x7 + 4x8 = 70\n",
        "\n",
        "# Dot operation on 2 matrices\n",
        "x = np.array([1,2,3,4]).reshape(2,2)\n",
        "print(f\"x = \\n{x}\")\n",
        "y = np.array([5,6,7,8]).reshape(2,2)\n",
        "print(f\"y = \\n{y}\")\n",
        "result = np.dot(x,y)\n",
        "\n",
        "# Output calculation (Row X Column):\n",
        "# 1x5 + 2x7 = 19  ie. row 1 to column 1\n",
        "# 3x5 + 4x7 = 43  ie. row 2 to column 1\n",
        "# 1x6 + 2x8 = 22  ie. row 1 to column 2\n",
        "# 3x6 + 4x8 = 50  ie. row 2 to column 2\n",
        "print(f\"result = \\n{result}\")   "
      ],
      "execution_count": null,
      "outputs": [
        {
          "output_type": "stream",
          "text": [
            "70\n",
            "x = \n",
            "[[1 2]\n",
            " [3 4]]\n",
            "y = \n",
            "[[5 6]\n",
            " [7 8]]\n",
            "result = \n",
            "[[19 22]\n",
            " [43 50]]\n"
          ],
          "name": "stdout"
        }
      ]
    },
    {
      "cell_type": "markdown",
      "metadata": {
        "id": "KMXFsr3CFsKQ"
      },
      "source": [
        "## Euler's Number (e) \n",
        "= 2.7182818284590452353602874713527 (and more ...) \n",
        "The number e is a famous irrational number, and is one of the most important numbers in mathematics.\n",
        "\n",
        "For example, the value of (1 + 1/n)n approaches e as n gets bigger and bigger:\n",
        "n \t(1 + 1/n)n <br>\n",
        "1 \t2.00000 <br>\n",
        "2 \t2.25000 <br>\n",
        "5 \t2.48832 <br>\n",
        "10 \t2.59374 <br>\n",
        "100 \t2.70481 <br>\n",
        "1,000 \t2.71692 <br>\n",
        "10,000 \t2.71815 <br>\n",
        "100,000 \t2.71827 <br>"
      ]
    },
    {
      "cell_type": "code",
      "metadata": {
        "id": "gqewBZuQFsKQ",
        "colab": {
          "base_uri": "https://localhost:8080/"
        },
        "outputId": "5287aaef-e6f3-4df4-fabd-0fe17a78289b"
      },
      "source": [
        "print(np.exp(1))  # ie. 2.718^2 (2.718 power to 1)\n",
        "print(np.exp(2))  # ie. 2.718^2\n",
        "print(np.exp([3,4,5]))  # ie. 2.718^3\n",
        "\n",
        "arr = [1.4, 3.5, 6.2, 5,9]\n",
        "print(np.floor(arr))"
      ],
      "execution_count": 40,
      "outputs": [
        {
          "output_type": "stream",
          "text": [
            "2.718281828459045\n",
            "7.38905609893065\n",
            "[ 20.08553692  54.59815003 148.4131591 ]\n",
            "[1. 3. 6. 5. 9.]\n"
          ],
          "name": "stdout"
        }
      ]
    },
    {
      "cell_type": "markdown",
      "metadata": {
        "id": "YvPX0YDUFsKQ"
      },
      "source": [
        "## Statistical Functions\n",
        "Variance : The average of the squared differences from the Mean <br>\n",
        "Standard Deviation : It is just the square root of Variance"
      ]
    },
    {
      "cell_type": "code",
      "metadata": {
        "id": "giY8lkbHFsKR",
        "outputId": "5c331b4e-abcf-429e-b2d0-f4b37432f317"
      },
      "source": [
        "x = np.array([2,4,6,1,8])\n",
        "print(np.sum(x))\n",
        "print(np.average(x))\n",
        "print(np.mean(x))\n",
        "print(np.var(x))       # variance \n",
        "print(np.std(x))       # Standard Deviation "
      ],
      "execution_count": null,
      "outputs": [
        {
          "output_type": "stream",
          "text": [
            "21\n",
            "4.2\n",
            "4.2\n",
            "2.5612496949731396\n",
            "6.5600000000000005\n"
          ],
          "name": "stdout"
        }
      ]
    },
    {
      "cell_type": "markdown",
      "metadata": {
        "id": "V0FkJtIDFsKR"
      },
      "source": [
        "## Implement Sigmoid Function\n",
        "$sigmoid(x) = \\frac{1}{1+e^{-x}}$ is sometimes also known as the logistic function. It is a non-linear function used in Machine Learning (Logistic Regression)and in Deep Learning."
      ]
    },
    {
      "cell_type": "code",
      "metadata": {
        "id": "7YAK5lT0FsKR",
        "outputId": "d5764104-9130-4c47-8294-570971f8b2a8"
      },
      "source": [
        "x = np.array([1, 2, 3])\n",
        "s = 1/(1+np.exp(x*-1))\n",
        "print(s)"
      ],
      "execution_count": null,
      "outputs": [
        {
          "output_type": "stream",
          "text": [
            "[0.73105858 0.88079708 0.95257413]\n"
          ],
          "name": "stdout"
        }
      ]
    },
    {
      "cell_type": "markdown",
      "metadata": {
        "id": "3Op5yVl2FsKR"
      },
      "source": [
        "## Implement L1 Loss\n",
        "L1 loss is defined as:\n",
        "$$\\begin{align*} & L_1(\\hat{y}, y) = \\sum_{i=0}^m|y^{(i)} - \\hat{y}^{(i)}| \\end{align*}\\tag{6}$$\n",
        "Here, ($ \\hat{y} $) = Actual output <br>\n",
        "y = Expected Output"
      ]
    },
    {
      "cell_type": "code",
      "metadata": {
        "id": "aDiuXXd7FsKS",
        "outputId": "c540617d-f617-4286-d4d7-091ec442e2ce"
      },
      "source": [
        "yhat = np.array([.9, 0.2, 0.1, .4, .9])\n",
        "y = np.array([1, 0, 0, 1, 1])\n",
        "L1_loss = np.sum(np.abs(np.subtract(y,yhat)))\n",
        "print(L1_loss)"
      ],
      "execution_count": null,
      "outputs": [
        {
          "output_type": "stream",
          "text": [
            "1.1\n"
          ],
          "name": "stdout"
        }
      ]
    },
    {
      "cell_type": "markdown",
      "metadata": {
        "id": "42DHxKTmFsKS"
      },
      "source": [
        "## Implement L2 Loss\n",
        "L2 loss is defined as $$\\begin{align*} & L_2(\\hat{y},y) = \\sum_{i=0}^m(y^{(i)} - \\hat{y}^{(i)})^2 \\end{align*}\\tag{7}$$"
      ]
    },
    {
      "cell_type": "code",
      "metadata": {
        "id": "PH1C4m40FsKS",
        "outputId": "da0f1c25-6455-4dca-8d48-3d77459adf9d"
      },
      "source": [
        "yhat = np.array([.9, 0.2, 0.1, .4, .9])\n",
        "y = np.array([1, 0, 0, 1, 1])\n",
        "L2_loss = np.sum(np.square(np.subtract(yhat, y)))\n",
        "print(L2_loss)"
      ],
      "execution_count": null,
      "outputs": [
        {
          "output_type": "stream",
          "text": [
            "0.43\n"
          ],
          "name": "stdout"
        }
      ]
    },
    {
      "cell_type": "markdown",
      "metadata": {
        "id": "Zjfn92FZFsKT"
      },
      "source": [
        "## Expand the shape/dimension of an array\n",
        "It is used in changing the dimension of images in Tensorflow since tensorflow requires a tensor(3D/4D.. array)"
      ]
    },
    {
      "cell_type": "code",
      "metadata": {
        "id": "Tk1mv3cRFsKT",
        "outputId": "cd858c18-5399-4d64-8272-5c18a49b7fbf"
      },
      "source": [
        "x = np.array([1,2,3,4,5,6,7,8,9]).reshape(3,3)\n",
        "# mostly used on images to change the dimension in tensorflow\n",
        "y = np.expand_dims(x, axis=0)  # Add a dimension on 0th position\n",
        "print(y.shape)\n",
        "\n",
        "y = np.expand_dims(x,axis=1)   # Add a dimension on 1st position\n",
        "print(y.shape)\n",
        "\n",
        "y = np.expand_dims(x,axis=2)   # Add a dimension on 2nd position\n",
        "print(y.shape)\n",
        "\n",
        "# y = np.expand_dims(x,axis=3)   # Gives an error  as initial dimension is 2x2 ans we are trying to increase axis on 3rd position\n",
        "# print(y.shape)"
      ],
      "execution_count": null,
      "outputs": [
        {
          "output_type": "stream",
          "text": [
            "(1, 3, 3)\n",
            "(3, 1, 3)\n",
            "(3, 3, 1)\n"
          ],
          "name": "stdout"
        }
      ]
    },
    {
      "cell_type": "code",
      "metadata": {
        "id": "tSjEXiJrFsKT"
      },
      "source": [
        ""
      ],
      "execution_count": null,
      "outputs": []
    }
  ]
}