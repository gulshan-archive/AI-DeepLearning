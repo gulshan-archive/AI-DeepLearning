{
 "cells": [
  {
   "cell_type": "markdown",
   "metadata": {
    "colab_type": "text",
    "id": "Ww424qk2MYZK"
   },
   "source": [
    "# Model for Traffic Sign Recognition for Autonmous Driving\n",
    "\n",
    "### Description\n",
    "\n",
    "**The German Traffic Sign Recognition Benchmark (GTSRB) is a multi-class image classification benchmark in the domain of advanced driver assistance systems and autonomous driving.** \n",
    "It was first published at IJCNN 2011\n",
    "\n",
    "**For more Information about Dataset Refer: http://benchmark.ini.rub.de/?section=gtsrb&subsection=dataset**\n",
    "\n",
    "- Total sign Classes : 43 <br>\n",
    "- Total Training Images : More than 39000 <br>\n",
    "- Images contain a border of 10 % around the actual traffic sign (at least 5 pixels) to allow for edge-based approaches <br>\n",
    "- Images are stored in PPM format (Portable Pixmap, P6)<br>\n",
    "- Image sizes vary between 15x15 to 250x250 pixels <br>\n",
    "- Images are not necessarily squared <br>\n",
    "- The actual traffic sign is not necessarily centered within the image.This is true for images that were close to the image border in the full camera image <br>\n"
   ]
  },
  {
   "cell_type": "markdown",
   "metadata": {},
   "source": [
    "## Download Train & Test Dataset"
   ]
  },
  {
   "cell_type": "code",
   "execution_count": null,
   "metadata": {
    "colab": {},
    "colab_type": "code",
    "id": "Y44HT6Tm_mnQ"
   },
   "outputs": [],
   "source": [
    "!wget https://sid.erda.dk/public/archives/daaeac0d7ce1152aea9b61d9f1e19370/GTSRB_Final_Training_Images.zip"
   ]
  },
  {
   "cell_type": "code",
   "execution_count": 78,
   "metadata": {
    "colab": {
     "base_uri": "https://localhost:8080/",
     "height": 219
    },
    "colab_type": "code",
    "id": "p1itJTteahln",
    "outputId": "0e8827ad-e539-474f-e9a7-650d6fa836ef"
   },
   "outputs": [
    {
     "name": "stdout",
     "output_type": "stream",
     "text": [
      "--2019-09-10 17:34:13--  https://sid.erda.dk/public/archives/daaeac0d7ce1152aea9b61d9f1e19370/GTSRB_Final_Test_GT.zip\n",
      "Resolving sid.erda.dk (sid.erda.dk)... 130.225.104.13\n",
      "Connecting to sid.erda.dk (sid.erda.dk)|130.225.104.13|:443... connected.\n",
      "HTTP request sent, awaiting response... 200 OK\n",
      "Length: 99620 (97K) [application/zip]\n",
      "Saving to: ‘GTSRB_Final_Test_GT.zip’\n",
      "\n",
      "GTSRB_Final_Test_GT 100%[===================>]  97.29K   119KB/s    in 0.8s    \n",
      "\n",
      "2019-09-10 17:34:15 (119 KB/s) - ‘GTSRB_Final_Test_GT.zip’ saved [99620/99620]\n",
      "\n"
     ]
    }
   ],
   "source": [
    "!wget https://sid.erda.dk/public/archives/daaeac0d7ce1152aea9b61d9f1e19370/GTSRB_Final_Test_Images.zip"
   ]
  },
  {
   "cell_type": "markdown",
   "metadata": {},
   "source": [
    "## Unzip & Analyse Directory Tree of Downlaoded Dataset"
   ]
  },
  {
   "cell_type": "code",
   "execution_count": 82,
   "metadata": {
    "colab": {
     "base_uri": "https://localhost:8080/",
     "height": 1000
    },
    "colab_type": "code",
    "id": "cTeS795bck7L",
    "outputId": "ab314eea-acfc-4b06-b832-894a006bba5d"
   },
   "outputs": [
    {
     "name": "stdout",
     "output_type": "stream",
     "text": [
      "GTSRB_Final_Training_Images\n",
      "['GTSRB']\n",
      "GTSRB_Final_Training_Images/GTSRB\n",
      "['Final_Training']\n",
      "GTSRB_Final_Training_Images/GTSRB/Final_Training\n",
      "['Images']\n",
      "GTSRB_Final_Training_Images/GTSRB/Final_Training/Images\n",
      "['00021', '00004', '00014', '00020', '00016', '00023', '00018', '00001', '00042', '00033', '00040', '00009', '00015', '00017', '00024', '00002', '00036', '00000', '00041', '00030', '00008', '00028', '00026', '00034', '00011', '00006', '00032', '00010', '00012', '00037', '00005', '00007', '00029', '00031', '00003', '00035', '00013', '00025', '00019', '00022', '00038', '00039', '00027']\n",
      "GTSRB_Final_Training_Images/GTSRB/Final_Training/Images/00021\n",
      "[]\n",
      "GTSRB_Final_Training_Images/GTSRB/Final_Training/Images/00004\n",
      "[]\n",
      "GTSRB_Final_Training_Images/GTSRB/Final_Training/Images/00014\n",
      "[]\n",
      "GTSRB_Final_Training_Images/GTSRB/Final_Training/Images/00020\n",
      "[]\n",
      "GTSRB_Final_Training_Images/GTSRB/Final_Training/Images/00016\n",
      "[]\n",
      "GTSRB_Final_Training_Images/GTSRB/Final_Training/Images/00023\n",
      "[]\n",
      "GTSRB_Final_Training_Images/GTSRB/Final_Training/Images/00018\n",
      "[]\n",
      "GTSRB_Final_Training_Images/GTSRB/Final_Training/Images/00001\n",
      "[]\n",
      "GTSRB_Final_Training_Images/GTSRB/Final_Training/Images/00042\n",
      "[]\n",
      "GTSRB_Final_Training_Images/GTSRB/Final_Training/Images/00033\n",
      "[]\n",
      "GTSRB_Final_Training_Images/GTSRB/Final_Training/Images/00040\n",
      "[]\n",
      "GTSRB_Final_Training_Images/GTSRB/Final_Training/Images/00009\n",
      "[]\n",
      "GTSRB_Final_Training_Images/GTSRB/Final_Training/Images/00015\n",
      "[]\n",
      "GTSRB_Final_Training_Images/GTSRB/Final_Training/Images/00017\n",
      "[]\n",
      "GTSRB_Final_Training_Images/GTSRB/Final_Training/Images/00024\n",
      "[]\n",
      "GTSRB_Final_Training_Images/GTSRB/Final_Training/Images/00002\n",
      "[]\n",
      "GTSRB_Final_Training_Images/GTSRB/Final_Training/Images/00036\n",
      "[]\n",
      "GTSRB_Final_Training_Images/GTSRB/Final_Training/Images/00000\n",
      "[]\n",
      "GTSRB_Final_Training_Images/GTSRB/Final_Training/Images/00041\n",
      "[]\n",
      "GTSRB_Final_Training_Images/GTSRB/Final_Training/Images/00030\n",
      "[]\n",
      "GTSRB_Final_Training_Images/GTSRB/Final_Training/Images/00008\n",
      "[]\n",
      "GTSRB_Final_Training_Images/GTSRB/Final_Training/Images/00028\n",
      "[]\n",
      "GTSRB_Final_Training_Images/GTSRB/Final_Training/Images/00026\n",
      "[]\n",
      "GTSRB_Final_Training_Images/GTSRB/Final_Training/Images/00034\n",
      "[]\n",
      "GTSRB_Final_Training_Images/GTSRB/Final_Training/Images/00011\n",
      "[]\n",
      "GTSRB_Final_Training_Images/GTSRB/Final_Training/Images/00006\n",
      "[]\n",
      "GTSRB_Final_Training_Images/GTSRB/Final_Training/Images/00032\n",
      "[]\n",
      "GTSRB_Final_Training_Images/GTSRB/Final_Training/Images/00010\n",
      "[]\n",
      "GTSRB_Final_Training_Images/GTSRB/Final_Training/Images/00012\n",
      "[]\n",
      "GTSRB_Final_Training_Images/GTSRB/Final_Training/Images/00037\n",
      "[]\n",
      "GTSRB_Final_Training_Images/GTSRB/Final_Training/Images/00005\n",
      "[]\n",
      "GTSRB_Final_Training_Images/GTSRB/Final_Training/Images/00007\n",
      "[]\n",
      "GTSRB_Final_Training_Images/GTSRB/Final_Training/Images/00029\n",
      "[]\n",
      "GTSRB_Final_Training_Images/GTSRB/Final_Training/Images/00031\n",
      "[]\n",
      "GTSRB_Final_Training_Images/GTSRB/Final_Training/Images/00003\n",
      "[]\n",
      "GTSRB_Final_Training_Images/GTSRB/Final_Training/Images/00035\n",
      "[]\n",
      "GTSRB_Final_Training_Images/GTSRB/Final_Training/Images/00013\n",
      "[]\n",
      "GTSRB_Final_Training_Images/GTSRB/Final_Training/Images/00025\n",
      "[]\n",
      "GTSRB_Final_Training_Images/GTSRB/Final_Training/Images/00019\n",
      "[]\n",
      "GTSRB_Final_Training_Images/GTSRB/Final_Training/Images/00022\n",
      "[]\n",
      "GTSRB_Final_Training_Images/GTSRB/Final_Training/Images/00038\n",
      "[]\n",
      "GTSRB_Final_Training_Images/GTSRB/Final_Training/Images/00039\n",
      "[]\n",
      "GTSRB_Final_Training_Images/GTSRB/Final_Training/Images/00027\n",
      "[]\n",
      "GTSRB_Final_Test_Images\n",
      "['GTSRB']\n",
      "[]\n",
      "GTSRB_Final_Test_Images/GTSRB\n",
      "['Final_Test']\n",
      "['Readme-Images-Final-test.txt']\n",
      "GTSRB_Final_Test_Images/GTSRB/Final_Test\n",
      "['Images']\n",
      "[]\n",
      "GTSRB_Final_Test_Images/GTSRB/Final_Test/Images\n",
      "[]\n",
      "['08397.ppm', '02412.ppm', '01581.ppm', '08407.ppm', '02079.ppm', '02406.ppm', '08762.ppm', '10788.ppm', '10976.ppm', '06027.ppm']\n"
     ]
    }
   ],
   "source": [
    "import os\n",
    "import zipfile\n",
    "\n",
    "# unzip training dataset\n",
    "local_zip = 'GTSRB_Final_Training_Images.zip' \n",
    "with zipfile.ZipFile(local_zip, 'r') as zipobj:  # open a zip file in read mode\n",
    "  zipobj.extractall('GTSRB_Final_Training_Images')  \n",
    "#   zip.printdir()    # Display contents of zip file\n",
    "\n",
    "# unzip validation dataset\n",
    "local_zip = 'GTSRB_Final_Test_Images.zip'\n",
    "with zipfile.ZipFile(local_zip, 'r') as zipobj:  # open a zip file in read mode\n",
    "  zipobj.extractall('GTSRB_Final_Test_Images')  \n",
    "\n",
    "# walk through the extracted training directory\n",
    "for root, directories, files in os.walk('GTSRB_Final_Training_Images'): \n",
    "  print(root)\n",
    "  print(directories)\n",
    "#   print(files)\n",
    "  \n",
    "# walk through the extracted validation directory\n",
    "for root, directories, files in os.walk('GTSRB_Final_Test_Images'): \n",
    "  print(root)\n",
    "  print(directories)\n",
    "  print(files[:10])"
   ]
  },
  {
   "cell_type": "markdown",
   "metadata": {},
   "source": [
    "## Get Root path of Train Dataset"
   ]
  },
  {
   "cell_type": "code",
   "execution_count": 46,
   "metadata": {
    "colab": {
     "base_uri": "https://localhost:8080/",
     "height": 35
    },
    "colab_type": "code",
    "id": "JOvxKT8qg2AU",
    "outputId": "adcea7f5-c70f-4d37-cde6-e289a00d9a90"
   },
   "outputs": [
    {
     "name": "stdout",
     "output_type": "stream",
     "text": [
      "GTSRB_Final_Training_Images/GTSRB/Final_Training/Images\n"
     ]
    }
   ],
   "source": [
    "train_sign_dir = os.path.join('GTSRB_Final_Training_Images/GTSRB/Final_Training/Images')  # join dir and subdir path\n",
    "print(train_sign_dir)"
   ]
  },
  {
   "cell_type": "markdown",
   "metadata": {},
   "source": [
    "## Get some Class Names of Traffic Signs"
   ]
  },
  {
   "cell_type": "code",
   "execution_count": 47,
   "metadata": {
    "colab": {
     "base_uri": "https://localhost:8080/",
     "height": 35
    },
    "colab_type": "code",
    "id": "jAh6ztmqhtf4",
    "outputId": "97595b5a-687f-4f7e-8e28-4f1c40383075"
   },
   "outputs": [
    {
     "name": "stdout",
     "output_type": "stream",
     "text": [
      "['00021', '00004', '00014', '00020', '00016', '00023', '00018', '00001', '00042', '00033']\n"
     ]
    }
   ],
   "source": [
    "train_sign_names = os.listdir(train_sign_dir)\n",
    "print(train_sign_names[:10])   # display first 10 class names of Traffic Signs"
   ]
  },
  {
   "cell_type": "markdown",
   "metadata": {},
   "source": [
    "## Get Full path with Image name for Analysis"
   ]
  },
  {
   "cell_type": "code",
   "execution_count": 77,
   "metadata": {
    "colab": {
     "base_uri": "https://localhost:8080/",
     "height": 201
    },
    "colab_type": "code",
    "id": "ASEVzvAJsqOd",
    "outputId": "8d694709-9bb3-4860-8a96-58c4cd91c988"
   },
   "outputs": [
    {
     "name": "stdout",
     "output_type": "stream",
     "text": [
      "GTSRB_Final_Training_Images/GTSRB/Final_Training/Images/00021/00002_00023.ppm\n",
      "GTSRB_Final_Training_Images/GTSRB/Final_Training/Images/00021/00001_00029.ppm\n",
      "GTSRB_Final_Training_Images/GTSRB/Final_Training/Images/00021/00000_00011.ppm\n",
      "GTSRB_Final_Training_Images/GTSRB/Final_Training/Images/00021/00004_00007.ppm\n",
      "GTSRB_Final_Training_Images/GTSRB/Final_Training/Images/00021/00006_00004.ppm\n",
      "GTSRB_Final_Training_Images/GTSRB/Final_Training/Images/00021/00004_00029.ppm\n",
      "GTSRB_Final_Training_Images/GTSRB/Final_Training/Images/00021/00007_00015.ppm\n",
      "GTSRB_Final_Training_Images/GTSRB/Final_Training/Images/00021/00010_00006.ppm\n",
      "GTSRB_Final_Training_Images/GTSRB/Final_Training/Images/00021/00007_00006.ppm\n",
      "GTSRB_Final_Training_Images/GTSRB/Final_Training/Images/00021/00003_00027.ppm\n"
     ]
    }
   ],
   "source": [
    "import os\n",
    "import glob  # Used to get linux like directory and file structure\n",
    "\n",
    "all_img_paths = glob.glob(os.path.join(train_sign_dir, '*/*.ppm'))\n",
    "\n",
    "\n",
    "print('\\n'.join(map(str, all_img_paths[:10]))) \n",
    "# # all_img_paths[:10]"
   ]
  },
  {
   "cell_type": "markdown",
   "metadata": {},
   "source": [
    "## Define Hyper Parameters"
   ]
  },
  {
   "cell_type": "code",
   "execution_count": null,
   "metadata": {
    "colab": {},
    "colab_type": "code",
    "id": "r2wUnYX5tMiD"
   },
   "outputs": [],
   "source": [
    "NUM_CLASSES = 43\n",
    "IMG_SIZE = 48"
   ]
  },
  {
   "cell_type": "markdown",
   "metadata": {},
   "source": [
    "## Display actual Stored Traffic Sign Image"
   ]
  },
  {
   "cell_type": "code",
   "execution_count": 58,
   "metadata": {
    "colab": {
     "base_uri": "https://localhost:8080/",
     "height": 287
    },
    "colab_type": "code",
    "id": "mZ0Z08ETjh94",
    "outputId": "b8f6ab17-fd08-435d-8960-cb50d04cf09c"
   },
   "outputs": [
    {
     "data": {
      "text/plain": [
       "<matplotlib.image.AxesImage at 0x7fec3450e7f0>"
      ]
     },
     "execution_count": 58,
     "metadata": {
      "tags": []
     },
     "output_type": "execute_result"
    },
    {
     "data": {
      "image/png": "[encoded data removed]",
      "text/plain": [
       "<Figure size 432x288 with 1 Axes>"
      ]
     },
     "metadata": {
      "tags": []
     },
     "output_type": "display_data"
    }
   ],
   "source": [
    "# Display matplotlib images inside the notebook \n",
    "%matplotlib inline    \n",
    "\n",
    "import matplotlib.pyplot as plt\n",
    "import matplotlib.image as mpimg\n",
    "\n",
    "img = plt.imread(all_img_paths[0])\n",
    "\n",
    "plt.imshow(img)"
   ]
  },
  {
   "cell_type": "code",
   "execution_count": null,
   "metadata": {
    "colab": {},
    "colab_type": "code",
    "id": "RSVhqrYn0EC3"
   },
   "outputs": [],
   "source": [
    "# from keras.utils import to_categorical\n",
    "# y_train = to_categorical(labels, num_classes = NUM_CLASSES)"
   ]
  },
  {
   "cell_type": "markdown",
   "metadata": {},
   "source": [
    "## Import Tensorflow Library"
   ]
  },
  {
   "cell_type": "code",
   "execution_count": 49,
   "metadata": {
    "colab": {
     "base_uri": "https://localhost:8080/",
     "height": 35
    },
    "colab_type": "code",
    "id": "b89GO2iCyCOQ",
    "outputId": "7f90be96-a6b8-4ea4-e6fd-33b6c7ab08d5"
   },
   "outputs": [
    {
     "name": "stdout",
     "output_type": "stream",
     "text": [
      "1.14.0\n"
     ]
    }
   ],
   "source": [
    "# !pip install tensorflow==2.0.0-rc0  to install tensorflow 2.0.0 in colab/kaggle\n",
    "import tensorflow as tf\n",
    "print(tf.__version__)"
   ]
  },
  {
   "cell_type": "markdown",
   "metadata": {},
   "source": [
    "# Define Model and Display Its Summary"
   ]
  },
  {
   "cell_type": "code",
   "execution_count": 50,
   "metadata": {
    "colab": {
     "base_uri": "https://localhost:8080/",
     "height": 495
    },
    "colab_type": "code",
    "id": "uohUaOSpyC88",
    "outputId": "fadf497a-5fa4-4996-fd5a-5ee9d44047cd"
   },
   "outputs": [
    {
     "name": "stdout",
     "output_type": "stream",
     "text": [
      "Model: \"sequential_1\"\n",
      "_________________________________________________________________\n",
      "Layer (type)                 Output Shape              Param #   \n",
      "=================================================================\n",
      "conv2d_6 (Conv2D)            (None, 46, 46, 32)        896       \n",
      "_________________________________________________________________\n",
      "max_pooling2d_6 (MaxPooling2 (None, 23, 23, 32)        0         \n",
      "_________________________________________________________________\n",
      "conv2d_7 (Conv2D)            (None, 21, 21, 64)        18496     \n",
      "_________________________________________________________________\n",
      "max_pooling2d_7 (MaxPooling2 (None, 10, 10, 64)        0         \n",
      "_________________________________________________________________\n",
      "conv2d_8 (Conv2D)            (None, 8, 8, 64)          36928     \n",
      "_________________________________________________________________\n",
      "max_pooling2d_8 (MaxPooling2 (None, 4, 4, 64)          0         \n",
      "_________________________________________________________________\n",
      "flatten_2 (Flatten)          (None, 1024)              0         \n",
      "_________________________________________________________________\n",
      "dense_4 (Dense)              (None, 512)               524800    \n",
      "_________________________________________________________________\n",
      "dense_5 (Dense)              (None, 43)                22059     \n",
      "=================================================================\n",
      "Total params: 603,179\n",
      "Trainable params: 603,179\n",
      "Non-trainable params: 0\n",
      "_________________________________________________________________\n"
     ]
    }
   ],
   "source": [
    "model = tf.keras.models.Sequential([\n",
    "    # 1st convolution layer    \n",
    "    tf.keras.layers.Conv2D(32, (3,3), activation='relu', input_shape=(IMG_SIZE, IMG_SIZE, 3)),\n",
    "    tf.keras.layers.MaxPooling2D(2, 2),\n",
    "    # 2nd convolution layer\n",
    "    tf.keras.layers.Conv2D(64, (3,3), activation='relu'),\n",
    "    tf.keras.layers.MaxPooling2D(2,2),\n",
    "    # 3rd convolution layer\n",
    "    tf.keras.layers.Conv2D(64, (3,3), activation='relu'),\n",
    "    tf.keras.layers.MaxPooling2D(2,2),\n",
    "#     # 4th convolution layer\n",
    "#     tf.keras.layers.Conv2D(64, (3,3), activation='relu'),\n",
    "#     tf.keras.layers.MaxPooling2D(2,2),\n",
    "#     # 5th convolution layer\n",
    "#     tf.keras.layers.Conv2D(64, (3,3), activation='relu'),\n",
    "#     tf.keras.layers.MaxPooling2D(2,2),\n",
    "    # Flatten the results to feed into a DNN\n",
    "    tf.keras.layers.Flatten(),\n",
    "    # 512 neuron hidden layer\n",
    "    tf.keras.layers.Dense(512, activation='relu'),\n",
    "    # Only 1 output neuron. It will contain a value from 0-1 where 0 for 1 class ('horses') and 1 for the other ('humans')\n",
    "    tf.keras.layers.Dense(NUM_CLASSES, activation='softmax')\n",
    "])    \n",
    "    \n",
    "    \n",
    "model.summary()"
   ]
  },
  {
   "cell_type": "markdown",
   "metadata": {},
   "source": [
    "## Compile the Model"
   ]
  },
  {
   "cell_type": "code",
   "execution_count": null,
   "metadata": {
    "colab": {},
    "colab_type": "code",
    "id": "qbxCXzXYzBh5"
   },
   "outputs": [],
   "source": [
    "from tensorflow.keras.optimizers import RMSprop\n",
    "\n",
    "model.compile(loss='sparse_categorical_crossentropy',\n",
    "              optimizer='adam',\n",
    "              metrics=['accuracy'])"
   ]
  },
  {
   "cell_type": "markdown",
   "metadata": {},
   "source": [
    "## Preprocess the Images to defined size in Hyperparameters"
   ]
  },
  {
   "cell_type": "code",
   "execution_count": 52,
   "metadata": {
    "colab": {
     "base_uri": "https://localhost:8080/",
     "height": 35
    },
    "colab_type": "code",
    "id": "egvDU8tz7VCg",
    "outputId": "99068198-8430-4f44-f7a0-35c290f0f16e"
   },
   "outputs": [
    {
     "name": "stdout",
     "output_type": "stream",
     "text": [
      "Found 39209 images belonging to 43 classes.\n"
     ]
    }
   ],
   "source": [
    "from tensorflow.keras.preprocessing.image import ImageDataGenerator\n",
    "\n",
    "# All images will be rescaled by 1.0/255 to normalize the data\n",
    "# ImageDataGenerator: generate batches of tensor image data with real-time data augmentation.\n",
    "train_datagen = ImageDataGenerator(rescale=1.0/255) \n",
    "# validation_datagen = ImageDataGenerator(rescale=1.0/255)\n",
    "\n",
    "# Flow training images in batches of 128 using train_datagen generator\n",
    "# The name of sub directory will be the lables for the contained image\n",
    "train_generator = train_datagen.flow_from_directory(\n",
    "        train_sign_dir,  # This is the source directory for training images\n",
    "        # Using target size; All images will be resized automatically to IMG_SIZE on runtime. \n",
    "        target_size=(IMG_SIZE, IMG_SIZE),  # All images will be resized to 150x150\n",
    "        batch_size=128,      # Images are loaded in the batches of 128 images per batch\n",
    "        class_mode='sparse')  \n",
    "\n",
    "# # validation generator for validation image directory\n",
    "# validation_generator = validation_datagen.flow_from_directory(\n",
    "#         '/tmp/validation-horse-or-human/',  # This is the source directory for training images\n",
    "#         target_size=(IMG_SIZE, IMG_SIZE),  # All images will be resized to 150x150\n",
    "#         batch_size=32,\n",
    "#         # Since we use binary_crossentropy loss, we need binary labels\n",
    "#         class_mode='binary')\n"
   ]
  },
  {
   "cell_type": "markdown",
   "metadata": {},
   "source": [
    "## Train the Model"
   ]
  },
  {
   "cell_type": "code",
   "execution_count": 53,
   "metadata": {
    "colab": {
     "base_uri": "https://localhost:8080/",
     "height": 384
    },
    "colab_type": "code",
    "id": "OItkH9in-rdN",
    "outputId": "d3413e5c-fa7e-4d3f-a5d1-92a5dcab9215"
   },
   "outputs": [
    {
     "name": "stdout",
     "output_type": "stream",
     "text": [
      "Epoch 1/10\n",
      "306/306 [==============================] - 15s 51ms/step - loss: 1.2157 - acc: 0.6693\n",
      "Epoch 2/10\n",
      "306/306 [==============================] - 12s 39ms/step - loss: 0.1523 - acc: 0.9583\n",
      "Epoch 3/10\n",
      "306/306 [==============================] - 12s 39ms/step - loss: 0.0710 - acc: 0.9810\n",
      "Epoch 4/10\n",
      "306/306 [==============================] - 12s 39ms/step - loss: 0.0440 - acc: 0.9876\n",
      "Epoch 5/10\n",
      "306/306 [==============================] - 12s 39ms/step - loss: 0.0249 - acc: 0.9932\n",
      "Epoch 6/10\n",
      "306/306 [==============================] - 12s 39ms/step - loss: 0.0246 - acc: 0.9931\n",
      "Epoch 7/10\n",
      "306/306 [==============================] - 12s 39ms/step - loss: 0.0171 - acc: 0.9954\n",
      "Epoch 8/10\n",
      "306/306 [==============================] - 12s 39ms/step - loss: 0.0135 - acc: 0.9962\n",
      "Epoch 9/10\n",
      "306/306 [==============================] - 12s 39ms/step - loss: 0.0098 - acc: 0.9969\n",
      "Epoch 10/10\n",
      "306/306 [==============================] - 12s 39ms/step - loss: 0.0101 - acc: 0.9973\n"
     ]
    }
   ],
   "source": [
    "history = model.fit_generator(\n",
    "      train_generator,  # stream the generated normalized batch of images from training image dir\n",
    "    # steps_per_epoch=306 because batch_size=32. So, 306*128=39168 ie. 306 epochs are required to pass\n",
    "    # all images to model.\n",
    "      steps_per_epoch=306, \n",
    "      epochs=10, # No. of times for which whole dataset is passed to the model for training\n",
    "#       validation_data=validation_generator,\n",
    "#       validation_steps=8,  # Total 256 validation images. So, 32(batch_size)x8=256\n",
    "      verbose=1) # decides how much data/logs to be displayed on screen during training"
   ]
  },
  {
   "cell_type": "markdown",
   "metadata": {},
   "source": [
    "## Test the Model\n",
    "The Class of any traffic sign can be identified by the directory it contains. for eg. \n",
    "In GTSRB_Final_Training_Images/GTSRB/Final_Training/Images/00009/00042_00002.ppm; this image belogs to a class 9 out of total 43 classes. <br>\n",
    "In the prediction: <br>\n",
    "[[0. 0. 0. 0. 0. 0. 0. 0. 0. 1. 0. 0. 0. 0. 0. 0. 0. 0. 0. 0. 0. 0. 0. 0. 0. 0. 0. 0. 0. 0. 0. 0. 0. 0. 0. 0. 0. 0. 0. 0. 0. 0. 0.]] <br>\n",
    "Notice that 1 is present at location 9 (startig from 0), So, if it is same as the class number, then prediction is correct."
   ]
  },
  {
   "cell_type": "code",
   "execution_count": 69,
   "metadata": {
    "colab": {
     "base_uri": "https://localhost:8080/",
     "height": 361
    },
    "colab_type": "code",
    "id": "87W_vkaXAAiV",
    "outputId": "c53bca93-0351-4931-d79c-2e9de75323a2"
   },
   "outputs": [
    {
     "name": "stdout",
     "output_type": "stream",
     "text": [
      "GTSRB_Final_Training_Images/GTSRB/Final_Training/Images/00009/00042_00002.ppm\n",
      "(48, 48, 3)\n",
      "(1, 48, 48, 3)\n",
      "[[0. 0. 0. 0. 0. 0. 0. 0. 0. 1. 0. 0. 0. 0. 0. 0. 0. 0. 0. 0. 0. 0. 0. 0.\n",
      "  0. 0. 0. 0. 0. 0. 0. 0. 0. 0. 0. 0. 0. 0. 0. 0. 0. 0. 0.]]\n"
     ]
    },
    {
     "data": {
      "image/png": "[encoded data removed]",
      "text/plain": [
       "<Figure size 432x288 with 1 Axes>"
      ]
     },
     "metadata": {
      "tags": []
     },
     "output_type": "display_data"
    }
   ],
   "source": [
    "import numpy as np\n",
    "from keras.preprocessing import image\n",
    "import os\n",
    "import matplotlib.pyplot as plt\n",
    "\n",
    "# provide the full image path\n",
    "# path = '/content/beautiful-1274056_1920.jpg'\n",
    "# path = '/content/worried-girl-413690_640.jpg'\n",
    "# path = '/content/horse-1804425_640.jpg'\n",
    "\n",
    "path = all_img_paths[10000]\n",
    "print(path)\n",
    "\n",
    "# plt.imshow(img)\n",
    "\n",
    "img = image.load_img(path, target_size=(48, 48))\n",
    "\n",
    "plt.imshow(img)\n",
    "  \n",
    "image = image.img_to_array(img)  # convert image to an array\n",
    "print(image.shape)\n",
    "\n",
    "image = np.expand_dims(image, axis=0)  # increase the no. of dimension by 1\n",
    "print(image.shape)\n",
    "\n",
    "classes = model.predict(image, batch_size=1)\n",
    "print(classes)"
   ]
  },
  {
   "cell_type": "code",
   "execution_count": null,
   "metadata": {
    "colab": {},
    "colab_type": "code",
    "id": "vd2LUKmSB7r4"
   },
   "outputs": [],
   "source": []
  }
 ],
 "metadata": {
  "accelerator": "GPU",
  "colab": {
   "name": "Traffic_Sign_Recognition.ipynb",
   "provenance": [],
   "version": "0.3.2"
  },
  "kernelspec": {
   "display_name": "Python 3",
   "language": "python",
   "name": "python3"
  },
  "language_info": {
   "codemirror_mode": {
    "name": "ipython",
    "version": 3
   },
   "file_extension": ".py",
   "mimetype": "text/x-python",
   "name": "python",
   "nbconvert_exporter": "python",
   "pygments_lexer": "ipython3",
   "version": "3.7.4"
  }
 },
 "nbformat": 4,
 "nbformat_minor": 4
}
