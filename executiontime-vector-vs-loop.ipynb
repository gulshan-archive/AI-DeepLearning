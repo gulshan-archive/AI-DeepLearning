{
 "cells": [
  {
   "cell_type": "markdown",
   "metadata": {},
   "source": [
    "## Load Modules"
   ]
  },
  {
   "cell_type": "code",
   "execution_count": 1,
   "metadata": {
    "_cell_guid": "b1076dfc-b9ad-4769-8c92-a6c4dae69d19",
    "_uuid": "8f2839f25d086af736a60e9eeb907d3b93b6e0e5"
   },
   "outputs": [],
   "source": [
    "import numpy as np # linear algebra\n"
   ]
  },
  {
   "cell_type": "markdown",
   "metadata": {},
   "source": [
    "## Execution time comparison of Vectorised matrix & for Loop\n",
    "In Machine Learining calculation on vectors and matrices are prefered over using \"for\" loops becuase they are fast and easy to implement in fewer lines of code."
   ]
  },
  {
   "cell_type": "code",
   "execution_count": 2,
   "metadata": {
    "_cell_guid": "79c7e3d0-c299-4dcb-8224-4455121ee9b0",
    "_uuid": "d629ff2d2480ee46fbb7e2d37f6b5fab8052498a"
   },
   "outputs": [
    {
     "name": "stdout",
     "output_type": "stream",
     "text": [
      "24999.52515708432\n",
      "Vector Execution time = 0.4038810729980469\n",
      "24999.525157084277\n",
      "for Loop Execution time = 97.14889526367188\n"
     ]
    }
   ],
   "source": [
    "import time\n",
    "\n",
    "x = np.random.rand(100000)  # creates 1 lack random numbers\n",
    "y = np.random.rand(100000)\n",
    "\n",
    "start_time = time.time()\n",
    "mult_result = np.dot(x,y)\n",
    "end_time = time.time()\n",
    "\n",
    "print(mult_result)\n",
    "print(f\"Vector Execution time = {((end_time-start_time)*1000)}\")\n",
    "\n",
    "loop_result = 0\n",
    "start_time = time.time()\n",
    "\n",
    "for i in range (100000):\n",
    "    loop_result += x[i]*y[i]\n",
    "end_time = time.time()    \n",
    "\n",
    "print(loop_result)\n",
    "print(f\"for Loop Execution time = {((end_time-start_time)*1000)}\") \n"
   ]
  },
  {
   "cell_type": "code",
   "execution_count": null,
   "metadata": {},
   "outputs": [],
   "source": []
  }
 ],
 "metadata": {
  "kernelspec": {
   "display_name": "Python 3",
   "language": "python",
   "name": "python3"
  },
  "language_info": {
   "codemirror_mode": {
    "name": "ipython",
    "version": 3
   },
   "file_extension": ".py",
   "mimetype": "text/x-python",
   "name": "python",
   "nbconvert_exporter": "python",
   "pygments_lexer": "ipython3",
   "version": "3.6.6"
  }
 },
 "nbformat": 4,
 "nbformat_minor": 1
}
