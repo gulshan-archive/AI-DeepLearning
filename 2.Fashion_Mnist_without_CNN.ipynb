{
  "nbformat": 4,
  "nbformat_minor": 0,
  "metadata": {
    "kernelspec": {
      "name": "python3",
      "display_name": "Python 3"
    },
    "language_info": {
      "pygments_lexer": "ipython3",
      "nbconvert_exporter": "python",
      "version": "3.6.4",
      "file_extension": ".py",
      "codemirror_mode": {
        "name": "ipython",
        "version": 3
      },
      "name": "python",
      "mimetype": "text/x-python"
    },
    "colab": {
      "name": "2.Fashion_Mnist_without_CNN.ipynb",
      "provenance": []
    },
    "accelerator": "GPU"
  },
  "cells": [
    {
      "cell_type": "markdown",
      "metadata": {
        "id": "dWG--FMG-gmE",
        "colab_type": "text"
      },
      "source": [
        "## Description\n",
        "Fashion_MNIST data and description is available on github: https://github.com/zalandoresearch/fashion-mnist <br>\n",
        "\n",
        "It consists of a training set of 60,000 examples and a test set of 10,000 examples. Each example is a 28x28 grayscale image, associated with a label from 10 classes as given below:\n",
        "\n",
        "**Label \tDescription** <br>\n",
        "0 \tT-shirt/top <br>\n",
        "1 \tTrouser <br>\n",
        "2 \tPullover <br>\n",
        "3 \tDress <br>\n",
        "4 \tCoat <br>\n",
        "5 \tSandal <br>\n",
        "6 \tShirt <br>\n",
        "7 \tSneaker <br>\n",
        "8 \tBag <br>\n",
        "9 \tAnkle boot <br>\n",
        "\n",
        "**Points to be Noted**\n",
        "1. Each image is of size 28x28 = 784 pixels.\n",
        "2. Grayscale images have a total of 255 shades/pixels ranges from 0 to 255 to define how much dark or light that pixel will be. 0 = Maximum Dark; 255 = Maximum White.\n",
        "3. Each row is a separate image and column as labels (0-9).\n",
        "\n",
        "<table>\n",
        "  <tr><td>\n",
        "    <img src=\"https://tensorflow.org/images/fashion-mnist-sprite.png\"\n",
        "         alt=\"Fashion MNIST sprite\" width=\"600\">\n",
        "  </td></tr>\n",
        "  <tr><td align=\"center\">\n",
        "    <b>Figure 1.</b> <a href=\"https://github.com/zalandoresearch/fashion-mnist\">Fashion-MNIST samples</a> (by Zalando, MIT License).<br/>&nbsp;\n",
        "  </td></tr>\n",
        "</table>"
      ]
    },
    {
      "cell_type": "markdown",
      "metadata": {
        "id": "YWsvHtD4-gmb",
        "colab_type": "text"
      },
      "source": [
        "## Import Modules"
      ]
    },
    {
      "cell_type": "code",
      "metadata": {
        "_uuid": "8f2839f25d086af736a60e9eeb907d3b93b6e0e5",
        "_cell_guid": "b1076dfc-b9ad-4769-8c92-a6c4dae69d19",
        "trusted": true,
        "id": "md1dKZrI-gmt",
        "colab_type": "code",
        "colab": {
          "base_uri": "https://localhost:8080/",
          "height": 83
        },
        "outputId": "6bd507a6-33ce-4208-d262-a46541ec37ba"
      },
      "source": [
        "# !pip install -U tensorflow==2.0.0-beta1  # to install tensorflow 2.0-beta1 in Kaggle notebook\n",
        "import numpy as np # linear algebra\n",
        "import pandas as pd # data processing, CSV file I/O (e.g. pd.read_csv)\n",
        "import tensorflow as tf\n",
        "print(tf.__version__)   # prints tensorflow installed version\n",
        "from tensorflow import keras"
      ],
      "execution_count": 1,
      "outputs": [
        {
          "output_type": "display_data",
          "data": {
            "text/html": [
              "<p style=\"color: red;\">\n",
              "The default version of TensorFlow in Colab will soon switch to TensorFlow 2.x.<br>\n",
              "We recommend you <a href=\"https://www.tensorflow.org/guide/migrate\" target=\"_blank\">upgrade</a> now \n",
              "or ensure your notebook will continue to use TensorFlow 1.x via the <code>%tensorflow_version 1.x</code> magic:\n",
              "<a href=\"https://colab.research.google.com/notebooks/tensorflow_version.ipynb\" target=\"_blank\">more info</a>.</p>\n"
            ],
            "text/plain": [
              "<IPython.core.display.HTML object>"
            ]
          },
          "metadata": {
            "tags": []
          }
        },
        {
          "output_type": "stream",
          "text": [
            "1.15.0\n"
          ],
          "name": "stdout"
        }
      ]
    },
    {
      "cell_type": "markdown",
      "metadata": {
        "id": "8jv2NpF_-gnb",
        "colab_type": "text"
      },
      "source": [
        "## Download Fashion MNIST Data\n",
        "Since this data is already added in tensorflow and an api is created. So, we can directly use that api to directly downlaod the data from server."
      ]
    },
    {
      "cell_type": "code",
      "metadata": {
        "trusted": true,
        "id": "mlJsebE--gnl",
        "colab_type": "code",
        "colab": {
          "base_uri": "https://localhost:8080/",
          "height": 164
        },
        "outputId": "0862cfca-db4e-4b6c-ab50-b5ff68f6c8b6"
      },
      "source": [
        "mnist = tf.keras.datasets.fashion_mnist\n",
        "(x_total_training_images, y_total_training_labels), (x_testing_images, y_testing_labels) = mnist.load_data()"
      ],
      "execution_count": 2,
      "outputs": [
        {
          "output_type": "stream",
          "text": [
            "Downloading data from https://storage.googleapis.com/tensorflow/tf-keras-datasets/train-labels-idx1-ubyte.gz\n",
            "32768/29515 [=================================] - 0s 0us/step\n",
            "Downloading data from https://storage.googleapis.com/tensorflow/tf-keras-datasets/train-images-idx3-ubyte.gz\n",
            "26427392/26421880 [==============================] - 0s 0us/step\n",
            "Downloading data from https://storage.googleapis.com/tensorflow/tf-keras-datasets/t10k-labels-idx1-ubyte.gz\n",
            "8192/5148 [===============================================] - 0s 0us/step\n",
            "Downloading data from https://storage.googleapis.com/tensorflow/tf-keras-datasets/t10k-images-idx3-ubyte.gz\n",
            "4423680/4422102 [==============================] - 0s 0us/step\n"
          ],
          "name": "stdout"
        }
      ]
    },
    {
      "cell_type": "markdown",
      "metadata": {
        "id": "kn6r8Sro-goD",
        "colab_type": "text"
      },
      "source": [
        "## Prints some of the Loaded Dataset\n",
        "Notice all the values of pixels ranges from 0-255 because of grayscale images"
      ]
    },
    {
      "cell_type": "code",
      "metadata": {
        "trusted": true,
        "id": "CL7PKV0J-goK",
        "colab_type": "code",
        "colab": {
          "base_uri": "https://localhost:8080/",
          "height": 1000
        },
        "outputId": "53cc4c9b-47b7-4cb3-85c5-97c736063841"
      },
      "source": [
        "import matplotlib.pyplot as plt\n",
        "\n",
        "print(x_total_training_images.dtype)\n",
        "print(x_total_training_images.shape)\n",
        "print(y_total_training_labels[500])  # Display the training label for the image number passed ranges from 0-59999\n",
        "print(x_total_training_images[500])      # Display the training image data correponding to number passed\n",
        "\n",
        "plt.imshow(x_total_training_images[500]) # Display the image correponding to index passed\n",
        "#plt.imshow(x_total_training_images[59990], cmap='gray')  # Display image in grayscale"
      ],
      "execution_count": 3,
      "outputs": [
        {
          "output_type": "stream",
          "text": [
            "uint8\n",
            "(60000, 28, 28)\n",
            "3\n",
            "[[  0   0   0   0   0   0   0   3   0   0   0  19 204  93  35  91 227  91\n",
            "    0   0   0   3   0   0   0   0   0   0]\n",
            " [  0   0   0   0   0   0   2   0   0 134 210 237 241 241 255 245 238 241\n",
            "  248 111   0   0   3   0   0   0   0   0]\n",
            " [  0   0   0   0   0   0   0   0 175 254 235 233 232 225 227 226 229 231\n",
            "  236 250 200   0   0   0   0   0   0   0]\n",
            " [  0   0   0   0   0   0   0   2 240 229 228 219 215 235 229 234 217 198\n",
            "  222 220 255 101   0   0   0   0   0   0]\n",
            " [  0   0   0   0   0   0   0  46 246 236 189 173 212 240 226 239 210 152\n",
            "  177 222 249 170   0   0   0   0   0   0]\n",
            " [  0   0   0   0   0   0   0  97 255 233 226 231 237 230 231 231 236 241\n",
            "  232 231 245 210   0   0   0   0   0   0]\n",
            " [  0   0   0   0   0   0   0 150 252 234 239 232 228 228 229 228 228 233\n",
            "  242 236 243 233   0   0   0   0   0   0]\n",
            " [  0   0   0   0   0   0   0 195 249 234 243 234 232 231 230 230 229 234\n",
            "  242 227 239 219   0   0   0   0   0   0]\n",
            " [  0   0   0   0   0   0   0 228 248 220 229 246 230 231 231 231 229 244\n",
            "  231 163 243 238   0   0   0   0   0   0]\n",
            " [  0   0   0   0   0   0   0 224 245 207 184 253 227 228 229 230 226 255\n",
            "  193 116 247 241  47   0   0   0   0   0]\n",
            " [  0   0   0   0   0   0  19 240 247 189 146 255 227 231 231 232 227 255\n",
            "  178 114 250 243 103   0   0   0   0   0]\n",
            " [  0   0   0   0   0   0  61 243 246 173 132 255 224 228 231 232 224 255\n",
            "  156  80 255 245 134   0   0   0   0   0]\n",
            " [  0   0   0   0   0   0 107 247 245 175 190 254 229 230 225 226 228 255\n",
            "  204 121 255 243 158   0   0   0   0   0]\n",
            " [  0   0   0   0   0   0 141 248 241 214 229 240 236 237 235 236 236 255\n",
            "  218 123 255 249 181   0   0   0   0   0]\n",
            " [  0   0   0   0   0   0 167 255 243 243 236 235 235 231 234 235 231 232\n",
            "  236 195 255 251 185   0   0   0   0   0]\n",
            " [  0   0   0   0   0   0 186 254 247 238 228 225 228 228 229 231 228 223\n",
            "  231 255 252 248 200   0   0   0   0   0]\n",
            " [  0   0   0   0   0   0 206 251 252 234 229 227 229 230 230 232 231 227\n",
            "  227 239 251 247 210   0   0   0   0   0]\n",
            " [  0   0   0   0   0   0 218 248 254 233 232 232 233 233 233 235 233 233\n",
            "  235 240 252 251 211   0   0   0   0   0]\n",
            " [  0   0   0   0   0   0 224 245 252 236 238 236 238 238 238 239 238 238\n",
            "  237 236 250 251 222   0   0   0   0   0]\n",
            " [  0   0   0   0   0   0 225 240 244 234 229 230 232 232 230 230 231 230\n",
            "  232 235 245 241 226   0   0   0   0   0]\n",
            " [  0   0   0   0   0   0 238 255 248 234 236 236 237 237 236 236 236 234\n",
            "  235 237 252 255 233   0   0   0   0   0]\n",
            " [  0   0   0   0   0   0  56  32 158 248 228 236 237 237 237 237 237 236\n",
            "  231 248 140  40  31   0   0   0   0   0]\n",
            " [  0   0   0   0   0   0   0   0 138 254 229 235 234 234 235 235 236 235\n",
            "  232 255  98   0   0   0   0   0   0   0]\n",
            " [  0   0   0   0   0   0   4   0 178 255 235 241 239 240 241 241 241 238\n",
            "  233 255 139   0   5   0   0   0   0   0]\n",
            " [  0   0   0   0   0   0   0   0 180 254 233 237 237 237 238 239 239 236\n",
            "  233 255 142   0   2   0   0   0   0   0]\n",
            " [  0   0   0   0   0   0   0   0 178 254 229 232 232 233 236 236 234 233\n",
            "  230 255 149   0   4   0   0   0   0   0]\n",
            " [  0   0   0   0   0   0   1   0 179 255 234 247 237 235 237 241 240 244\n",
            "  237 255 176   0   2   0   0   0   0   0]\n",
            " [  0   0   0   0   0   0   0   0 155 238 200 184 215 221 211 216 215 216\n",
            "  191 207 153   0   0   0   0   0   0   0]]\n"
          ],
          "name": "stdout"
        },
        {
          "output_type": "execute_result",
          "data": {
            "text/plain": [
              "<matplotlib.image.AxesImage at 0x7eff8b867240>"
            ]
          },
          "metadata": {
            "tags": []
          },
          "execution_count": 3
        },
        {
          "output_type": "display_data",
          "data": {
            "image/png": "[encoded data removed]",
            "text/plain": [
              "<Figure size 432x288 with 1 Axes>"
            ]
          },
          "metadata": {
            "tags": []
          }
        }
      ]
    },
    {
      "cell_type": "markdown",
      "metadata": {
        "id": "CelDjHZyCSY0",
        "colab_type": "text"
      },
      "source": [
        "## Split Datset into training and validation"
      ]
    },
    {
      "cell_type": "code",
      "metadata": {
        "id": "aqL5IG04AsHz",
        "colab_type": "code",
        "colab": {}
      },
      "source": [
        "x_validation_images = x_total_training_images[:5000]\n",
        "x_training_images = x_total_training_images[5000:]\n",
        "y_validation_labels = y_total_training_labels[:5000]\n",
        "y_training_labels = y_total_training_labels[5000:]"
      ],
      "execution_count": 0,
      "outputs": []
    },
    {
      "cell_type": "markdown",
      "metadata": {
        "id": "6h7QJ-Kw-gop",
        "colab_type": "text"
      },
      "source": [
        "## Normalize the Input Dataset\n",
        "Data required by Neural network ranges from -1 to 1 or 0 to 1. So, we can do it simply by dividing each image pixel with 255"
      ]
    },
    {
      "cell_type": "code",
      "metadata": {
        "trusted": true,
        "id": "OGTa4bHX-goz",
        "colab_type": "code",
        "colab": {}
      },
      "source": [
        "# x_training_images = x_training_images.astype('float32')\n",
        "# x_test_images = x_test_images.astype('float32')\n",
        "x_training_images  = x_training_images / 255.0  # divide by 255.0 to make output as float32 value\n",
        "x_testing_images = x_testing_images / 255.0\n",
        "x_validation_images = x_validation_images/255.0"
      ],
      "execution_count": 0,
      "outputs": []
    },
    {
      "cell_type": "markdown",
      "metadata": {
        "id": "3_ISKh23CZ1C",
        "colab_type": "text"
      },
      "source": [
        "## Create a List of class Names"
      ]
    },
    {
      "cell_type": "code",
      "metadata": {
        "id": "OxMYXKgOCQFQ",
        "colab_type": "code",
        "colab": {
          "base_uri": "https://localhost:8080/",
          "height": 54
        },
        "outputId": "b357a421-2ef7-4582-b43b-70d94a45c238"
      },
      "source": [
        "class_names = [\"T-shirt/top\", \"Trouser\", \"Pullover\", \"Dress\", \"Coat\", \"Sandal\", \"Shirt\", \"Sneaker\", \"Bag\", \"Ankle boot\"]\n",
        "\n",
        "print(class_names[y_training_labels[0]])\n",
        "print(class_names[y_training_labels[1]])"
      ],
      "execution_count": 6,
      "outputs": [
        {
          "output_type": "stream",
          "text": [
            "Coat\n",
            "T-shirt/top\n"
          ],
          "name": "stdout"
        }
      ]
    },
    {
      "cell_type": "markdown",
      "metadata": {
        "id": "Q25Di1HM-gpN",
        "colab_type": "text"
      },
      "source": [
        "## Define the Model\n",
        "Sequential: That defines a SEQUENCE of layers in the neural network\n",
        "\n",
        "Flatten: It takes the input 2d image (for eg. 28x28) and converts or flatten it into a 1 dimensional vector (784).\n",
        "\n",
        "Dense: Adds a layer of neurons\n",
        "\n",
        "Each layer of neurons need an activation function to tell them what to do. \n",
        "Relu effectively means \"If X>0 return X, else return 0\" -- so what it does it it only passes values 0 or greater to the next layer in the network.\n",
        "\n",
        "Softmax takes a set of values, and effectively picks the biggest one, so, for example, if the output of the last layer looks like [0.1, 0.1, 0.05, 0.1, 9.5, 0.1, 0.05, 0.05, 0.05], it converts it into [0,0,0,0,1,0,0,0,0] and gives the biggest value\n"
      ]
    },
    {
      "cell_type": "code",
      "metadata": {
        "trusted": true,
        "id": "oRwCeyTr-gpp",
        "colab_type": "code",
        "colab": {}
      },
      "source": [
        "model = tf.keras.models.Sequential([tf.keras.layers.Flatten(input_shape=(28,28)), \n",
        "                                    tf.keras.layers.Dense(128, activation=\"relu\"), # added 1st layer with 128 neurons\n",
        "                                    tf.keras.layers.Dense(10, activation=\"softmax\")]) # Added 2nd/Output layer with 10 neurons because our output is catagorized into 10 classes"
      ],
      "execution_count": 0,
      "outputs": []
    },
    {
      "cell_type": "markdown",
      "metadata": {
        "id": "Sd_GQPI_K1Lv",
        "colab_type": "text"
      },
      "source": [
        "## Print model summary of number of parameters trained\n",
        "\n",
        "Here \"none\" in `Output Shape` indicates that the batch size can be anything. <br>\n",
        "`Param` of \"100480\" in 2nd layer comes from 784 pixels X 128 =  100352. <br>There will be 128 biases for each neuron. So, 100352 + 128 = 100480"
      ]
    },
    {
      "cell_type": "code",
      "metadata": {
        "id": "rDyE-rgbGY2l",
        "colab_type": "code",
        "colab": {
          "base_uri": "https://localhost:8080/",
          "height": 274
        },
        "outputId": "98a9599e-9f69-4585-aeaa-69472e4e0020"
      },
      "source": [
        "model.summary()"
      ],
      "execution_count": 43,
      "outputs": [
        {
          "output_type": "stream",
          "text": [
            "Model: \"sequential_3\"\n",
            "_________________________________________________________________\n",
            "Layer (type)                 Output Shape              Param #   \n",
            "=================================================================\n",
            "flatten_3 (Flatten)          (None, 784)               0         \n",
            "_________________________________________________________________\n",
            "dense_9 (Dense)              (None, 128)               100480    \n",
            "_________________________________________________________________\n",
            "dense_10 (Dense)             (None, 10)                1290      \n",
            "=================================================================\n",
            "Total params: 101,770\n",
            "Trainable params: 101,770\n",
            "Non-trainable params: 0\n",
            "_________________________________________________________________\n"
          ],
          "name": "stdout"
        }
      ]
    },
    {
      "cell_type": "markdown",
      "metadata": {
        "id": "lnqwpbpYM-kY",
        "colab_type": "text"
      },
      "source": [
        "## Explore Layers"
      ]
    },
    {
      "cell_type": "code",
      "metadata": {
        "id": "k36hMTyVMN6B",
        "colab_type": "code",
        "colab": {
          "base_uri": "https://localhost:8080/",
          "height": 257
        },
        "outputId": "91dd4adc-9410-4070-c995-08b163a5f60c"
      },
      "source": [
        "print(model.layers)\n",
        "print(model.get_layer(index=1))\n",
        "print(model.layers[1].name)\n",
        "weights, biases = model.layers[1].get_weights()\n",
        "print(weights.shape)\n",
        "# weights\n",
        "biases"
      ],
      "execution_count": 45,
      "outputs": [
        {
          "output_type": "stream",
          "text": [
            "[<tensorflow.python.keras.layers.core.Flatten object at 0x7eff09428780>, <tensorflow.python.keras.layers.core.Dense object at 0x7eff09428f28>, <tensorflow.python.keras.layers.core.Dense object at 0x7eff09428cc0>]\n",
            "<tensorflow.python.keras.layers.core.Dense object at 0x7eff09428f28>\n",
            "dense_9\n",
            "(784, 128)\n"
          ],
          "name": "stdout"
        },
        {
          "output_type": "execute_result",
          "data": {
            "text/plain": [
              "array([0., 0., 0., 0., 0., 0., 0., 0., 0., 0., 0., 0., 0., 0., 0., 0., 0.,\n",
              "       0., 0., 0., 0., 0., 0., 0., 0., 0., 0., 0., 0., 0., 0., 0., 0., 0.,\n",
              "       0., 0., 0., 0., 0., 0., 0., 0., 0., 0., 0., 0., 0., 0., 0., 0., 0.,\n",
              "       0., 0., 0., 0., 0., 0., 0., 0., 0., 0., 0., 0., 0., 0., 0., 0., 0.,\n",
              "       0., 0., 0., 0., 0., 0., 0., 0., 0., 0., 0., 0., 0., 0., 0., 0., 0.,\n",
              "       0., 0., 0., 0., 0., 0., 0., 0., 0., 0., 0., 0., 0., 0., 0., 0., 0.,\n",
              "       0., 0., 0., 0., 0., 0., 0., 0., 0., 0., 0., 0., 0., 0., 0., 0., 0.,\n",
              "       0., 0., 0., 0., 0., 0., 0., 0., 0.], dtype=float32)"
            ]
          },
          "metadata": {
            "tags": []
          },
          "execution_count": 45
        }
      ]
    },
    {
      "cell_type": "markdown",
      "metadata": {
        "id": "a-I6jRjU-gqA",
        "colab_type": "text"
      },
      "source": [
        "## Compile & Train the Model\n",
        "Notice the Loss and accuracy on completion. Both should be inversely proportional to each other. The EPOCH's can be set to value untill the Loss keeps on going down and accuracy keep son increasing"
      ]
    },
    {
      "cell_type": "code",
      "metadata": {
        "trusted": true,
        "id": "Wamahssw-gqJ",
        "colab_type": "code",
        "colab": {
          "base_uri": "https://localhost:8080/",
          "height": 1000
        },
        "outputId": "be29973a-2715-4564-bee8-865faaae73c3"
      },
      "source": [
        "\"\"\"Use CategoricalCrossentropy loss function when there are two or more label classes. It expects labels to be \n",
        "provided in a one_hot representation. \n",
        "If you want to provide labels as integers, use SparseCategoricalCrossentropy loss.\"\"\"\n",
        "\n",
        "model.compile(optimizer = 'Adam',loss = 'sparse_categorical_crossentropy',metrics=['accuracy'])\n",
        "# Train the model\n",
        "history = model.fit(x_training_images, y_training_labels, epochs=30, validation_data=(x_validation_images,y_validation_labels))"
      ],
      "execution_count": 46,
      "outputs": [
        {
          "output_type": "stream",
          "text": [
            "Train on 55000 samples, validate on 5000 samples\n",
            "Epoch 1/30\n",
            "55000/55000 [==============================] - 4s 65us/sample - loss: 0.5019 - acc: 0.8233 - val_loss: 0.3831 - val_acc: 0.8640\n",
            "Epoch 2/30\n",
            "55000/55000 [==============================] - 4s 64us/sample - loss: 0.3770 - acc: 0.8630 - val_loss: 0.3621 - val_acc: 0.8734\n",
            "Epoch 3/30\n",
            "55000/55000 [==============================] - 4s 64us/sample - loss: 0.3398 - acc: 0.8744 - val_loss: 0.3484 - val_acc: 0.8702\n",
            "Epoch 4/30\n",
            "55000/55000 [==============================] - 3s 63us/sample - loss: 0.3165 - acc: 0.8829 - val_loss: 0.3230 - val_acc: 0.8852\n",
            "Epoch 5/30\n",
            "55000/55000 [==============================] - 3s 63us/sample - loss: 0.2976 - acc: 0.8894 - val_loss: 0.3133 - val_acc: 0.8886\n",
            "Epoch 6/30\n",
            "55000/55000 [==============================] - 3s 63us/sample - loss: 0.2832 - acc: 0.8942 - val_loss: 0.3097 - val_acc: 0.8894\n",
            "Epoch 7/30\n",
            "55000/55000 [==============================] - 3s 64us/sample - loss: 0.2711 - acc: 0.8995 - val_loss: 0.3136 - val_acc: 0.8888\n",
            "Epoch 8/30\n",
            "55000/55000 [==============================] - 3s 63us/sample - loss: 0.2606 - acc: 0.9029 - val_loss: 0.3102 - val_acc: 0.8896\n",
            "Epoch 9/30\n",
            "55000/55000 [==============================] - 3s 63us/sample - loss: 0.2506 - acc: 0.9061 - val_loss: 0.3076 - val_acc: 0.8878\n",
            "Epoch 10/30\n",
            "55000/55000 [==============================] - 3s 63us/sample - loss: 0.2424 - acc: 0.9094 - val_loss: 0.3044 - val_acc: 0.8934\n",
            "Epoch 11/30\n",
            "55000/55000 [==============================] - 3s 64us/sample - loss: 0.2349 - acc: 0.9126 - val_loss: 0.3018 - val_acc: 0.8970\n",
            "Epoch 12/30\n",
            "55000/55000 [==============================] - 3s 63us/sample - loss: 0.2246 - acc: 0.9160 - val_loss: 0.3179 - val_acc: 0.8956\n",
            "Epoch 13/30\n",
            "55000/55000 [==============================] - 3s 63us/sample - loss: 0.2194 - acc: 0.9179 - val_loss: 0.3055 - val_acc: 0.8956\n",
            "Epoch 14/30\n",
            "55000/55000 [==============================] - 3s 62us/sample - loss: 0.2119 - acc: 0.9202 - val_loss: 0.3162 - val_acc: 0.8964\n",
            "Epoch 15/30\n",
            "55000/55000 [==============================] - 3s 63us/sample - loss: 0.2052 - acc: 0.9232 - val_loss: 0.3447 - val_acc: 0.8840\n",
            "Epoch 16/30\n",
            "55000/55000 [==============================] - 3s 63us/sample - loss: 0.2005 - acc: 0.9249 - val_loss: 0.3296 - val_acc: 0.8970\n",
            "Epoch 17/30\n",
            "55000/55000 [==============================] - 3s 63us/sample - loss: 0.1937 - acc: 0.9272 - val_loss: 0.3288 - val_acc: 0.8912\n",
            "Epoch 18/30\n",
            "55000/55000 [==============================] - 3s 63us/sample - loss: 0.1907 - acc: 0.9284 - val_loss: 0.3390 - val_acc: 0.8922\n",
            "Epoch 19/30\n",
            "55000/55000 [==============================] - 3s 62us/sample - loss: 0.1851 - acc: 0.9301 - val_loss: 0.3204 - val_acc: 0.8954\n",
            "Epoch 20/30\n",
            "55000/55000 [==============================] - 3s 63us/sample - loss: 0.1790 - acc: 0.9324 - val_loss: 0.3373 - val_acc: 0.8924\n",
            "Epoch 21/30\n",
            "55000/55000 [==============================] - 3s 62us/sample - loss: 0.1746 - acc: 0.9341 - val_loss: 0.3492 - val_acc: 0.8904\n",
            "Epoch 22/30\n",
            "55000/55000 [==============================] - 3s 64us/sample - loss: 0.1698 - acc: 0.9355 - val_loss: 0.3588 - val_acc: 0.8900\n",
            "Epoch 23/30\n",
            "55000/55000 [==============================] - 4s 65us/sample - loss: 0.1677 - acc: 0.9364 - val_loss: 0.3520 - val_acc: 0.8922\n",
            "Epoch 24/30\n",
            "55000/55000 [==============================] - 4s 67us/sample - loss: 0.1634 - acc: 0.9386 - val_loss: 0.3466 - val_acc: 0.8954\n",
            "Epoch 25/30\n",
            "55000/55000 [==============================] - 4s 67us/sample - loss: 0.1598 - acc: 0.9408 - val_loss: 0.3644 - val_acc: 0.8934\n",
            "Epoch 26/30\n",
            "55000/55000 [==============================] - 4s 64us/sample - loss: 0.1568 - acc: 0.9417 - val_loss: 0.3957 - val_acc: 0.8918\n",
            "Epoch 27/30\n",
            "55000/55000 [==============================] - 3s 62us/sample - loss: 0.1498 - acc: 0.9442 - val_loss: 0.3602 - val_acc: 0.8930\n",
            "Epoch 28/30\n",
            "55000/55000 [==============================] - 3s 62us/sample - loss: 0.1494 - acc: 0.9445 - val_loss: 0.3700 - val_acc: 0.8900\n",
            "Epoch 29/30\n",
            "55000/55000 [==============================] - 3s 63us/sample - loss: 0.1426 - acc: 0.9457 - val_loss: 0.3836 - val_acc: 0.8930\n",
            "Epoch 30/30\n",
            "55000/55000 [==============================] - 3s 62us/sample - loss: 0.1408 - acc: 0.9476 - val_loss: 0.3808 - val_acc: 0.8936\n"
          ],
          "name": "stdout"
        }
      ]
    },
    {
      "cell_type": "code",
      "metadata": {
        "id": "jCMG9y20UI2d",
        "colab_type": "code",
        "colab": {
          "base_uri": "https://localhost:8080/",
          "height": 990
        },
        "outputId": "2f7aba09-5ea8-4221-8183-34708c27edf7"
      },
      "source": [
        "df = pd.DataFrame(data=history.history)\n",
        "df"
      ],
      "execution_count": 47,
      "outputs": [
        {
          "output_type": "execute_result",
          "data": {
            "text/html": [
              "<div>\n",
              "<style scoped>\n",
              "    .dataframe tbody tr th:only-of-type {\n",
              "        vertical-align: middle;\n",
              "    }\n",
              "\n",
              "    .dataframe tbody tr th {\n",
              "        vertical-align: top;\n",
              "    }\n",
              "\n",
              "    .dataframe thead th {\n",
              "        text-align: right;\n",
              "    }\n",
              "</style>\n",
              "<table border=\"1\" class=\"dataframe\">\n",
              "  <thead>\n",
              "    <tr style=\"text-align: right;\">\n",
              "      <th></th>\n",
              "      <th>loss</th>\n",
              "      <th>acc</th>\n",
              "      <th>val_loss</th>\n",
              "      <th>val_acc</th>\n",
              "    </tr>\n",
              "  </thead>\n",
              "  <tbody>\n",
              "    <tr>\n",
              "      <th>0</th>\n",
              "      <td>0.501872</td>\n",
              "      <td>0.823345</td>\n",
              "      <td>0.383129</td>\n",
              "      <td>0.8640</td>\n",
              "    </tr>\n",
              "    <tr>\n",
              "      <th>1</th>\n",
              "      <td>0.376993</td>\n",
              "      <td>0.863000</td>\n",
              "      <td>0.362075</td>\n",
              "      <td>0.8734</td>\n",
              "    </tr>\n",
              "    <tr>\n",
              "      <th>2</th>\n",
              "      <td>0.339807</td>\n",
              "      <td>0.874364</td>\n",
              "      <td>0.348443</td>\n",
              "      <td>0.8702</td>\n",
              "    </tr>\n",
              "    <tr>\n",
              "      <th>3</th>\n",
              "      <td>0.316500</td>\n",
              "      <td>0.882873</td>\n",
              "      <td>0.322972</td>\n",
              "      <td>0.8852</td>\n",
              "    </tr>\n",
              "    <tr>\n",
              "      <th>4</th>\n",
              "      <td>0.297635</td>\n",
              "      <td>0.889364</td>\n",
              "      <td>0.313308</td>\n",
              "      <td>0.8886</td>\n",
              "    </tr>\n",
              "    <tr>\n",
              "      <th>5</th>\n",
              "      <td>0.283152</td>\n",
              "      <td>0.894218</td>\n",
              "      <td>0.309716</td>\n",
              "      <td>0.8894</td>\n",
              "    </tr>\n",
              "    <tr>\n",
              "      <th>6</th>\n",
              "      <td>0.271123</td>\n",
              "      <td>0.899527</td>\n",
              "      <td>0.313635</td>\n",
              "      <td>0.8888</td>\n",
              "    </tr>\n",
              "    <tr>\n",
              "      <th>7</th>\n",
              "      <td>0.260617</td>\n",
              "      <td>0.902855</td>\n",
              "      <td>0.310248</td>\n",
              "      <td>0.8896</td>\n",
              "    </tr>\n",
              "    <tr>\n",
              "      <th>8</th>\n",
              "      <td>0.250568</td>\n",
              "      <td>0.906145</td>\n",
              "      <td>0.307635</td>\n",
              "      <td>0.8878</td>\n",
              "    </tr>\n",
              "    <tr>\n",
              "      <th>9</th>\n",
              "      <td>0.242426</td>\n",
              "      <td>0.909364</td>\n",
              "      <td>0.304391</td>\n",
              "      <td>0.8934</td>\n",
              "    </tr>\n",
              "    <tr>\n",
              "      <th>10</th>\n",
              "      <td>0.234900</td>\n",
              "      <td>0.912582</td>\n",
              "      <td>0.301823</td>\n",
              "      <td>0.8970</td>\n",
              "    </tr>\n",
              "    <tr>\n",
              "      <th>11</th>\n",
              "      <td>0.224570</td>\n",
              "      <td>0.916018</td>\n",
              "      <td>0.317872</td>\n",
              "      <td>0.8956</td>\n",
              "    </tr>\n",
              "    <tr>\n",
              "      <th>12</th>\n",
              "      <td>0.219413</td>\n",
              "      <td>0.917927</td>\n",
              "      <td>0.305452</td>\n",
              "      <td>0.8956</td>\n",
              "    </tr>\n",
              "    <tr>\n",
              "      <th>13</th>\n",
              "      <td>0.211867</td>\n",
              "      <td>0.920164</td>\n",
              "      <td>0.316238</td>\n",
              "      <td>0.8964</td>\n",
              "    </tr>\n",
              "    <tr>\n",
              "      <th>14</th>\n",
              "      <td>0.205164</td>\n",
              "      <td>0.923236</td>\n",
              "      <td>0.344660</td>\n",
              "      <td>0.8840</td>\n",
              "    </tr>\n",
              "    <tr>\n",
              "      <th>15</th>\n",
              "      <td>0.200523</td>\n",
              "      <td>0.924873</td>\n",
              "      <td>0.329578</td>\n",
              "      <td>0.8970</td>\n",
              "    </tr>\n",
              "    <tr>\n",
              "      <th>16</th>\n",
              "      <td>0.193738</td>\n",
              "      <td>0.927218</td>\n",
              "      <td>0.328777</td>\n",
              "      <td>0.8912</td>\n",
              "    </tr>\n",
              "    <tr>\n",
              "      <th>17</th>\n",
              "      <td>0.190745</td>\n",
              "      <td>0.928418</td>\n",
              "      <td>0.339042</td>\n",
              "      <td>0.8922</td>\n",
              "    </tr>\n",
              "    <tr>\n",
              "      <th>18</th>\n",
              "      <td>0.185111</td>\n",
              "      <td>0.930127</td>\n",
              "      <td>0.320428</td>\n",
              "      <td>0.8954</td>\n",
              "    </tr>\n",
              "    <tr>\n",
              "      <th>19</th>\n",
              "      <td>0.178982</td>\n",
              "      <td>0.932400</td>\n",
              "      <td>0.337311</td>\n",
              "      <td>0.8924</td>\n",
              "    </tr>\n",
              "    <tr>\n",
              "      <th>20</th>\n",
              "      <td>0.174647</td>\n",
              "      <td>0.934055</td>\n",
              "      <td>0.349152</td>\n",
              "      <td>0.8904</td>\n",
              "    </tr>\n",
              "    <tr>\n",
              "      <th>21</th>\n",
              "      <td>0.169784</td>\n",
              "      <td>0.935545</td>\n",
              "      <td>0.358781</td>\n",
              "      <td>0.8900</td>\n",
              "    </tr>\n",
              "    <tr>\n",
              "      <th>22</th>\n",
              "      <td>0.167713</td>\n",
              "      <td>0.936382</td>\n",
              "      <td>0.351969</td>\n",
              "      <td>0.8922</td>\n",
              "    </tr>\n",
              "    <tr>\n",
              "      <th>23</th>\n",
              "      <td>0.163350</td>\n",
              "      <td>0.938600</td>\n",
              "      <td>0.346559</td>\n",
              "      <td>0.8954</td>\n",
              "    </tr>\n",
              "    <tr>\n",
              "      <th>24</th>\n",
              "      <td>0.159758</td>\n",
              "      <td>0.940800</td>\n",
              "      <td>0.364425</td>\n",
              "      <td>0.8934</td>\n",
              "    </tr>\n",
              "    <tr>\n",
              "      <th>25</th>\n",
              "      <td>0.156811</td>\n",
              "      <td>0.941709</td>\n",
              "      <td>0.395665</td>\n",
              "      <td>0.8918</td>\n",
              "    </tr>\n",
              "    <tr>\n",
              "      <th>26</th>\n",
              "      <td>0.149778</td>\n",
              "      <td>0.944200</td>\n",
              "      <td>0.360191</td>\n",
              "      <td>0.8930</td>\n",
              "    </tr>\n",
              "    <tr>\n",
              "      <th>27</th>\n",
              "      <td>0.149371</td>\n",
              "      <td>0.944491</td>\n",
              "      <td>0.369984</td>\n",
              "      <td>0.8900</td>\n",
              "    </tr>\n",
              "    <tr>\n",
              "      <th>28</th>\n",
              "      <td>0.142599</td>\n",
              "      <td>0.945691</td>\n",
              "      <td>0.383575</td>\n",
              "      <td>0.8930</td>\n",
              "    </tr>\n",
              "    <tr>\n",
              "      <th>29</th>\n",
              "      <td>0.140764</td>\n",
              "      <td>0.947618</td>\n",
              "      <td>0.380779</td>\n",
              "      <td>0.8936</td>\n",
              "    </tr>\n",
              "  </tbody>\n",
              "</table>\n",
              "</div>"
            ],
            "text/plain": [
              "        loss       acc  val_loss  val_acc\n",
              "0   0.501872  0.823345  0.383129   0.8640\n",
              "1   0.376993  0.863000  0.362075   0.8734\n",
              "2   0.339807  0.874364  0.348443   0.8702\n",
              "3   0.316500  0.882873  0.322972   0.8852\n",
              "4   0.297635  0.889364  0.313308   0.8886\n",
              "5   0.283152  0.894218  0.309716   0.8894\n",
              "6   0.271123  0.899527  0.313635   0.8888\n",
              "7   0.260617  0.902855  0.310248   0.8896\n",
              "8   0.250568  0.906145  0.307635   0.8878\n",
              "9   0.242426  0.909364  0.304391   0.8934\n",
              "10  0.234900  0.912582  0.301823   0.8970\n",
              "11  0.224570  0.916018  0.317872   0.8956\n",
              "12  0.219413  0.917927  0.305452   0.8956\n",
              "13  0.211867  0.920164  0.316238   0.8964\n",
              "14  0.205164  0.923236  0.344660   0.8840\n",
              "15  0.200523  0.924873  0.329578   0.8970\n",
              "16  0.193738  0.927218  0.328777   0.8912\n",
              "17  0.190745  0.928418  0.339042   0.8922\n",
              "18  0.185111  0.930127  0.320428   0.8954\n",
              "19  0.178982  0.932400  0.337311   0.8924\n",
              "20  0.174647  0.934055  0.349152   0.8904\n",
              "21  0.169784  0.935545  0.358781   0.8900\n",
              "22  0.167713  0.936382  0.351969   0.8922\n",
              "23  0.163350  0.938600  0.346559   0.8954\n",
              "24  0.159758  0.940800  0.364425   0.8934\n",
              "25  0.156811  0.941709  0.395665   0.8918\n",
              "26  0.149778  0.944200  0.360191   0.8930\n",
              "27  0.149371  0.944491  0.369984   0.8900\n",
              "28  0.142599  0.945691  0.383575   0.8930\n",
              "29  0.140764  0.947618  0.380779   0.8936"
            ]
          },
          "metadata": {
            "tags": []
          },
          "execution_count": 47
        }
      ]
    },
    {
      "cell_type": "markdown",
      "metadata": {
        "id": "uKZyw1A4W4Lw",
        "colab_type": "text"
      },
      "source": [
        "## Ploting the result\n",
        "The opposite direction of validation loss shows that model starts over fitting"
      ]
    },
    {
      "cell_type": "code",
      "metadata": {
        "id": "-r4xEpMwUjUL",
        "colab_type": "code",
        "colab": {
          "base_uri": "https://localhost:8080/",
          "height": 432
        },
        "outputId": "3ed76d19-ea58-49d4-cf65-1b83591f095a"
      },
      "source": [
        "df.plot(figsize=(10,7))\n",
        "plt.gca().set_ylim(0, 1) # set the vertical range to [0-1]\n",
        "plt.show()"
      ],
      "execution_count": 59,
      "outputs": [
        {
          "output_type": "display_data",
          "data": {
            "image/png": "[encoded data removed]",
            "text/plain": [
              "<Figure size 720x504 with 1 Axes>"
            ]
          },
          "metadata": {
            "tags": []
          }
        }
      ]
    },
    {
      "cell_type": "markdown",
      "metadata": {
        "id": "KPCtGgXJ-gqh",
        "colab_type": "text"
      },
      "source": [
        "## Test the Model using Test set\n",
        "It returns the loss value & Accuracy for test data. This is the step where the model is given with new unseen images to check how well it has learned.\n",
        "Notice that Loss and Accuracy will be somewhat lesser that the training Loss and accuracy but its fine\n"
      ]
    },
    {
      "cell_type": "code",
      "metadata": {
        "trusted": true,
        "id": "hrV5vZsy-gqo",
        "colab_type": "code",
        "colab": {
          "base_uri": "https://localhost:8080/",
          "height": 90
        },
        "outputId": "183f68fb-5d6c-4283-8366-d659026dbc71"
      },
      "source": [
        "test_score = model.evaluate(x_testing_images, y_testing_labels)  # Returns the loss value & accuracy of model in test mode. Computation is done in batches.\n",
        "print(test_score)\n",
        "print(f\"Test Loss = {test_score[0]}\")\n",
        "print(f\"Test Accuracy = {test_score[1]}\")"
      ],
      "execution_count": 60,
      "outputs": [
        {
          "output_type": "stream",
          "text": [
            "10000/10000 [==============================] - 0s 44us/sample - loss: 0.4007 - acc: 0.8896\n",
            "[0.40068967948555945, 0.8896]\n",
            "Test Loss = 0.40068967948555945\n",
            "Test Accuracy = 0.8895999789237976\n"
          ],
          "name": "stdout"
        }
      ]
    },
    {
      "cell_type": "markdown",
      "metadata": {
        "id": "5snvMkfu-grI",
        "colab_type": "text"
      },
      "source": [
        "## Use trained model to do Predictions.\n",
        "Since we dont have the image other than testing and training. So, lets do some prediction on test data. <br>\n",
        "It returns the a list of 10 numbes which shows the prediction probability for a given image for classes `0 to 9`. Or it is like how much confident the model is to predict which class the given image belogs to.\n",
        "\n"
      ]
    },
    {
      "cell_type": "code",
      "metadata": {
        "_uuid": "d629ff2d2480ee46fbb7e2d37f6b5fab8052498a",
        "_cell_guid": "79c7e3d0-c299-4dcb-8224-4455121ee9b0",
        "trusted": true,
        "id": "Lvbt-hQT-grQ",
        "colab_type": "code",
        "colab": {
          "base_uri": "https://localhost:8080/",
          "height": 320
        },
        "outputId": "d4f11581-34eb-4074-b8f4-6c0ffcc5279a"
      },
      "source": [
        "LABEL_NUMBER = 30\n",
        "\n",
        "# Returns numpy array of predictions\n",
        "classifications = model.predict(x_testing_images)  # generates output predictions for input samples. Computation is done in batches\n",
        "\n",
        "print(classifications[LABEL_NUMBER].round(2))\n",
        "print(class_names[y_testing_labels[LABEL_NUMBER]], y_testing_labels[LABEL_NUMBER])\n",
        "\n",
        "#print(y_testing_labels[0])\n",
        "plt.imshow(x_testing_images[LABEL_NUMBER]) # Display the image correponding to index passed"
      ],
      "execution_count": 73,
      "outputs": [
        {
          "output_type": "stream",
          "text": [
            "[0. 0. 0. 0. 0. 0. 0. 0. 1. 0.]\n",
            "Bag 8\n"
          ],
          "name": "stdout"
        },
        {
          "output_type": "execute_result",
          "data": {
            "text/plain": [
              "<matplotlib.image.AxesImage at 0x7eff08dca978>"
            ]
          },
          "metadata": {
            "tags": []
          },
          "execution_count": 73
        },
        {
          "output_type": "display_data",
          "data": {
            "image/png": "[encoded data removed]",
            "text/plain": [
              "<Figure size 432x288 with 1 Axes>"
            ]
          },
          "metadata": {
            "tags": []
          }
        }
      ]
    },
    {
      "cell_type": "code",
      "metadata": {
        "trusted": true,
        "id": "3S59_8HZ-grr",
        "colab_type": "code",
        "colab": {}
      },
      "source": [
        ""
      ],
      "execution_count": 0,
      "outputs": []
    }
  ]
}