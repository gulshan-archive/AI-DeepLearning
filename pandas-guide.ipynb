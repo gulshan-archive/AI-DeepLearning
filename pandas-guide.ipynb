{
  "nbformat": 4,
  "nbformat_minor": 0,
  "metadata": {
    "colab": {
      "name": "Untitled15.ipynb",
      "provenance": [],
      "authorship_tag": "ABX9TyPO8FeQYER7Os6s8xVsVi5R",
      "include_colab_link": true
    },
    "kernelspec": {
      "name": "python3",
      "display_name": "Python 3"
    }
  },
  "cells": [
    {
      "cell_type": "markdown",
      "metadata": {
        "id": "view-in-github",
        "colab_type": "text"
      },
      "source": [
        "<a href=\"https://colab.research.google.com/github/gulshan-archive/AI-DeepLearning/blob/master/pandas-guide.ipynb\" target=\"_parent\"><img src=\"https://colab.research.google.com/assets/colab-badge.svg\" alt=\"Open In Colab\"/></a>"
      ]
    },
    {
      "cell_type": "markdown",
      "metadata": {
        "id": "IDDgr0wiDWJC"
      },
      "source": [
        "# Pandas Series : It is 1 dimensional\n",
        "**Supported DataTypes:** Integer, Float, string, python object <br>\n",
        "**Supported Data Inputs:** 1darray, dict, scalar, list\n"
      ]
    },
    {
      "cell_type": "code",
      "metadata": {
        "colab": {
          "base_uri": "https://localhost:8080/",
          "height": 36
        },
        "id": "s2C77JRSCwL-",
        "outputId": "8a875ce9-1f68-48c5-a7a2-fabfb3065d60"
      },
      "source": [
        "import numpy as np\n",
        "import pandas as pd\n",
        "pd.__version__"
      ],
      "execution_count": 2,
      "outputs": [
        {
          "output_type": "execute_result",
          "data": {
            "application/vnd.google.colaboratory.intrinsic+json": {
              "type": "string"
            },
            "text/plain": [
              "'1.1.5'"
            ]
          },
          "metadata": {
            "tags": []
          },
          "execution_count": 2
        }
      ]
    },
    {
      "cell_type": "markdown",
      "metadata": {
        "id": "AODjBZPDEuyn"
      },
      "source": [
        "# Creating Series\n",
        "## Series using list"
      ]
    },
    {
      "cell_type": "code",
      "metadata": {
        "colab": {
          "base_uri": "https://localhost:8080/"
        },
        "id": "G3tD_WC7C4Ue",
        "outputId": "abc14f30-2a88-463e-a29b-860f8aab9f69"
      },
      "source": [
        "s = pd.Series(data=list('abcdef'))\n",
        "print(s)\n",
        "\n",
        "s1 = pd.Series(data=list('abcdef'), index=[5,6,7,8,9,10])\n",
        "print(s1)\n",
        "\n",
        "s2 = pd.Series(data=['a','b','c','d','e','f'], index=[5,6,7,8,9,10])\n",
        "print(s2)\n",
        "\n",
        "print(s1+s2)"
      ],
      "execution_count": 46,
      "outputs": [
        {
          "output_type": "stream",
          "text": [
            "0    a\n",
            "1    b\n",
            "2    c\n",
            "3    d\n",
            "4    e\n",
            "5    f\n",
            "dtype: object\n",
            "5     a\n",
            "6     b\n",
            "7     c\n",
            "8     d\n",
            "9     e\n",
            "10    f\n",
            "dtype: object\n",
            "5     a\n",
            "6     b\n",
            "7     c\n",
            "8     d\n",
            "9     e\n",
            "10    f\n",
            "dtype: object\n",
            "5     aa\n",
            "6     bb\n",
            "7     cc\n",
            "8     dd\n",
            "9     ee\n",
            "10    ff\n",
            "dtype: object\n"
          ],
          "name": "stdout"
        }
      ]
    },
    {
      "cell_type": "markdown",
      "metadata": {
        "id": "bsp6n_b-HEEM"
      },
      "source": [
        "## Series using 1d array"
      ]
    },
    {
      "cell_type": "code",
      "metadata": {
        "colab": {
          "base_uri": "https://localhost:8080/"
        },
        "id": "rsPmrpNQEkR3",
        "outputId": "20b12569-ed28-4f85-e318-79070f5089cd"
      },
      "source": [
        "arr = np.array(['abc','def','ghi','jkl'])\n",
        "s = pd.Series(data=arr)\n",
        "print(s)\n",
        "\n",
        "print('\\n')\n",
        "# Access Ist element\n",
        "print(s[1])"
      ],
      "execution_count": 30,
      "outputs": [
        {
          "output_type": "stream",
          "text": [
            "0    abc\n",
            "1    def\n",
            "2    ghi\n",
            "3    jkl\n",
            "dtype: object\n",
            "\n",
            "\n",
            "def\n"
          ],
          "name": "stdout"
        }
      ]
    },
    {
      "cell_type": "markdown",
      "metadata": {
        "id": "roHPhSjtIaEr"
      },
      "source": [
        "## Series using dictionary"
      ]
    },
    {
      "cell_type": "code",
      "metadata": {
        "colab": {
          "base_uri": "https://localhost:8080/"
        },
        "id": "PqP0huA2F3tg",
        "outputId": "2591db59-4936-4115-a6e0-3029cb1dd3f8"
      },
      "source": [
        "# create a dictionary \n",
        "dict = {'A' : 10, 'B' : 20, 'C' : 30} \n",
        "s = pd.Series(data=dict)\n",
        "print(s)\n",
        "  \n",
        "# create a series with index\n",
        "series = pd.Series(dict, index=['B', 'C', 'A']) \n",
        "print(series)\n",
        "\n",
        "# Accessing Series elements. Series can be accessed using index name as well using index position\n",
        "print(series[0])\n",
        "print(series['A'])\n",
        "print(series[0:2])\n",
        "\n",
        "print(series.loc['A'])   # Access data by lookup\n",
        "print(series.iloc[0])    # Access data by position\n",
        "\n",
        "# create a series with index. Notice the data changed to float beause NAN could be any number\n",
        "s1 = pd.Series(dict, index=['A', 'B', 'C', 'D', 'E']) \n",
        "print(s1)\n",
        "\n",
        "# Vector operation\n",
        "print(s+series)"
      ],
      "execution_count": 47,
      "outputs": [
        {
          "output_type": "stream",
          "text": [
            "A    10\n",
            "B    20\n",
            "C    30\n",
            "dtype: int64\n",
            "B    20\n",
            "C    30\n",
            "A    10\n",
            "dtype: int64\n",
            "20\n",
            "10\n",
            "B    20\n",
            "C    30\n",
            "dtype: int64\n",
            "10\n",
            "20\n",
            "A    10.0\n",
            "B    20.0\n",
            "C    30.0\n",
            "D     NaN\n",
            "E     NaN\n",
            "dtype: float64\n",
            "A    20\n",
            "B    40\n",
            "C    60\n",
            "dtype: int64\n"
          ],
          "name": "stdout"
        }
      ]
    },
    {
      "cell_type": "markdown",
      "metadata": {
        "id": "Tqdwz7iNI-Ef"
      },
      "source": [
        "## Series using scalar"
      ]
    },
    {
      "cell_type": "code",
      "metadata": {
        "colab": {
          "base_uri": "https://localhost:8080/"
        },
        "id": "fYNpBMjPHbJt",
        "outputId": "5f51a4a2-d059-46a2-acae-bbd4997b4ea8"
      },
      "source": [
        "s = pd.Series(data=1, index=['a','b','c'])\n",
        "print(s)"
      ],
      "execution_count": 22,
      "outputs": [
        {
          "output_type": "execute_result",
          "data": {
            "text/plain": [
              "a    1\n",
              "b    1\n",
              "c    1\n",
              "dtype: int64"
            ]
          },
          "metadata": {
            "tags": []
          },
          "execution_count": 22
        }
      ]
    },
    {
      "cell_type": "markdown",
      "metadata": {
        "id": "ls3sxb7YO0Ux"
      },
      "source": [
        "# Dataframes: It is a 2d labeled data structure with columns of same or different data Types\n",
        "**Supported Data Types:** integer, string, float, python object <br>\n",
        "**Supported Data Inputs:** nd array, dict, list, Series, DataFrame"
      ]
    },
    {
      "cell_type": "code",
      "metadata": {
        "colab": {
          "base_uri": "https://localhost:8080/"
        },
        "id": "3aHWA1mQIzkK",
        "outputId": "fe138092-0118-4f6b-ee54-b62e9de8baef"
      },
      "source": [
        "dict = {'name':['name1','name2', 'name3'], 'age':[20,30,40]}\n",
        "df = pd.DataFrame(dict)\n",
        "print(df)"
      ],
      "execution_count": 52,
      "outputs": [
        {
          "output_type": "stream",
          "text": [
            "    name  age\n",
            "0  name1   20\n",
            "1  name2   30\n",
            "2  name3   40\n"
          ],
          "name": "stdout"
        }
      ]
    },
    {
      "cell_type": "code",
      "metadata": {
        "id": "GwpX3HZDQdu7"
      },
      "source": [
        ""
      ],
      "execution_count": null,
      "outputs": []
    }
  ]
}